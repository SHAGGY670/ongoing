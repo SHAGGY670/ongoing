{
  "nbformat": 4,
  "nbformat_minor": 5,
  "metadata": {
    "kernelspec": {
      "display_name": "Python 3",
      "language": "python",
      "name": "python3"
    },
    "language_info": {
      "codemirror_mode": {
        "name": "ipython",
        "version": 3
      },
      "file_extension": ".py",
      "mimetype": "text/x-python",
      "name": "python",
      "nbconvert_exporter": "python",
      "pygments_lexer": "ipython3",
      "version": "3.8.5"
    },
    "colab": {
      "name": "Pandas.ipynb",
      "provenance": [],
      "collapsed_sections": [],
      "include_colab_link": true
    }
  },
  "cells": [
    {
      "cell_type": "markdown",
      "metadata": {
        "id": "view-in-github",
        "colab_type": "text"
      },
      "source": [
        "<a href=\"https://colab.research.google.com/github/SHAGGY670/ongoing/blob/master/Pandas.ipynb\" target=\"_parent\"><img src=\"https://colab.research.google.com/assets/colab-badge.svg\" alt=\"Open In Colab\"/></a>"
      ]
    },
    {
      "cell_type": "markdown",
      "metadata": {
        "id": "PFQaJxT0DQo2"
      },
      "source": [
        "# <center><u>Pandas <u> </center>"
      ],
      "id": "PFQaJxT0DQo2"
    },
    {
      "cell_type": "markdown",
      "metadata": {
        "id": "WUeT0De2DQo8"
      },
      "source": [
        "## 1.[Pandas Series](https://pandas.pydata.org/pandas-docs/stable/reference/series.html)"
      ],
      "id": "WUeT0De2DQo8"
    },
    {
      "cell_type": "markdown",
      "metadata": {
        "id": "DZ-XwCDfDQo9"
      },
      "source": [
        "resource - https://www.youtube.com/watch?v=m7gxnZx2vT4"
      ],
      "id": "DZ-XwCDfDQo9"
    },
    {
      "cell_type": "markdown",
      "metadata": {
        "id": "g6zEFthKDQo9"
      },
      "source": [
        "<p style='text-align: right;'> 1*4=4 points</p>\n"
      ],
      "id": "g6zEFthKDQo9"
    },
    {
      "cell_type": "markdown",
      "metadata": {
        "id": "TjhzjdDvDQo-"
      },
      "source": [
        "Import pandas and numpy with their aliases"
      ],
      "id": "TjhzjdDvDQo-"
    },
    {
      "cell_type": "code",
      "metadata": {
        "id": "mdYfG_pADQo_"
      },
      "source": [
        "import pandas as pd\n",
        "import numpy as np"
      ],
      "id": "mdYfG_pADQo_",
      "execution_count": null,
      "outputs": []
    },
    {
      "cell_type": "markdown",
      "metadata": {
        "id": "olIRjqGVDQo_"
      },
      "source": [
        "Create a variable a = pd.Series([ 100, 200, 300, 400])"
      ],
      "id": "olIRjqGVDQo_"
    },
    {
      "cell_type": "code",
      "metadata": {
        "id": "QzlVdnjrDQpA"
      },
      "source": [
        "a=pd.Series([100,200,300,400])"
      ],
      "id": "QzlVdnjrDQpA",
      "execution_count": null,
      "outputs": []
    },
    {
      "cell_type": "markdown",
      "metadata": {
        "id": "WxNAq2IkDQpA"
      },
      "source": [
        "Print a, and data type"
      ],
      "id": "WxNAq2IkDQpA"
    },
    {
      "cell_type": "code",
      "metadata": {
        "colab": {
          "base_uri": "https://localhost:8080/"
        },
        "id": "1BXHlkl0DQpB",
        "outputId": "ef76cda3-c7a9-494b-d3aa-76c1d347d01b"
      },
      "source": [
        "print(a)\n",
        "print(type(a))"
      ],
      "id": "1BXHlkl0DQpB",
      "execution_count": null,
      "outputs": [
        {
          "output_type": "stream",
          "text": [
            "0    100\n",
            "1    200\n",
            "2    300\n",
            "3    400\n",
            "dtype: int64\n",
            "<class 'pandas.core.series.Series'>\n"
          ],
          "name": "stdout"
        }
      ]
    },
    {
      "cell_type": "markdown",
      "metadata": {
        "id": "8mmLlztlDQpC"
      },
      "source": [
        "Using indexing access the element 300 from the series a."
      ],
      "id": "8mmLlztlDQpC"
    },
    {
      "cell_type": "code",
      "metadata": {
        "colab": {
          "base_uri": "https://localhost:8080/"
        },
        "id": "bcsc41SoDQpD",
        "outputId": "8c1ee07f-369d-4250-ef66-a642b49da59c"
      },
      "source": [
        "print(a[2])"
      ],
      "id": "bcsc41SoDQpD",
      "execution_count": null,
      "outputs": [
        {
          "output_type": "stream",
          "text": [
            "300\n"
          ],
          "name": "stdout"
        }
      ]
    },
    {
      "cell_type": "markdown",
      "metadata": {
        "id": "X7U8IUlTDQpE"
      },
      "source": [
        "What are the values of index for series a?"
      ],
      "id": "X7U8IUlTDQpE"
    },
    {
      "cell_type": "markdown",
      "metadata": {
        "id": "ZahkKNPvDQpE"
      },
      "source": [
        "<p style='text-align: right;'> 2*4 = 8 points</p>\n"
      ],
      "id": "ZahkKNPvDQpE"
    },
    {
      "cell_type": "code",
      "metadata": {
        "colab": {
          "base_uri": "https://localhost:8080/"
        },
        "id": "x6xQcWIgDQpE",
        "outputId": "de9c838e-ba1a-4163-a717-1d29e4d16a0c"
      },
      "source": [
        "print(a.index)"
      ],
      "id": "x6xQcWIgDQpE",
      "execution_count": null,
      "outputs": [
        {
          "output_type": "stream",
          "text": [
            "RangeIndex(start=0, stop=4, step=1)\n"
          ],
          "name": "stdout"
        }
      ]
    },
    {
      "cell_type": "markdown",
      "metadata": {
        "id": "YKxGuTffDQpF"
      },
      "source": [
        "Change the index to  ['c', 'a', 'b', 'd']"
      ],
      "id": "YKxGuTffDQpF"
    },
    {
      "cell_type": "code",
      "metadata": {
        "colab": {
          "base_uri": "https://localhost:8080/"
        },
        "id": "KJRn3nU5DQpF",
        "outputId": "b8cda554-c6b0-4819-d900-d1487c139d62"
      },
      "source": [
        "a=pd.Series([100,200,300,400],index=['c','a','b','d'])\n",
        "print(a)"
      ],
      "id": "KJRn3nU5DQpF",
      "execution_count": null,
      "outputs": [
        {
          "output_type": "stream",
          "text": [
            "c    100\n",
            "a    200\n",
            "b    300\n",
            "d    400\n",
            "dtype: int64\n"
          ],
          "name": "stdout"
        }
      ]
    },
    {
      "cell_type": "markdown",
      "metadata": {
        "id": "R-hQRNBXDQpG"
      },
      "source": [
        "Access the value in the series with index 'd'"
      ],
      "id": "R-hQRNBXDQpG"
    },
    {
      "cell_type": "code",
      "metadata": {
        "colab": {
          "base_uri": "https://localhost:8080/"
        },
        "id": "OD-JRwRdDQpG",
        "outputId": "e1b07029-e901-4a06-baf1-8a61fcdc50c7"
      },
      "source": [
        "print(a['d'])"
      ],
      "id": "OD-JRwRdDQpG",
      "execution_count": null,
      "outputs": [
        {
          "output_type": "stream",
          "text": [
            "400\n"
          ],
          "name": "stdout"
        }
      ]
    },
    {
      "cell_type": "markdown",
      "metadata": {
        "id": "NBt4Qtg0DQpG"
      },
      "source": [
        "Sort the values wrt to the index and print it"
      ],
      "id": "NBt4Qtg0DQpG"
    },
    {
      "cell_type": "code",
      "metadata": {
        "colab": {
          "base_uri": "https://localhost:8080/"
        },
        "id": "4EDnrLUQDQpH",
        "outputId": "3a98446a-f5ff-4065-e9b3-d7c687d21e79"
      },
      "source": [
        "print(a.sort_index())"
      ],
      "id": "4EDnrLUQDQpH",
      "execution_count": null,
      "outputs": [
        {
          "output_type": "stream",
          "text": [
            "a    200\n",
            "b    300\n",
            "c    100\n",
            "d    400\n",
            "dtype: int64\n"
          ],
          "name": "stdout"
        }
      ]
    },
    {
      "cell_type": "markdown",
      "metadata": {
        "id": "2BhHYIZTDQpH"
      },
      "source": [
        "Create a new Pandas Series b having index as 'e', 'f', and 'g' and value 800,450,100 and print it"
      ],
      "id": "2BhHYIZTDQpH"
    },
    {
      "cell_type": "markdown",
      "metadata": {
        "id": "TAZn18qzDQpH"
      },
      "source": [
        "<p style='text-align: right;'> 4*2=8 points</p>\n"
      ],
      "id": "TAZn18qzDQpH"
    },
    {
      "cell_type": "code",
      "metadata": {
        "colab": {
          "base_uri": "https://localhost:8080/"
        },
        "id": "Om8ETL1cDQpI",
        "outputId": "bc3fa2f3-57f3-460b-b3fa-0141ce7ccab9"
      },
      "source": [
        "b=pd.Series({'e':800,'f':450,'g':100})\n",
        "print(b)"
      ],
      "id": "Om8ETL1cDQpI",
      "execution_count": null,
      "outputs": [
        {
          "output_type": "stream",
          "text": [
            "e    800\n",
            "f    450\n",
            "g    100\n",
            "dtype: int64\n"
          ],
          "name": "stdout"
        }
      ]
    },
    {
      "cell_type": "markdown",
      "metadata": {
        "id": "5rsyw2TTDQpI"
      },
      "source": [
        "Append b series at the end of a series"
      ],
      "id": "5rsyw2TTDQpI"
    },
    {
      "cell_type": "code",
      "metadata": {
        "colab": {
          "base_uri": "https://localhost:8080/"
        },
        "id": "Cetoqn0QDQpJ",
        "outputId": "44eba779-7b8c-4a94-df58-e710d4d55e02"
      },
      "source": [
        "pd.concat([a,b])"
      ],
      "id": "Cetoqn0QDQpJ",
      "execution_count": null,
      "outputs": [
        {
          "output_type": "execute_result",
          "data": {
            "text/plain": [
              "c    100\n",
              "a    200\n",
              "b    300\n",
              "d    400\n",
              "e    800\n",
              "f    450\n",
              "g    100\n",
              "dtype: int64"
            ]
          },
          "metadata": {
            "tags": []
          },
          "execution_count": 11
        }
      ]
    },
    {
      "cell_type": "code",
      "metadata": {
        "colab": {
          "base_uri": "https://localhost:8080/"
        },
        "id": "zS9kanZSDQpJ",
        "outputId": "f368f31c-a152-43ea-ba85-1e29e492f62b"
      },
      "source": [
        "#print a again after appending b into it\n",
        "a=pd.concat([a,b])\n",
        "print(a)"
      ],
      "id": "zS9kanZSDQpJ",
      "execution_count": null,
      "outputs": [
        {
          "output_type": "stream",
          "text": [
            "c    100\n",
            "a    200\n",
            "b    300\n",
            "d    400\n",
            "e    800\n",
            "f    450\n",
            "g    100\n",
            "dtype: int64\n"
          ],
          "name": "stdout"
        }
      ]
    },
    {
      "cell_type": "markdown",
      "metadata": {
        "id": "URWZjA2ADQpK"
      },
      "source": [
        "Sort the values in descending order of a and print the index of the sorted series"
      ],
      "id": "URWZjA2ADQpK"
    },
    {
      "cell_type": "code",
      "metadata": {
        "colab": {
          "base_uri": "https://localhost:8080/"
        },
        "id": "rk_LyG1iDQpK",
        "outputId": "c63bb98a-7a49-40f0-896e-d71c2ea3c84a"
      },
      "source": [
        "print(a.sort_values(ascending=False))"
      ],
      "id": "rk_LyG1iDQpK",
      "execution_count": null,
      "outputs": [
        {
          "output_type": "stream",
          "text": [
            "e    800\n",
            "f    450\n",
            "d    400\n",
            "b    300\n",
            "a    200\n",
            "g    100\n",
            "c    100\n",
            "dtype: int64\n"
          ],
          "name": "stdout"
        }
      ]
    },
    {
      "cell_type": "code",
      "metadata": {
        "colab": {
          "base_uri": "https://localhost:8080/"
        },
        "id": "IH4RpS1VDQpK",
        "outputId": "15ad557f-cbd1-4836-cab3-29dfd6ffec61"
      },
      "source": [
        "# print index of a\n",
        "\n",
        "print(a.index)"
      ],
      "id": "IH4RpS1VDQpK",
      "execution_count": null,
      "outputs": [
        {
          "output_type": "stream",
          "text": [
            "Index(['c', 'a', 'b', 'd', 'e', 'f', 'g'], dtype='object')\n"
          ],
          "name": "stdout"
        }
      ]
    },
    {
      "cell_type": "markdown",
      "metadata": {
        "id": "A15NwbblDQpL"
      },
      "source": [
        "## 2. [Pandas DataFrame](https://pandas.pydata.org/pandas-docs/stable/reference/api/pandas.DataFrame.html)\n",
        "\n",
        "Reference:-https://www.youtube.com/watch?v=KB-19V-cSs4"
      ],
      "id": "A15NwbblDQpL"
    },
    {
      "cell_type": "markdown",
      "metadata": {
        "id": "SRrfpZ3WDQpL"
      },
      "source": [
        "<p style='text-align: right;'> 8*2 = 16 points</p>\n"
      ],
      "id": "SRrfpZ3WDQpL"
    },
    {
      "cell_type": "markdown",
      "metadata": {
        "id": "vjo6CkrbDQpM"
      },
      "source": [
        "### Part 1"
      ],
      "id": "vjo6CkrbDQpM"
    },
    {
      "cell_type": "markdown",
      "metadata": {
        "id": "DvSkpYcMDQpM"
      },
      "source": [
        "<p style='text-align: right;'> 5 points</p>\n"
      ],
      "id": "DvSkpYcMDQpM"
    },
    {
      "cell_type": "markdown",
      "metadata": {
        "id": "oqexFbXnDQpN"
      },
      "source": [
        "Create a pandas dataframe df from the series 'a' that we used in the last section, print the dataframe"
      ],
      "id": "oqexFbXnDQpN"
    },
    {
      "cell_type": "code",
      "metadata": {
        "colab": {
          "base_uri": "https://localhost:8080/"
        },
        "id": "2HdKdWiCDQpN",
        "outputId": "1161770d-3af0-4c08-8ada-fc19be1b92cd"
      },
      "source": [
        "df=pd.DataFrame(a)\n",
        "print(df)"
      ],
      "id": "2HdKdWiCDQpN",
      "execution_count": null,
      "outputs": [
        {
          "output_type": "stream",
          "text": [
            "     0\n",
            "c  100\n",
            "a  200\n",
            "b  300\n",
            "d  400\n",
            "e  800\n",
            "f  450\n",
            "g  100\n"
          ],
          "name": "stdout"
        }
      ]
    },
    {
      "cell_type": "markdown",
      "metadata": {
        "id": "IwTkoTWdDQpN"
      },
      "source": [
        "Point to ponder! Don't you think series a and dataframe df looks alike? But there must be some difference between them. \n",
        "Hey buddy think and write your thoughts below."
      ],
      "id": "IwTkoTWdDQpN"
    },
    {
      "cell_type": "code",
      "metadata": {
        "colab": {
          "base_uri": "https://localhost:8080/"
        },
        "id": "QL559--VDQpO",
        "outputId": "d727afa4-1087-45ea-98af-6db66eb8e667"
      },
      "source": [
        "# happy to know your comment\n",
        "\n",
        "print('series is a single column dataframe whereas dataframe holds the possibility of multiple colums')"
      ],
      "id": "QL559--VDQpO",
      "execution_count": null,
      "outputs": [
        {
          "output_type": "stream",
          "text": [
            "series is a single column dataframe whereas dataframe holds the possibility of multiple colums\n"
          ],
          "name": "stdout"
        }
      ]
    },
    {
      "cell_type": "markdown",
      "metadata": {
        "id": "TlLAU0k_DQpO"
      },
      "source": [
        "<p style='text-align: right;'> 2 + 1*4 = 6 points</p>\n"
      ],
      "id": "TlLAU0k_DQpO"
    },
    {
      "cell_type": "markdown",
      "metadata": {
        "id": "6yoNHVdyDQpP"
      },
      "source": [
        "What is the shape of the datafarme <br>\n"
      ],
      "id": "6yoNHVdyDQpP"
    },
    {
      "cell_type": "code",
      "metadata": {
        "colab": {
          "base_uri": "https://localhost:8080/"
        },
        "id": "aV0P0GmQDQpP",
        "outputId": "f69a26c9-101e-4b5a-ee8c-a0946315edb6"
      },
      "source": [
        "df.shape"
      ],
      "id": "aV0P0GmQDQpP",
      "execution_count": null,
      "outputs": [
        {
          "output_type": "execute_result",
          "data": {
            "text/plain": [
              "(7, 1)"
            ]
          },
          "metadata": {
            "tags": []
          },
          "execution_count": 17
        }
      ]
    },
    {
      "cell_type": "markdown",
      "metadata": {
        "id": "ihB_gNrBDQpP"
      },
      "source": [
        "Hey! remember shape (7,1) implies dataframe has 7 rows and 1 column. "
      ],
      "id": "ihB_gNrBDQpP"
    },
    {
      "cell_type": "markdown",
      "metadata": {
        "id": "ViTs85CfDQpP"
      },
      "source": [
        "What is the index of the dataframe, is it same as the series 'a' ?"
      ],
      "id": "ViTs85CfDQpP"
    },
    {
      "cell_type": "code",
      "metadata": {
        "colab": {
          "base_uri": "https://localhost:8080/"
        },
        "id": "57YR6fqhDQpQ",
        "outputId": "97d9609b-4423-4c52-90f2-999dbbda3c2a"
      },
      "source": [
        "id1=df.index\n",
        "id2=a.index\n",
        "print(id1.equals(id2))"
      ],
      "id": "57YR6fqhDQpQ",
      "execution_count": null,
      "outputs": [
        {
          "output_type": "stream",
          "text": [
            "True\n"
          ],
          "name": "stdout"
        }
      ]
    },
    {
      "cell_type": "markdown",
      "metadata": {
        "id": "MdH1x7S-DQpQ"
      },
      "source": [
        "print the head and tail of the dataframe. <br>\n",
        "Additional - (what does head and tali represent?)"
      ],
      "id": "MdH1x7S-DQpQ"
    },
    {
      "cell_type": "code",
      "metadata": {
        "colab": {
          "base_uri": "https://localhost:8080/",
          "height": 203
        },
        "id": "08IPg-6iDQpQ",
        "outputId": "b949dae8-f985-427c-eacd-405be5049315"
      },
      "source": [
        "#head\n",
        "df.head()"
      ],
      "id": "08IPg-6iDQpQ",
      "execution_count": null,
      "outputs": [
        {
          "output_type": "execute_result",
          "data": {
            "text/html": [
              "<div>\n",
              "<style scoped>\n",
              "    .dataframe tbody tr th:only-of-type {\n",
              "        vertical-align: middle;\n",
              "    }\n",
              "\n",
              "    .dataframe tbody tr th {\n",
              "        vertical-align: top;\n",
              "    }\n",
              "\n",
              "    .dataframe thead th {\n",
              "        text-align: right;\n",
              "    }\n",
              "</style>\n",
              "<table border=\"1\" class=\"dataframe\">\n",
              "  <thead>\n",
              "    <tr style=\"text-align: right;\">\n",
              "      <th></th>\n",
              "      <th>0</th>\n",
              "    </tr>\n",
              "  </thead>\n",
              "  <tbody>\n",
              "    <tr>\n",
              "      <th>c</th>\n",
              "      <td>100</td>\n",
              "    </tr>\n",
              "    <tr>\n",
              "      <th>a</th>\n",
              "      <td>200</td>\n",
              "    </tr>\n",
              "    <tr>\n",
              "      <th>b</th>\n",
              "      <td>300</td>\n",
              "    </tr>\n",
              "    <tr>\n",
              "      <th>d</th>\n",
              "      <td>400</td>\n",
              "    </tr>\n",
              "    <tr>\n",
              "      <th>e</th>\n",
              "      <td>800</td>\n",
              "    </tr>\n",
              "  </tbody>\n",
              "</table>\n",
              "</div>"
            ],
            "text/plain": [
              "     0\n",
              "c  100\n",
              "a  200\n",
              "b  300\n",
              "d  400\n",
              "e  800"
            ]
          },
          "metadata": {
            "tags": []
          },
          "execution_count": 19
        }
      ]
    },
    {
      "cell_type": "code",
      "metadata": {
        "colab": {
          "base_uri": "https://localhost:8080/",
          "height": 203
        },
        "id": "GARYfdyzDQpR",
        "outputId": "9b48bc43-8136-4f8d-c0e8-fabfb84796c9"
      },
      "source": [
        "#tail\n",
        "df.tail()"
      ],
      "id": "GARYfdyzDQpR",
      "execution_count": null,
      "outputs": [
        {
          "output_type": "execute_result",
          "data": {
            "text/html": [
              "<div>\n",
              "<style scoped>\n",
              "    .dataframe tbody tr th:only-of-type {\n",
              "        vertical-align: middle;\n",
              "    }\n",
              "\n",
              "    .dataframe tbody tr th {\n",
              "        vertical-align: top;\n",
              "    }\n",
              "\n",
              "    .dataframe thead th {\n",
              "        text-align: right;\n",
              "    }\n",
              "</style>\n",
              "<table border=\"1\" class=\"dataframe\">\n",
              "  <thead>\n",
              "    <tr style=\"text-align: right;\">\n",
              "      <th></th>\n",
              "      <th>0</th>\n",
              "    </tr>\n",
              "  </thead>\n",
              "  <tbody>\n",
              "    <tr>\n",
              "      <th>b</th>\n",
              "      <td>300</td>\n",
              "    </tr>\n",
              "    <tr>\n",
              "      <th>d</th>\n",
              "      <td>400</td>\n",
              "    </tr>\n",
              "    <tr>\n",
              "      <th>e</th>\n",
              "      <td>800</td>\n",
              "    </tr>\n",
              "    <tr>\n",
              "      <th>f</th>\n",
              "      <td>450</td>\n",
              "    </tr>\n",
              "    <tr>\n",
              "      <th>g</th>\n",
              "      <td>100</td>\n",
              "    </tr>\n",
              "  </tbody>\n",
              "</table>\n",
              "</div>"
            ],
            "text/plain": [
              "     0\n",
              "b  300\n",
              "d  400\n",
              "e  800\n",
              "f  450\n",
              "g  100"
            ]
          },
          "metadata": {
            "tags": []
          },
          "execution_count": 20
        }
      ]
    },
    {
      "cell_type": "markdown",
      "metadata": {
        "id": "-Wl7onmVDQpR"
      },
      "source": [
        "Rename the columns of the dataframe as 'points'"
      ],
      "id": "-Wl7onmVDQpR"
    },
    {
      "cell_type": "markdown",
      "metadata": {
        "id": "r77OevHDDQpR"
      },
      "source": [
        "<p style='text-align: right;'> 2 points</p>\n"
      ],
      "id": "r77OevHDDQpR"
    },
    {
      "cell_type": "code",
      "metadata": {
        "colab": {
          "base_uri": "https://localhost:8080/",
          "height": 265
        },
        "id": "NDietHQqDQpS",
        "outputId": "76cef595-19be-4820-af50-582d77e474c4"
      },
      "source": [
        "df.rename(columns={0:'points'})"
      ],
      "id": "NDietHQqDQpS",
      "execution_count": null,
      "outputs": [
        {
          "output_type": "execute_result",
          "data": {
            "text/html": [
              "<div>\n",
              "<style scoped>\n",
              "    .dataframe tbody tr th:only-of-type {\n",
              "        vertical-align: middle;\n",
              "    }\n",
              "\n",
              "    .dataframe tbody tr th {\n",
              "        vertical-align: top;\n",
              "    }\n",
              "\n",
              "    .dataframe thead th {\n",
              "        text-align: right;\n",
              "    }\n",
              "</style>\n",
              "<table border=\"1\" class=\"dataframe\">\n",
              "  <thead>\n",
              "    <tr style=\"text-align: right;\">\n",
              "      <th></th>\n",
              "      <th>points</th>\n",
              "    </tr>\n",
              "  </thead>\n",
              "  <tbody>\n",
              "    <tr>\n",
              "      <th>c</th>\n",
              "      <td>100</td>\n",
              "    </tr>\n",
              "    <tr>\n",
              "      <th>a</th>\n",
              "      <td>200</td>\n",
              "    </tr>\n",
              "    <tr>\n",
              "      <th>b</th>\n",
              "      <td>300</td>\n",
              "    </tr>\n",
              "    <tr>\n",
              "      <th>d</th>\n",
              "      <td>400</td>\n",
              "    </tr>\n",
              "    <tr>\n",
              "      <th>e</th>\n",
              "      <td>800</td>\n",
              "    </tr>\n",
              "    <tr>\n",
              "      <th>f</th>\n",
              "      <td>450</td>\n",
              "    </tr>\n",
              "    <tr>\n",
              "      <th>g</th>\n",
              "      <td>100</td>\n",
              "    </tr>\n",
              "  </tbody>\n",
              "</table>\n",
              "</div>"
            ],
            "text/plain": [
              "   points\n",
              "c     100\n",
              "a     200\n",
              "b     300\n",
              "d     400\n",
              "e     800\n",
              "f     450\n",
              "g     100"
            ]
          },
          "metadata": {
            "tags": []
          },
          "execution_count": 21
        }
      ]
    },
    {
      "cell_type": "markdown",
      "metadata": {
        "id": "dRsk4aEdDQpS"
      },
      "source": [
        "Create another Series 'fruits', which contains random names of fruits from ['orange','mango','apple']. The series should contain 7 elements, randomly selected from ['orange','mango','apple']"
      ],
      "id": "dRsk4aEdDQpS"
    },
    {
      "cell_type": "markdown",
      "metadata": {
        "id": "NWRRYGfmDQpS"
      },
      "source": [
        "<p style='text-align: right;'> 5 points</p>\n"
      ],
      "id": "NWRRYGfmDQpS"
    },
    {
      "cell_type": "code",
      "metadata": {
        "colab": {
          "base_uri": "https://localhost:8080/"
        },
        "id": "JsL8UvvDDQpT",
        "outputId": "68867d2a-3037-490d-b3bb-2e8b61e4f534"
      },
      "source": [
        "#Create fruits array\n",
        "fruits=np.random.choice(['orange','mango','apple'],7)\n",
        "print(fruits)"
      ],
      "id": "JsL8UvvDDQpT",
      "execution_count": null,
      "outputs": [
        {
          "output_type": "stream",
          "text": [
            "['mango' 'orange' 'orange' 'orange' 'apple' 'apple' 'mango']\n"
          ],
          "name": "stdout"
        }
      ]
    },
    {
      "cell_type": "markdown",
      "metadata": {
        "id": "E9Rdv1b8DQpT"
      },
      "source": [
        "The above output might vary based randomness"
      ],
      "id": "E9Rdv1b8DQpT"
    },
    {
      "cell_type": "code",
      "metadata": {
        "id": "pdrhw8D3DQpU"
      },
      "source": [
        "#Create series fruits out of fruits array\n",
        "fs=pd.Series(fruits)"
      ],
      "id": "pdrhw8D3DQpU",
      "execution_count": null,
      "outputs": []
    },
    {
      "cell_type": "markdown",
      "metadata": {
        "id": "_m3dcbUFDQpU"
      },
      "source": [
        "Change the index of fruits to the index of dataframe df"
      ],
      "id": "_m3dcbUFDQpU"
    },
    {
      "cell_type": "markdown",
      "metadata": {
        "id": "KEkBJDUPDQpV"
      },
      "source": [
        "<p style='text-align: right;'> 5 points</p>\n"
      ],
      "id": "KEkBJDUPDQpV"
    },
    {
      "cell_type": "code",
      "metadata": {
        "colab": {
          "base_uri": "https://localhost:8080/"
        },
        "id": "P8vEY_JCDQpV",
        "outputId": "c868cf38-f768-4d95-ac02-f7afd6a0dd7d"
      },
      "source": [
        "fs.index=df.index\n",
        "print(fs)"
      ],
      "id": "P8vEY_JCDQpV",
      "execution_count": null,
      "outputs": [
        {
          "output_type": "stream",
          "text": [
            "c     mango\n",
            "a    orange\n",
            "b    orange\n",
            "d    orange\n",
            "e     apple\n",
            "f     apple\n",
            "g     mango\n",
            "dtype: object\n"
          ],
          "name": "stdout"
        }
      ]
    },
    {
      "cell_type": "markdown",
      "metadata": {
        "id": "dk3FRyDxDQpW"
      },
      "source": [
        "Add this fruits series as a new column to the dataframe df with its column name as 'fruits' <br> print the head of the dataframe to verify"
      ],
      "id": "dk3FRyDxDQpW"
    },
    {
      "cell_type": "code",
      "metadata": {
        "colab": {
          "base_uri": "https://localhost:8080/"
        },
        "id": "V7Kn5tVMDQpW",
        "outputId": "db9e5a61-525e-43d9-94a2-e1adebd3aee3"
      },
      "source": [
        "df['fruits']=fs\n",
        "print(df)"
      ],
      "id": "V7Kn5tVMDQpW",
      "execution_count": null,
      "outputs": [
        {
          "output_type": "stream",
          "text": [
            "     0  fruits\n",
            "c  100   mango\n",
            "a  200  orange\n",
            "b  300  orange\n",
            "d  400  orange\n",
            "e  800   apple\n",
            "f  450   apple\n",
            "g  100   mango\n"
          ],
          "name": "stdout"
        }
      ]
    },
    {
      "cell_type": "markdown",
      "metadata": {
        "id": "DOIyvwqFDQpX"
      },
      "source": [
        "<u>Bonus optional question:</u> <br>\n",
        "What if we had to changed the index of the dataframe? <br>\n",
        "Try to add any series to the dataframe with the origianl index (when index of series is not same as to the index of dataframe)\n",
        "\n",
        "Use series as pd.Series([100,200,300,400,500,600,700]) and try to add it to df with column name Bonus_number.\n",
        "\n",
        "Bonus marks: 5 points"
      ],
      "id": "DOIyvwqFDQpX"
    },
    {
      "cell_type": "code",
      "metadata": {
        "colab": {
          "base_uri": "https://localhost:8080/",
          "height": 234
        },
        "id": "3QNBkribDQpX",
        "outputId": "04c977cf-81b4-4535-b565-1995c0cb52df"
      },
      "source": [
        "#bonus code here\n",
        "df=pd.DataFrame(['mango','apple','orange','mango','mango','orange'])#no of elements here is 6\n",
        "x=pd.DataFrame([100,200,300,400,500,600,700])#no of elements here is 7\n",
        "df['bonus_number']=x  #trying to add 7 elements on a dataframe of 6 elements4\n",
        "df\n",
        "\n",
        "\n",
        "\n"
      ],
      "id": "3QNBkribDQpX",
      "execution_count": null,
      "outputs": [
        {
          "output_type": "execute_result",
          "data": {
            "text/html": [
              "<div>\n",
              "<style scoped>\n",
              "    .dataframe tbody tr th:only-of-type {\n",
              "        vertical-align: middle;\n",
              "    }\n",
              "\n",
              "    .dataframe tbody tr th {\n",
              "        vertical-align: top;\n",
              "    }\n",
              "\n",
              "    .dataframe thead th {\n",
              "        text-align: right;\n",
              "    }\n",
              "</style>\n",
              "<table border=\"1\" class=\"dataframe\">\n",
              "  <thead>\n",
              "    <tr style=\"text-align: right;\">\n",
              "      <th></th>\n",
              "      <th>0</th>\n",
              "      <th>bonus_number</th>\n",
              "    </tr>\n",
              "  </thead>\n",
              "  <tbody>\n",
              "    <tr>\n",
              "      <th>0</th>\n",
              "      <td>mango</td>\n",
              "      <td>100</td>\n",
              "    </tr>\n",
              "    <tr>\n",
              "      <th>1</th>\n",
              "      <td>apple</td>\n",
              "      <td>200</td>\n",
              "    </tr>\n",
              "    <tr>\n",
              "      <th>2</th>\n",
              "      <td>orange</td>\n",
              "      <td>300</td>\n",
              "    </tr>\n",
              "    <tr>\n",
              "      <th>3</th>\n",
              "      <td>mango</td>\n",
              "      <td>400</td>\n",
              "    </tr>\n",
              "    <tr>\n",
              "      <th>4</th>\n",
              "      <td>mango</td>\n",
              "      <td>500</td>\n",
              "    </tr>\n",
              "    <tr>\n",
              "      <th>5</th>\n",
              "      <td>orange</td>\n",
              "      <td>600</td>\n",
              "    </tr>\n",
              "  </tbody>\n",
              "</table>\n",
              "</div>"
            ],
            "text/plain": [
              "        0  bonus_number\n",
              "0   mango           100\n",
              "1   apple           200\n",
              "2  orange           300\n",
              "3   mango           400\n",
              "4   mango           500\n",
              "5  orange           600"
            ]
          },
          "metadata": {
            "tags": []
          },
          "execution_count": 26
        }
      ]
    },
    {
      "cell_type": "markdown",
      "metadata": {
        "id": "HORhKwW7DQpY"
      },
      "source": [
        "### Part 2\n",
        "Reference:- https://www.youtube.com/watch?v=yPVQZZmheCg"
      ],
      "id": "HORhKwW7DQpY"
    },
    {
      "cell_type": "markdown",
      "metadata": {
        "id": "YqGisrqeDQpY"
      },
      "source": [
        "Create a dataframe  d1 where the columns are  ‘city’ : [‘Chandigarh’, ‘Delhi’, ‘Kanpur’, ‘Chennai’, ‘Manali’ ] and ‘Temperature’ : [15, 22, 20, 26,-2] "
      ],
      "id": "YqGisrqeDQpY"
    },
    {
      "cell_type": "markdown",
      "metadata": {
        "id": "aRWlynCrDQpZ"
      },
      "source": [
        "<p style='text-align: right;'> 2*5=10 points</p>\n"
      ],
      "id": "aRWlynCrDQpZ"
    },
    {
      "cell_type": "code",
      "metadata": {
        "id": "9k6shZTTDQpZ"
      },
      "source": [
        "d1=pd.DataFrame({'city':['Chandigarh','Delhi','Kanpur','Chennai','Manali'],'Temperature':[15,22,20,26,-2]})"
      ],
      "id": "9k6shZTTDQpZ",
      "execution_count": null,
      "outputs": []
    },
    {
      "cell_type": "markdown",
      "metadata": {
        "id": "M_Il-zJlDQpa"
      },
      "source": [
        "Print d1"
      ],
      "id": "M_Il-zJlDQpa"
    },
    {
      "cell_type": "code",
      "metadata": {
        "colab": {
          "base_uri": "https://localhost:8080/"
        },
        "id": "QoN6iiCADQpa",
        "outputId": "6a56d8d0-8392-4c82-fa00-0389a7f3ab10"
      },
      "source": [
        "print(d1)"
      ],
      "id": "QoN6iiCADQpa",
      "execution_count": null,
      "outputs": [
        {
          "output_type": "stream",
          "text": [
            "         city  Temperature\n",
            "0  Chandigarh           15\n",
            "1       Delhi           22\n",
            "2      Kanpur           20\n",
            "3     Chennai           26\n",
            "4      Manali           -2\n"
          ],
          "name": "stdout"
        }
      ]
    },
    {
      "cell_type": "markdown",
      "metadata": {
        "id": "EFGCpPLnDQpa"
      },
      "source": [
        "What is the shape of d1."
      ],
      "id": "EFGCpPLnDQpa"
    },
    {
      "cell_type": "code",
      "metadata": {
        "colab": {
          "base_uri": "https://localhost:8080/"
        },
        "id": "uHRu1zUADQpb",
        "outputId": "79d6a409-ccf4-47f0-af3a-04e59394414c"
      },
      "source": [
        "d1.shape"
      ],
      "id": "uHRu1zUADQpb",
      "execution_count": null,
      "outputs": [
        {
          "output_type": "execute_result",
          "data": {
            "text/plain": [
              "(5, 2)"
            ]
          },
          "metadata": {
            "tags": []
          },
          "execution_count": 29
        }
      ]
    },
    {
      "cell_type": "markdown",
      "metadata": {
        "id": "jUNhEN0xDQpb"
      },
      "source": [
        "Set city = d1['city']"
      ],
      "id": "jUNhEN0xDQpb"
    },
    {
      "cell_type": "code",
      "metadata": {
        "id": "1KnwldALDQpg"
      },
      "source": [
        "city=d1['city']"
      ],
      "id": "1KnwldALDQpg",
      "execution_count": null,
      "outputs": []
    },
    {
      "cell_type": "markdown",
      "metadata": {
        "id": "tI8MPJxfDQpg"
      },
      "source": [
        "print city <br>\n",
        "What is the type of city."
      ],
      "id": "tI8MPJxfDQpg"
    },
    {
      "cell_type": "code",
      "metadata": {
        "colab": {
          "base_uri": "https://localhost:8080/"
        },
        "id": "EFOzkBYkDQph",
        "outputId": "fc439137-4102-49e0-b5db-9a5c248484cf"
      },
      "source": [
        "type(city)"
      ],
      "id": "EFOzkBYkDQph",
      "execution_count": null,
      "outputs": [
        {
          "output_type": "execute_result",
          "data": {
            "text/plain": [
              "pandas.core.series.Series"
            ]
          },
          "metadata": {
            "tags": []
          },
          "execution_count": 31
        }
      ]
    },
    {
      "cell_type": "markdown",
      "metadata": {
        "id": "Nbq5h4YADQph"
      },
      "source": [
        "Create another dataframe d2 where the columns are <br>\n",
        "'city' - ['Bengalaru','Coimbatore','Srirangam','Pondicherry'] <br>\n",
        "'Temperature' - [24,35,36,39]"
      ],
      "id": "Nbq5h4YADQph"
    },
    {
      "cell_type": "markdown",
      "metadata": {
        "id": "FBT8J0XLDQph"
      },
      "source": [
        "<p style='text-align: right;'> 3+2+5 = 10 points</p>\n"
      ],
      "id": "FBT8J0XLDQph"
    },
    {
      "cell_type": "code",
      "metadata": {
        "id": "CF4zq-D_DQpi"
      },
      "source": [
        " d2=pd.DataFrame({'city':['Bengaluru','Coimbatore','Srirangam','Pondicherry'],'Temperature':[24,35,36,39]})"
      ],
      "id": "CF4zq-D_DQpi",
      "execution_count": null,
      "outputs": []
    },
    {
      "cell_type": "markdown",
      "metadata": {
        "id": "9C7qJQGqDQpi"
      },
      "source": [
        "print the shape of this dataframe"
      ],
      "id": "9C7qJQGqDQpi"
    },
    {
      "cell_type": "code",
      "metadata": {
        "colab": {
          "base_uri": "https://localhost:8080/"
        },
        "id": "HGmLBIOqDQpi",
        "outputId": "f4db8e1e-717a-4ff5-975a-06e5fe10b607"
      },
      "source": [
        "d2.shape"
      ],
      "id": "HGmLBIOqDQpi",
      "execution_count": null,
      "outputs": [
        {
          "output_type": "execute_result",
          "data": {
            "text/plain": [
              "(4, 2)"
            ]
          },
          "metadata": {
            "tags": []
          },
          "execution_count": 33
        }
      ]
    },
    {
      "cell_type": "markdown",
      "metadata": {
        "id": "-msigHhsDQpj"
      },
      "source": [
        "merge the two dataframes together, save it in a new dataframe named 'd3'\n"
      ],
      "id": "-msigHhsDQpj"
    },
    {
      "cell_type": "code",
      "metadata": {
        "colab": {
          "base_uri": "https://localhost:8080/"
        },
        "id": "onT_QhNnDQpj",
        "outputId": "ed62cbd5-2af9-457f-c051-05da6bcf31a8"
      },
      "source": [
        "d3=pd.concat([d1,d2])\n",
        "print(d3)"
      ],
      "id": "onT_QhNnDQpj",
      "execution_count": null,
      "outputs": [
        {
          "output_type": "stream",
          "text": [
            "          city  Temperature\n",
            "0   Chandigarh           15\n",
            "1        Delhi           22\n",
            "2       Kanpur           20\n",
            "3      Chennai           26\n",
            "4       Manali           -2\n",
            "0    Bengaluru           24\n",
            "1   Coimbatore           35\n",
            "2    Srirangam           36\n",
            "3  Pondicherry           39\n"
          ],
          "name": "stdout"
        }
      ]
    },
    {
      "cell_type": "markdown",
      "metadata": {
        "id": "hTGpLxU0DQpj"
      },
      "source": [
        "# fun fact at high level\n",
        "\n",
        "1. .concat() simply stacks multiple DataFrame together either vertically, or stitches horizontally after aligning on index\n",
        "2. .merge() first aligns two DataFrame' selected common column(s) or index, and then pick up the remaining columns from the aligned rows of each DataFrame\n",
        "\n",
        "Do you know about join function? This interesting quest we give to you to find. "
      ],
      "id": "hTGpLxU0DQpj"
    },
    {
      "cell_type": "markdown",
      "metadata": {
        "id": "0E9w-LJuDQpk"
      },
      "source": [
        "Select the part of the dataframe such that it contains cities where temp is less then or equal to 20 <br>\n",
        "How many cities are there? "
      ],
      "id": "0E9w-LJuDQpk"
    },
    {
      "cell_type": "markdown",
      "metadata": {
        "id": "hqBexH8RDQpk"
      },
      "source": [
        "<p style='text-align: right;'> 5+5=10 points</p>\n"
      ],
      "id": "hqBexH8RDQpk"
    },
    {
      "cell_type": "code",
      "metadata": {
        "colab": {
          "base_uri": "https://localhost:8080/"
        },
        "id": "NwnEmH6xDQpl",
        "outputId": "4bdae2ee-bc61-4834-8719-47fadb3c2ed0"
      },
      "source": [
        "d3.loc[d3['Temperature']<=20,'city']"
      ],
      "id": "NwnEmH6xDQpl",
      "execution_count": null,
      "outputs": [
        {
          "output_type": "execute_result",
          "data": {
            "text/plain": [
              "0    Chandigarh\n",
              "2        Kanpur\n",
              "4        Manali\n",
              "Name: city, dtype: object"
            ]
          },
          "metadata": {
            "tags": []
          },
          "execution_count": 35
        }
      ]
    },
    {
      "cell_type": "markdown",
      "metadata": {
        "id": "WtZVDlhKDQpl"
      },
      "source": [
        "Select the part of the dataframe such that it contains the cities where tempearature greater than or equal to 35"
      ],
      "id": "WtZVDlhKDQpl"
    },
    {
      "cell_type": "code",
      "metadata": {
        "colab": {
          "base_uri": "https://localhost:8080/"
        },
        "id": "CzDzEMSrDQpl",
        "outputId": "0bf63565-5327-4d4f-900a-05998dec013e"
      },
      "source": [
        "d3.loc[d3['Temperature']>=35,'city']"
      ],
      "id": "CzDzEMSrDQpl",
      "execution_count": null,
      "outputs": [
        {
          "output_type": "execute_result",
          "data": {
            "text/plain": [
              "1     Coimbatore\n",
              "2      Srirangam\n",
              "3    Pondicherry\n",
              "Name: city, dtype: object"
            ]
          },
          "metadata": {
            "tags": []
          },
          "execution_count": 38
        }
      ]
    },
    {
      "cell_type": "markdown",
      "metadata": {
        "id": "dCHWB_KTDQpm"
      },
      "source": [
        "## 3. Applying functions to columns and creating new columns\n",
        "\n",
        "Reference: https://www.youtube.com/watch?v=L0wMml__Gow"
      ],
      "id": "dCHWB_KTDQpm"
    },
    {
      "cell_type": "markdown",
      "metadata": {
        "id": "7Yl991QQDQpm"
      },
      "source": [
        "<p style='text-align: right;'> 20 points</p>\n"
      ],
      "id": "7Yl991QQDQpm"
    },
    {
      "cell_type": "markdown",
      "metadata": {
        "id": "1otYdEDiDQpm"
      },
      "source": [
        "We need to create another column in d3, which contains  a boolean value for each city to indicate whether it's a union territory or not. \n",
        "- HINT: Chandigarh, Pondicherry and Delhi are only 3 union territories here. \n"
      ],
      "id": "1otYdEDiDQpm"
    },
    {
      "cell_type": "code",
      "metadata": {
        "id": "RLlxT37PDQpn"
      },
      "source": [
        "# write function here\n",
        "d3['unionterritory']=['TRUE','TRUE','FALSE','FALSE','FALSE','FALSE','FALSE','FALSE','TRUE']\n"
      ],
      "id": "RLlxT37PDQpn",
      "execution_count": null,
      "outputs": []
    },
    {
      "cell_type": "code",
      "metadata": {
        "colab": {
          "base_uri": "https://localhost:8080/",
          "height": 326
        },
        "id": "h_UvUc-pDQpn",
        "outputId": "e40c9a7d-173a-4db9-8d6e-11200e2fb2eb"
      },
      "source": [
        "#print d3\n",
        "d3"
      ],
      "id": "h_UvUc-pDQpn",
      "execution_count": null,
      "outputs": [
        {
          "output_type": "execute_result",
          "data": {
            "text/html": [
              "<div>\n",
              "<style scoped>\n",
              "    .dataframe tbody tr th:only-of-type {\n",
              "        vertical-align: middle;\n",
              "    }\n",
              "\n",
              "    .dataframe tbody tr th {\n",
              "        vertical-align: top;\n",
              "    }\n",
              "\n",
              "    .dataframe thead th {\n",
              "        text-align: right;\n",
              "    }\n",
              "</style>\n",
              "<table border=\"1\" class=\"dataframe\">\n",
              "  <thead>\n",
              "    <tr style=\"text-align: right;\">\n",
              "      <th></th>\n",
              "      <th>city</th>\n",
              "      <th>Temperature</th>\n",
              "      <th>unionterritory</th>\n",
              "    </tr>\n",
              "  </thead>\n",
              "  <tbody>\n",
              "    <tr>\n",
              "      <th>0</th>\n",
              "      <td>Chandigarh</td>\n",
              "      <td>15</td>\n",
              "      <td>TRUE</td>\n",
              "    </tr>\n",
              "    <tr>\n",
              "      <th>1</th>\n",
              "      <td>Delhi</td>\n",
              "      <td>22</td>\n",
              "      <td>TRUE</td>\n",
              "    </tr>\n",
              "    <tr>\n",
              "      <th>2</th>\n",
              "      <td>Kanpur</td>\n",
              "      <td>20</td>\n",
              "      <td>FALSE</td>\n",
              "    </tr>\n",
              "    <tr>\n",
              "      <th>3</th>\n",
              "      <td>Chennai</td>\n",
              "      <td>26</td>\n",
              "      <td>FALSE</td>\n",
              "    </tr>\n",
              "    <tr>\n",
              "      <th>4</th>\n",
              "      <td>Manali</td>\n",
              "      <td>-2</td>\n",
              "      <td>FALSE</td>\n",
              "    </tr>\n",
              "    <tr>\n",
              "      <th>0</th>\n",
              "      <td>Bengaluru</td>\n",
              "      <td>24</td>\n",
              "      <td>FALSE</td>\n",
              "    </tr>\n",
              "    <tr>\n",
              "      <th>1</th>\n",
              "      <td>Coimbatore</td>\n",
              "      <td>35</td>\n",
              "      <td>FALSE</td>\n",
              "    </tr>\n",
              "    <tr>\n",
              "      <th>2</th>\n",
              "      <td>Srirangam</td>\n",
              "      <td>36</td>\n",
              "      <td>FALSE</td>\n",
              "    </tr>\n",
              "    <tr>\n",
              "      <th>3</th>\n",
              "      <td>Pondicherry</td>\n",
              "      <td>39</td>\n",
              "      <td>TRUE</td>\n",
              "    </tr>\n",
              "  </tbody>\n",
              "</table>\n",
              "</div>"
            ],
            "text/plain": [
              "          city  Temperature unionterritory\n",
              "0   Chandigarh           15           TRUE\n",
              "1        Delhi           22           TRUE\n",
              "2       Kanpur           20          FALSE\n",
              "3      Chennai           26          FALSE\n",
              "4       Manali           -2          FALSE\n",
              "0    Bengaluru           24          FALSE\n",
              "1   Coimbatore           35          FALSE\n",
              "2    Srirangam           36          FALSE\n",
              "3  Pondicherry           39           TRUE"
            ]
          },
          "metadata": {
            "tags": []
          },
          "execution_count": 40
        }
      ]
    },
    {
      "cell_type": "markdown",
      "metadata": {
        "id": "fHk5jLClDQpo"
      },
      "source": [
        "The temperatures mentioned in ‘Temperature’ column are mentioned in Celsius, we need another column which contains the same in Fahrenheit. "
      ],
      "id": "fHk5jLClDQpo"
    },
    {
      "cell_type": "markdown",
      "metadata": {
        "id": "l1ejT_dPDQpo"
      },
      "source": [
        "HINT - \n",
        "- Define a function c_to_f which takes input temp in celsius and returns a value with temperature in Fahrenheit.\n",
        "- To check: c_to_f(10) should return 50. \n"
      ],
      "id": "l1ejT_dPDQpo"
    },
    {
      "cell_type": "code",
      "metadata": {
        "id": "OoZNOX3LDQpo"
      },
      "source": [
        "# write function here\n",
        "def c_to_f(x):\n",
        "  return int(x*1.8+32)\n"
      ],
      "id": "OoZNOX3LDQpo",
      "execution_count": null,
      "outputs": []
    },
    {
      "cell_type": "code",
      "metadata": {
        "colab": {
          "base_uri": "https://localhost:8080/"
        },
        "id": "IpH_XseDDQpp",
        "outputId": "5a406d23-0a5f-4896-f92a-8ee80ab98ba7"
      },
      "source": [
        "# check  function c_to_f(10)\n",
        "c_to_f(10)"
      ],
      "id": "IpH_XseDDQpp",
      "execution_count": null,
      "outputs": [
        {
          "output_type": "execute_result",
          "data": {
            "text/plain": [
              "50"
            ]
          },
          "metadata": {
            "tags": []
          },
          "execution_count": 42
        }
      ]
    },
    {
      "cell_type": "code",
      "metadata": {
        "colab": {
          "base_uri": "https://localhost:8080/"
        },
        "id": "x8TC7aRwDQpp",
        "outputId": "a3ab6649-e326-4b93-a11c-5db35fd0c608"
      },
      "source": [
        "# apply function c_to_f to d3 to create a column 'temp_farenhiet'\n",
        "r1=[]\n",
        "for x in d3['Temperature']:\n",
        "  r1.append(c_to_f(x))\n",
        "\n",
        "\n",
        "\n",
        "d3['temp_farenhiet']=r1\n",
        "print(d3)"
      ],
      "id": "x8TC7aRwDQpp",
      "execution_count": 110,
      "outputs": [
        {
          "output_type": "stream",
          "text": [
            "          city  Temperature unionterritory  temp_farenhiet\n",
            "0   Chandigarh           15           TRUE              59\n",
            "1        Delhi           22           TRUE              71\n",
            "2       Kanpur           20          FALSE              68\n",
            "3      Chennai           26          FALSE              78\n",
            "4       Manali           -2          FALSE              28\n",
            "0    Bengaluru           24          FALSE              75\n",
            "1   Coimbatore           35          FALSE              95\n",
            "2    Srirangam           36          FALSE              96\n",
            "3  Pondicherry           39           TRUE             102\n"
          ],
          "name": "stdout"
        }
      ]
    },
    {
      "cell_type": "markdown",
      "metadata": {
        "id": "3EBw42xlDQpq"
      },
      "source": [
        "## 4. Indexing and selecting rows in DataFrame\n",
        "\n",
        "Reference:-https://www.youtube.com/watch?v=XKFRFDgA7ZY"
      ],
      "id": "3EBw42xlDQpq"
    },
    {
      "cell_type": "markdown",
      "metadata": {
        "id": "66A5cHDYDQpq"
      },
      "source": [
        "<p style='text-align: right;'> 20 points</p>\n"
      ],
      "id": "66A5cHDYDQpq"
    },
    {
      "cell_type": "markdown",
      "metadata": {
        "id": "QGTllmQ2DQpq"
      },
      "source": [
        "Select subset of the dataframe d3 such that it contains the cities which are union territories."
      ],
      "id": "QGTllmQ2DQpq"
    },
    {
      "cell_type": "code",
      "metadata": {
        "colab": {
          "base_uri": "https://localhost:8080/"
        },
        "id": "-dg49HaNDQpr",
        "outputId": "6e27663e-98f8-447d-cecc-1f9aba1bcd7e"
      },
      "source": [
        "d3.loc[d3['unionterritory']=='TRUE','city']"
      ],
      "id": "-dg49HaNDQpr",
      "execution_count": null,
      "outputs": [
        {
          "output_type": "execute_result",
          "data": {
            "text/plain": [
              "0     Chandigarh\n",
              "1          Delhi\n",
              "3    Pondicherry\n",
              "Name: city, dtype: object"
            ]
          },
          "metadata": {
            "tags": []
          },
          "execution_count": 43
        }
      ]
    },
    {
      "cell_type": "markdown",
      "metadata": {
        "id": "iSwkxw-ADQpr"
      },
      "source": [
        "Select a subset of the dataframe d1 such that it contains the cities which only have temperature above 90 Farenhiet."
      ],
      "id": "iSwkxw-ADQpr"
    },
    {
      "cell_type": "code",
      "metadata": {
        "colab": {
          "base_uri": "https://localhost:8080/"
        },
        "id": "OI5xaNWJDQpr",
        "outputId": "331651f5-9d4b-4b89-b3af-371881b667e6"
      },
      "source": [
        "d1.loc[d1['Temperature']>15,'city']"
      ],
      "id": "OI5xaNWJDQpr",
      "execution_count": null,
      "outputs": [
        {
          "output_type": "execute_result",
          "data": {
            "text/plain": [
              "1      Delhi\n",
              "2     Kanpur\n",
              "3    Chennai\n",
              "Name: city, dtype: object"
            ]
          },
          "metadata": {
            "tags": []
          },
          "execution_count": 44
        }
      ]
    },
    {
      "cell_type": "markdown",
      "metadata": {
        "id": "uQGqHPGODQps"
      },
      "source": [
        "Select only the first three rows of the dataframe d1. \n"
      ],
      "id": "uQGqHPGODQps"
    },
    {
      "cell_type": "code",
      "metadata": {
        "colab": {
          "base_uri": "https://localhost:8080/",
          "height": 142
        },
        "id": "2ZDZXoB8DQps",
        "outputId": "66ed617a-4663-4695-bf10-61f733994203"
      },
      "source": [
        "d1[0:3]"
      ],
      "id": "2ZDZXoB8DQps",
      "execution_count": null,
      "outputs": [
        {
          "output_type": "execute_result",
          "data": {
            "text/html": [
              "<div>\n",
              "<style scoped>\n",
              "    .dataframe tbody tr th:only-of-type {\n",
              "        vertical-align: middle;\n",
              "    }\n",
              "\n",
              "    .dataframe tbody tr th {\n",
              "        vertical-align: top;\n",
              "    }\n",
              "\n",
              "    .dataframe thead th {\n",
              "        text-align: right;\n",
              "    }\n",
              "</style>\n",
              "<table border=\"1\" class=\"dataframe\">\n",
              "  <thead>\n",
              "    <tr style=\"text-align: right;\">\n",
              "      <th></th>\n",
              "      <th>city</th>\n",
              "      <th>Temperature</th>\n",
              "    </tr>\n",
              "  </thead>\n",
              "  <tbody>\n",
              "    <tr>\n",
              "      <th>0</th>\n",
              "      <td>Chandigarh</td>\n",
              "      <td>15</td>\n",
              "    </tr>\n",
              "    <tr>\n",
              "      <th>1</th>\n",
              "      <td>Delhi</td>\n",
              "      <td>22</td>\n",
              "    </tr>\n",
              "    <tr>\n",
              "      <th>2</th>\n",
              "      <td>Kanpur</td>\n",
              "      <td>20</td>\n",
              "    </tr>\n",
              "  </tbody>\n",
              "</table>\n",
              "</div>"
            ],
            "text/plain": [
              "         city  Temperature\n",
              "0  Chandigarh           15\n",
              "1       Delhi           22\n",
              "2      Kanpur           20"
            ]
          },
          "metadata": {
            "tags": []
          },
          "execution_count": 45
        }
      ]
    },
    {
      "cell_type": "markdown",
      "metadata": {
        "id": "-yT8UFTJDQps"
      },
      "source": [
        "Select all the rows and last two columns in the dataframe.\n",
        "\n",
        "\n"
      ],
      "id": "-yT8UFTJDQps"
    },
    {
      "cell_type": "code",
      "metadata": {
        "colab": {
          "base_uri": "https://localhost:8080/",
          "height": 110
        },
        "id": "VGqiq5E0DQpt",
        "outputId": "f1fad8d2-f04b-4439-d7c1-3f5a144970e7"
      },
      "source": [
        "d1[:][-2:]"
      ],
      "id": "VGqiq5E0DQpt",
      "execution_count": null,
      "outputs": [
        {
          "output_type": "execute_result",
          "data": {
            "text/html": [
              "<div>\n",
              "<style scoped>\n",
              "    .dataframe tbody tr th:only-of-type {\n",
              "        vertical-align: middle;\n",
              "    }\n",
              "\n",
              "    .dataframe tbody tr th {\n",
              "        vertical-align: top;\n",
              "    }\n",
              "\n",
              "    .dataframe thead th {\n",
              "        text-align: right;\n",
              "    }\n",
              "</style>\n",
              "<table border=\"1\" class=\"dataframe\">\n",
              "  <thead>\n",
              "    <tr style=\"text-align: right;\">\n",
              "      <th></th>\n",
              "      <th>city</th>\n",
              "      <th>Temperature</th>\n",
              "    </tr>\n",
              "  </thead>\n",
              "  <tbody>\n",
              "    <tr>\n",
              "      <th>3</th>\n",
              "      <td>Chennai</td>\n",
              "      <td>26</td>\n",
              "    </tr>\n",
              "    <tr>\n",
              "      <th>4</th>\n",
              "      <td>Manali</td>\n",
              "      <td>-2</td>\n",
              "    </tr>\n",
              "  </tbody>\n",
              "</table>\n",
              "</div>"
            ],
            "text/plain": [
              "      city  Temperature\n",
              "3  Chennai           26\n",
              "4   Manali           -2"
            ]
          },
          "metadata": {
            "tags": []
          },
          "execution_count": 47
        }
      ]
    },
    {
      "cell_type": "markdown",
      "metadata": {
        "id": "EWZ5_MxxDQpt"
      },
      "source": [
        "## 5. Reading csv file and group by\n",
        "\n",
        "Reference: https://www.youtube.com/watch?v=ENhGz1HkzvY <br>\n",
        "https://www.youtube.com/watch?v=nulx_VmV7dE"
      ],
      "id": "EWZ5_MxxDQpt"
    },
    {
      "cell_type": "markdown",
      "metadata": {
        "id": "dEH5xF8vDQpt"
      },
      "source": [
        "<p style='text-align: right;'> 2*2=4 points</p>\n"
      ],
      "id": "dEH5xF8vDQpt"
    },
    {
      "cell_type": "markdown",
      "metadata": {
        "id": "z3iiP2mvDQpu"
      },
      "source": [
        "Read the file 'weather_data.csv' and store it in a pandas dataframe 'df' "
      ],
      "id": "z3iiP2mvDQpu"
    },
    {
      "cell_type": "code",
      "metadata": {
        "id": "anYFCqF_DQpu"
      },
      "source": [
        "df=pd.read_csv('weather_data.csv')"
      ],
      "id": "anYFCqF_DQpu",
      "execution_count": null,
      "outputs": []
    },
    {
      "cell_type": "markdown",
      "metadata": {
        "id": "c7NuqixxDQpu"
      },
      "source": [
        "print the shape and head of the dataframe"
      ],
      "id": "c7NuqixxDQpu"
    },
    {
      "cell_type": "code",
      "metadata": {
        "colab": {
          "base_uri": "https://localhost:8080/"
        },
        "id": "40DlHvOEDQpv",
        "outputId": "4a5f4098-2a97-4dfd-8169-5a3369340273"
      },
      "source": [
        "df.shape\n",
        "df.head"
      ],
      "id": "40DlHvOEDQpv",
      "execution_count": null,
      "outputs": [
        {
          "output_type": "execute_result",
          "data": {
            "text/plain": [
              "<bound method NDFrame.head of         day  temperature  windspeed  event\n",
              "0  1/1/2017           32          6   Rain\n",
              "1  1/2/2017           35          7  Sunny\n",
              "2  1/3/2017           28          2   Snow\n",
              "3  1/4/2017           24          7   Snow\n",
              "4  1/5/2017           32          4   Rain\n",
              "5  1/6/2017           31          2  Sunny>"
            ]
          },
          "metadata": {
            "tags": []
          },
          "execution_count": 53
        }
      ]
    },
    {
      "cell_type": "markdown",
      "metadata": {
        "id": "B2ZN9T1cDQpv"
      },
      "source": [
        "Group the dataframe wrt to 'event' and save the resulting output in a variable named 'g'"
      ],
      "id": "B2ZN9T1cDQpv"
    },
    {
      "cell_type": "markdown",
      "metadata": {
        "id": "5XeMzfkPDQpv"
      },
      "source": [
        "<p style='text-align: right;'> 5*3 = 15 points</p>\n"
      ],
      "id": "5XeMzfkPDQpv"
    },
    {
      "cell_type": "code",
      "metadata": {
        "id": "N2tBdORLDQpv"
      },
      "source": [
        "g=df.groupby(df['event'])"
      ],
      "id": "N2tBdORLDQpv",
      "execution_count": null,
      "outputs": []
    },
    {
      "cell_type": "markdown",
      "metadata": {
        "id": "8PiG51NODQpw"
      },
      "source": [
        "Print g and  type(g)"
      ],
      "id": "8PiG51NODQpw"
    },
    {
      "cell_type": "code",
      "metadata": {
        "colab": {
          "base_uri": "https://localhost:8080/"
        },
        "id": "DD8oQrNBDQpw",
        "outputId": "58a402c4-3624-49b0-ab73-f05f237bb9ec"
      },
      "source": [
        "print(g)\n",
        "print(type(g))"
      ],
      "id": "DD8oQrNBDQpw",
      "execution_count": null,
      "outputs": [
        {
          "output_type": "stream",
          "text": [
            "<pandas.core.groupby.generic.DataFrameGroupBy object at 0x7fdf3e13e190>\n",
            "<class 'pandas.core.groupby.generic.DataFrameGroupBy'>\n"
          ],
          "name": "stdout"
        }
      ]
    },
    {
      "cell_type": "markdown",
      "metadata": {
        "id": "k8pvWh66DQpw"
      },
      "source": [
        "Iterate over all the temperatures in g and print them "
      ],
      "id": "k8pvWh66DQpw"
    },
    {
      "cell_type": "code",
      "metadata": {
        "colab": {
          "base_uri": "https://localhost:8080/"
        },
        "id": "SDCUTSesDQpx",
        "outputId": "7d87989c-80b5-45e3-e7c7-28546968cbe7"
      },
      "source": [
        "for x in g['temperature']:\n",
        "  print(x)"
      ],
      "id": "SDCUTSesDQpx",
      "execution_count": null,
      "outputs": [
        {
          "output_type": "stream",
          "text": [
            "('Rain', 0    32\n",
            "4    32\n",
            "Name: temperature, dtype: int64)\n",
            "('Snow', 2    28\n",
            "3    24\n",
            "Name: temperature, dtype: int64)\n",
            "('Sunny', 1    35\n",
            "5    31\n",
            "Name: temperature, dtype: int64)\n"
          ],
          "name": "stdout"
        }
      ]
    },
    {
      "cell_type": "markdown",
      "metadata": {
        "id": "dzM43GNrDQpx"
      },
      "source": [
        "Use the describle method on g to get the complete description on it."
      ],
      "id": "dzM43GNrDQpx"
    },
    {
      "cell_type": "code",
      "metadata": {
        "colab": {
          "base_uri": "https://localhost:8080/",
          "height": 203
        },
        "id": "9m43PvkbDQpx",
        "outputId": "4e5b1ba3-55c8-49ad-de7d-95360f1a79e3"
      },
      "source": [
        "g.describe()"
      ],
      "id": "9m43PvkbDQpx",
      "execution_count": null,
      "outputs": [
        {
          "output_type": "execute_result",
          "data": {
            "text/html": [
              "<div>\n",
              "<style scoped>\n",
              "    .dataframe tbody tr th:only-of-type {\n",
              "        vertical-align: middle;\n",
              "    }\n",
              "\n",
              "    .dataframe tbody tr th {\n",
              "        vertical-align: top;\n",
              "    }\n",
              "\n",
              "    .dataframe thead tr th {\n",
              "        text-align: left;\n",
              "    }\n",
              "\n",
              "    .dataframe thead tr:last-of-type th {\n",
              "        text-align: right;\n",
              "    }\n",
              "</style>\n",
              "<table border=\"1\" class=\"dataframe\">\n",
              "  <thead>\n",
              "    <tr>\n",
              "      <th></th>\n",
              "      <th colspan=\"8\" halign=\"left\">temperature</th>\n",
              "      <th colspan=\"8\" halign=\"left\">windspeed</th>\n",
              "    </tr>\n",
              "    <tr>\n",
              "      <th></th>\n",
              "      <th>count</th>\n",
              "      <th>mean</th>\n",
              "      <th>std</th>\n",
              "      <th>min</th>\n",
              "      <th>25%</th>\n",
              "      <th>50%</th>\n",
              "      <th>75%</th>\n",
              "      <th>max</th>\n",
              "      <th>count</th>\n",
              "      <th>mean</th>\n",
              "      <th>std</th>\n",
              "      <th>min</th>\n",
              "      <th>25%</th>\n",
              "      <th>50%</th>\n",
              "      <th>75%</th>\n",
              "      <th>max</th>\n",
              "    </tr>\n",
              "    <tr>\n",
              "      <th>event</th>\n",
              "      <th></th>\n",
              "      <th></th>\n",
              "      <th></th>\n",
              "      <th></th>\n",
              "      <th></th>\n",
              "      <th></th>\n",
              "      <th></th>\n",
              "      <th></th>\n",
              "      <th></th>\n",
              "      <th></th>\n",
              "      <th></th>\n",
              "      <th></th>\n",
              "      <th></th>\n",
              "      <th></th>\n",
              "      <th></th>\n",
              "      <th></th>\n",
              "    </tr>\n",
              "  </thead>\n",
              "  <tbody>\n",
              "    <tr>\n",
              "      <th>Rain</th>\n",
              "      <td>2.0</td>\n",
              "      <td>32.0</td>\n",
              "      <td>0.000000</td>\n",
              "      <td>32.0</td>\n",
              "      <td>32.0</td>\n",
              "      <td>32.0</td>\n",
              "      <td>32.0</td>\n",
              "      <td>32.0</td>\n",
              "      <td>2.0</td>\n",
              "      <td>5.0</td>\n",
              "      <td>1.414214</td>\n",
              "      <td>4.0</td>\n",
              "      <td>4.50</td>\n",
              "      <td>5.0</td>\n",
              "      <td>5.50</td>\n",
              "      <td>6.0</td>\n",
              "    </tr>\n",
              "    <tr>\n",
              "      <th>Snow</th>\n",
              "      <td>2.0</td>\n",
              "      <td>26.0</td>\n",
              "      <td>2.828427</td>\n",
              "      <td>24.0</td>\n",
              "      <td>25.0</td>\n",
              "      <td>26.0</td>\n",
              "      <td>27.0</td>\n",
              "      <td>28.0</td>\n",
              "      <td>2.0</td>\n",
              "      <td>4.5</td>\n",
              "      <td>3.535534</td>\n",
              "      <td>2.0</td>\n",
              "      <td>3.25</td>\n",
              "      <td>4.5</td>\n",
              "      <td>5.75</td>\n",
              "      <td>7.0</td>\n",
              "    </tr>\n",
              "    <tr>\n",
              "      <th>Sunny</th>\n",
              "      <td>2.0</td>\n",
              "      <td>33.0</td>\n",
              "      <td>2.828427</td>\n",
              "      <td>31.0</td>\n",
              "      <td>32.0</td>\n",
              "      <td>33.0</td>\n",
              "      <td>34.0</td>\n",
              "      <td>35.0</td>\n",
              "      <td>2.0</td>\n",
              "      <td>4.5</td>\n",
              "      <td>3.535534</td>\n",
              "      <td>2.0</td>\n",
              "      <td>3.25</td>\n",
              "      <td>4.5</td>\n",
              "      <td>5.75</td>\n",
              "      <td>7.0</td>\n",
              "    </tr>\n",
              "  </tbody>\n",
              "</table>\n",
              "</div>"
            ],
            "text/plain": [
              "      temperature                              ... windspeed                      \n",
              "            count  mean       std   min   25%  ...       min   25%  50%   75%  max\n",
              "event                                          ...                                \n",
              "Rain          2.0  32.0  0.000000  32.0  32.0  ...       4.0  4.50  5.0  5.50  6.0\n",
              "Snow          2.0  26.0  2.828427  24.0  25.0  ...       2.0  3.25  4.5  5.75  7.0\n",
              "Sunny         2.0  33.0  2.828427  31.0  32.0  ...       2.0  3.25  4.5  5.75  7.0\n",
              "\n",
              "[3 rows x 16 columns]"
            ]
          },
          "metadata": {
            "tags": []
          },
          "execution_count": 61
        }
      ]
    },
    {
      "cell_type": "markdown",
      "metadata": {
        "id": "ja2_ObdLDQpx"
      },
      "source": [
        "Create a new column in the dataframe df, named 'hot_temp' which contains True if temp is above 30, else False"
      ],
      "id": "ja2_ObdLDQpx"
    },
    {
      "cell_type": "markdown",
      "metadata": {
        "id": "uSFdJsOFDQpy"
      },
      "source": [
        "<p style='text-align: right;'> 5 points</p>\n"
      ],
      "id": "uSFdJsOFDQpy"
    },
    {
      "cell_type": "code",
      "metadata": {
        "id": "KRKNomW-DQpy"
      },
      "source": [
        "#code here to filter df with above condition\n",
        "r=[]\n",
        "for x in df['temperature']:\n",
        "  if(x>30):\n",
        "    r.append('True')\n",
        "  else:\n",
        "    r.append('False')\n",
        "                                          "
      ],
      "id": "KRKNomW-DQpy",
      "execution_count": 105,
      "outputs": []
    },
    {
      "cell_type": "code",
      "metadata": {
        "colab": {
          "base_uri": "https://localhost:8080/"
        },
        "id": "X6fuGvEdDQpz",
        "outputId": "6072a1c1-08ad-4078-a6c2-3628ac2c8218"
      },
      "source": [
        "# print df\n",
        "df['hot_temp']=r\n",
        "print(df)"
      ],
      "id": "X6fuGvEdDQpz",
      "execution_count": 107,
      "outputs": [
        {
          "output_type": "stream",
          "text": [
            "        day  temperature  windspeed  event hot_temp\n",
            "0  1/1/2017           32          6   Rain     True\n",
            "1  1/2/2017           35          7  Sunny     True\n",
            "2  1/3/2017           28          2   Snow    False\n",
            "3  1/4/2017           24          7   Snow    False\n",
            "4  1/5/2017           32          4   Rain     True\n",
            "5  1/6/2017           31          2  Sunny     True\n"
          ],
          "name": "stdout"
        }
      ]
    },
    {
      "cell_type": "markdown",
      "metadata": {
        "id": "iOKXYajADQpz"
      },
      "source": [
        "## Data Range\n",
        "\n",
        "Reference:-https://www.youtube.com/watch?v=dRxCvSbMEto"
      ],
      "id": "iOKXYajADQpz"
    },
    {
      "cell_type": "markdown",
      "metadata": {
        "id": "oZE0MM1IDQpz"
      },
      "source": [
        "<p style='text-align: right;'> 5*3 = 15 points</p>\n"
      ],
      "id": "oZE0MM1IDQpz"
    },
    {
      "cell_type": "markdown",
      "metadata": {
        "id": "T4r58iVvDQp0"
      },
      "source": [
        "Create a pandas daterange where starting date is 1st of January,2020 and end date is 1st of April 2021, store it in a new variable named 'a'"
      ],
      "id": "T4r58iVvDQp0"
    },
    {
      "cell_type": "code",
      "metadata": {
        "id": "3qfw6rvtDQp0"
      },
      "source": [
        "a=pd.date_range(start='2020-01-01',end='2021-04-01')"
      ],
      "id": "3qfw6rvtDQp0",
      "execution_count": null,
      "outputs": []
    },
    {
      "cell_type": "markdown",
      "metadata": {
        "id": "LqDORsLnDQp0"
      },
      "source": [
        "print a"
      ],
      "id": "LqDORsLnDQp0"
    },
    {
      "cell_type": "code",
      "metadata": {
        "colab": {
          "base_uri": "https://localhost:8080/"
        },
        "id": "B1KJH2u0DQp0",
        "outputId": "6f349112-4ebc-41b7-e3c6-e4cda304a190"
      },
      "source": [
        "print(a)"
      ],
      "id": "B1KJH2u0DQp0",
      "execution_count": null,
      "outputs": [
        {
          "output_type": "stream",
          "text": [
            "DatetimeIndex(['2020-01-01', '2020-01-02', '2020-01-03', '2020-01-04',\n",
            "               '2020-01-05', '2020-01-06', '2020-01-07', '2020-01-08',\n",
            "               '2020-01-09', '2020-01-10',\n",
            "               ...\n",
            "               '2021-03-23', '2021-03-24', '2021-03-25', '2021-03-26',\n",
            "               '2021-03-27', '2021-03-28', '2021-03-29', '2021-03-30',\n",
            "               '2021-03-31', '2021-04-01'],\n",
            "              dtype='datetime64[ns]', length=457, freq='D')\n"
          ],
          "name": "stdout"
        }
      ]
    },
    {
      "cell_type": "markdown",
      "metadata": {
        "id": "ZYF00dr7DQp1"
      },
      "source": [
        "What is the len of a?"
      ],
      "id": "ZYF00dr7DQp1"
    },
    {
      "cell_type": "code",
      "metadata": {
        "colab": {
          "base_uri": "https://localhost:8080/"
        },
        "id": "Rz_era8yDQp1",
        "outputId": "60583c7e-a0f1-4d34-bb8f-195697849d5b"
      },
      "source": [
        "len(a)"
      ],
      "id": "Rz_era8yDQp1",
      "execution_count": null,
      "outputs": [
        {
          "output_type": "execute_result",
          "data": {
            "text/plain": [
              "457"
            ]
          },
          "metadata": {
            "tags": []
          },
          "execution_count": 50
        }
      ]
    },
    {
      "cell_type": "markdown",
      "metadata": {
        "id": "SUHh-DIdDQp1"
      },
      "source": [
        "What is the type of a?"
      ],
      "id": "SUHh-DIdDQp1"
    },
    {
      "cell_type": "code",
      "metadata": {
        "colab": {
          "base_uri": "https://localhost:8080/"
        },
        "id": "Nga2voE1DQp1",
        "outputId": "32197efc-3345-47c2-fcfc-6e528c3d6eef"
      },
      "source": [
        "type(a)"
      ],
      "id": "Nga2voE1DQp1",
      "execution_count": null,
      "outputs": [
        {
          "output_type": "execute_result",
          "data": {
            "text/plain": [
              "pandas.core.indexes.datetimes.DatetimeIndex"
            ]
          },
          "metadata": {
            "tags": []
          },
          "execution_count": 51
        }
      ]
    },
    {
      "cell_type": "markdown",
      "metadata": {
        "id": "jJ84MgDTDQp2"
      },
      "source": [
        "________________\n",
        "# Hey high five! You solved the 4th milestone challenge too! Pawri to banti hai ;)\n",
        "________________\n",
        "\n",
        "# Its Feedback Time!\n",
        "\n",
        "We hope you’ve enjoyed this course so far. We’re committed to help you use \"AI for All\" course to its full potential, so that you have a great learning experience. And that’s why we need your help in form of a feedback here.\n",
        "\n",
        "**Please fill this feedback form**\n",
        " https://zfrmz.in/MtRG5oWXBdesm6rmSM7N"
      ],
      "id": "jJ84MgDTDQp2"
    }
  ]
}
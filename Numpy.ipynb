{
  "nbformat": 4,
  "nbformat_minor": 0,
  "metadata": {
    "kernelspec": {
      "display_name": "Python 3",
      "language": "python",
      "name": "python3"
    },
    "language_info": {
      "codemirror_mode": {
        "name": "ipython",
        "version": 3
      },
      "file_extension": ".py",
      "mimetype": "text/x-python",
      "name": "python",
      "nbconvert_exporter": "python",
      "pygments_lexer": "ipython3",
      "version": "3.8.5"
    },
    "colab": {
      "name": "Numpy.ipynb",
      "provenance": [],
      "collapsed_sections": [],
      "include_colab_link": true
    }
  },
  "cells": [
    {
      "cell_type": "markdown",
      "metadata": {
        "id": "view-in-github",
        "colab_type": "text"
      },
      "source": [
        "<a href=\"https://colab.research.google.com/github/SHAGGY670/ongoing/blob/master/Numpy.ipynb\" target=\"_parent\"><img src=\"https://colab.research.google.com/assets/colab-badge.svg\" alt=\"Open In Colab\"/></a>"
      ]
    },
    {
      "cell_type": "markdown",
      "metadata": {
        "id": "oxNgt9w4clGq"
      },
      "source": [
        "# <center> Numpy Basics </center>"
      ]
    },
    {
      "cell_type": "markdown",
      "metadata": {
        "id": "sTbKgyIOclGs"
      },
      "source": [
        "Welcome to section of Numpy. This is one of the \n",
        "the most used Python libraries for data science. NumPy consists of a powerful data structure called multidimensional arrays. Pandas is another powerful Python library that provides fast and easy data analysis platform.\n",
        "\n",
        "NumPy is a library written for scientific computing and data analysis. It stands for numerical python and also known as array oriented computing.\n",
        "\n",
        "The most basic object in NumPy is the ndarray, or simply an array which is an n-dimensional, homogeneous array. By homogenous, we mean that all the elements in a NumPy array have to be of the same data type, which is commonly numeric (float or integer).\n",
        "\n",
        "\n",
        " # Why Numpy?\n",
        " convenience & speed\n",
        " \n",
        " Numpy is much faster than the standard python ways to do computations.\n",
        " \n",
        "Vectorised code typically does not contain explicit looping and indexing etc. (all of this happens behind the scenes, in precompiled C-code), and thus it is much more concise.\n",
        "\n",
        "Also, many Numpy operations are implemented in C which is basically being executed behind the scenes, avoiding the general cost of loops in Python, pointer indirection and per-element dynamic type checking. The speed boost depends on which operations you're performing.\n",
        " \n",
        " NumPy arrays are more compact than lists, i.e. they take much lesser storage space than lists\n",
        " \n",
        " ***Let's get started  with our Numpy Assigment**\n",
        " \n",
        " <p style='text-align: right;'> 2 points </p>\n",
        "\n",
        "\n",
        "You can check this numpy video too! : https://www.youtube.com/watch?v=QUT1VHiLmmI"
      ]
    },
    {
      "cell_type": "code",
      "metadata": {
        "id": "QTRGgyG3clGu"
      },
      "source": [
        "#import numpy module with alias np\n",
        "import numpy as np"
      ],
      "execution_count": 1,
      "outputs": []
    },
    {
      "cell_type": "markdown",
      "metadata": {
        "id": "g1W3diDxclGv"
      },
      "source": [
        "We can create a NumPy ndarray object by using the array() function.\n",
        "To create an ndarray, we can pass a list, tuple or any array-like object into the array() method, and it will be converted into an ndarray:\n"
      ]
    },
    {
      "cell_type": "code",
      "metadata": {
        "id": "Uk43zkY9clGv"
      },
      "source": [
        "# Define a numpy array passing a list with  1,2 and 3 as elements in it\n",
        "a = np.array([1,2,3])"
      ],
      "execution_count": 4,
      "outputs": []
    },
    {
      "cell_type": "code",
      "metadata": {
        "colab": {
          "base_uri": "https://localhost:8080/"
        },
        "id": "edb-AYyLclGw",
        "outputId": "f87f3a81-f3e4-4d05-f466-f909d05ac32d"
      },
      "source": [
        "# print a\n",
        "print(a)"
      ],
      "execution_count": 5,
      "outputs": [
        {
          "output_type": "stream",
          "text": [
            "[1 2 3]\n"
          ],
          "name": "stdout"
        }
      ]
    },
    {
      "cell_type": "markdown",
      "metadata": {
        "id": "4MMKuZcsclGx"
      },
      "source": [
        "## Dimensions in Arrays\n",
        "\n",
        "Reference: https://www.youtube.com/watch?v=BNAfVruKKkU\n",
        "\n",
        "Numpy array can be of n dimentions\n",
        "\n",
        "Lets create arrays of different dimentions.\n",
        "\n",
        "a=A numpy array with one single integer 10\n",
        "\n",
        "b=A numpy array passing a list having a list= [1,2,3]\n",
        "\n",
        "c=A numpy array passing nested list having [[1, 2, 3], [4, 5, 6]] as elements\n",
        "\n",
        "d=A numpy array passing nested list having [[[1, 2, 3], [4, 5, 6]], [[1, 2, 3], [4, 5, 6]]] as elements\n",
        "\n",
        "<p style='text-align: right;'> 3 points </p>\n"
      ]
    },
    {
      "cell_type": "code",
      "metadata": {
        "id": "I30uWCgvclGy"
      },
      "source": [
        "#define a,b,c and d as instructed above\n",
        "\n",
        "a = np.array([10])\n",
        "b = np.array([1,2,3])\n",
        "c = np.array([[1, 2, 3],[4, 5, 6]])\n",
        "d =np.array([[[1, 2, 3], [4, 5, 6]],[[1, 2, 3], [4, 5, 6]]])"
      ],
      "execution_count": 46,
      "outputs": []
    },
    {
      "cell_type": "markdown",
      "metadata": {
        "id": "BiDwI7v8clGz"
      },
      "source": [
        "Are you ready to check its dimention? Use ndim attribute on each variable to check its dimention"
      ]
    },
    {
      "cell_type": "code",
      "metadata": {
        "colab": {
          "base_uri": "https://localhost:8080/"
        },
        "id": "9ccdXiSDclGz",
        "outputId": "8775fff3-435c-49ce-c69c-02ef7cee2327"
      },
      "source": [
        "#print dimentions of a,b, c and d\n",
        "print(a.ndim)\n",
        "print(b.ndim)\n",
        "print(c.ndim)\n",
        "print(d.ndim)\n"
      ],
      "execution_count": 47,
      "outputs": [
        {
          "output_type": "stream",
          "text": [
            "1\n",
            "1\n",
            "2\n",
            "3\n"
          ],
          "name": "stdout"
        }
      ]
    },
    {
      "cell_type": "markdown",
      "metadata": {
        "id": "MCpNSAJHclG0"
      },
      "source": [
        "Hey hey. Did you see! you have created 0-D,1-DeprecationWarning, 2-D and 3-D arrays.\n",
        "\n",
        "Lets print there shape as well. You can check shape using shape attribute\n",
        "\n"
      ]
    },
    {
      "cell_type": "code",
      "metadata": {
        "colab": {
          "base_uri": "https://localhost:8080/"
        },
        "id": "_6iEJwuUclG0",
        "outputId": "f9e90498-c655-45a0-fac5-fa19ac8543d9"
      },
      "source": [
        "# print shape of each a,b ,c and d\n",
        "print(a.shape)\n",
        "print(b.shape)\n",
        "print(c.shape)\n",
        "print(d.shape)"
      ],
      "execution_count": 49,
      "outputs": [
        {
          "output_type": "stream",
          "text": [
            "(1,)\n",
            "(3,)\n",
            "(2, 3)\n",
            "(2, 2, 3)\n"
          ],
          "name": "stdout"
        }
      ]
    },
    {
      "cell_type": "markdown",
      "metadata": {
        "id": "nO_I7ajtclG1"
      },
      "source": [
        "Lets check data type passed in our array. To check data type you can use dtype attribute"
      ]
    },
    {
      "cell_type": "code",
      "metadata": {
        "colab": {
          "base_uri": "https://localhost:8080/"
        },
        "id": "b7rQ74bjclG1",
        "outputId": "e4313daa-aaa8-4844-899d-699dd04278f7"
      },
      "source": [
        "# print data type of c and d\n",
        "\n",
        "print(c.dtype)\n",
        "print(d.dtype)"
      ],
      "execution_count": 50,
      "outputs": [
        {
          "output_type": "stream",
          "text": [
            "int64\n",
            "int64\n"
          ],
          "name": "stdout"
        }
      ]
    },
    {
      "cell_type": "markdown",
      "metadata": {
        "id": "bfsXEeTSclG1"
      },
      "source": [
        "Above output mean our array is having int type elements in it."
      ]
    },
    {
      "cell_type": "markdown",
      "metadata": {
        "id": "jxD1bUgIclG2"
      },
      "source": [
        "Lets check the type of our variable. To check type of any numpy variable use type() function "
      ]
    },
    {
      "cell_type": "code",
      "metadata": {
        "colab": {
          "base_uri": "https://localhost:8080/"
        },
        "id": "e4xtE4hGclG2",
        "outputId": "d9c0bf8e-4c94-40d1-d3a8-8c497cdc212b"
      },
      "source": [
        "#print type of a and b variable\n",
        "\n",
        "print(type(a))\n",
        "print(type(b))"
      ],
      "execution_count": 51,
      "outputs": [
        {
          "output_type": "stream",
          "text": [
            "<class 'numpy.ndarray'>\n",
            "<class 'numpy.ndarray'>\n"
          ],
          "name": "stdout"
        }
      ]
    },
    {
      "cell_type": "code",
      "metadata": {
        "colab": {
          "base_uri": "https://localhost:8080/"
        },
        "id": "FKZJuJXaclG3",
        "outputId": "0cc69d8d-c20a-4711-a217-17dff0c4737a"
      },
      "source": [
        "# Lets check length of array b, using len() function\n",
        "len(b)"
      ],
      "execution_count": 52,
      "outputs": [
        {
          "output_type": "execute_result",
          "data": {
            "text/plain": [
              "3"
            ]
          },
          "metadata": {
            "tags": []
          },
          "execution_count": 52
        }
      ]
    },
    {
      "cell_type": "markdown",
      "metadata": {
        "id": "iO2VYuT2clG3"
      },
      "source": [
        "Bravo!You have Defined ndarray i.e numpy array in variable a nd b. Also you have successfully learned how to create numpy. "
      ]
    },
    {
      "cell_type": "markdown",
      "metadata": {
        "id": "s4iucRcQclG3"
      },
      "source": [
        "## Performance measurement\n",
        "\n",
        "I mentioned that the key advantages of numpy are convenience and speed of computation.\n",
        "\n",
        "You'll often work with extremely large datasets, and thus it is important point for you to understand how much computation time (and memory) you can save using numpy, compared to standard python lists.\n",
        "\n",
        "<p style='text-align: right;'> 2 points </p>\n"
      ]
    },
    {
      "cell_type": "markdown",
      "metadata": {
        "id": "ysmJSBdJclG4"
      },
      "source": [
        "Create two list l1 and l2 where, l1=[10,20,30] and l2=[40,50,60]\n",
        "Also define two numpy arrays l3,l4 where l3 has l1 as element and l4 has l2 as element\n"
      ]
    },
    {
      "cell_type": "code",
      "metadata": {
        "id": "19IUR_XaclG4"
      },
      "source": [
        "# Define l1,l2,l3 and l4 as stated above.\n",
        "l1 =[10,20,30]\n",
        "l2 =[40,50,60] \n",
        "l3 =l1.copy()\n",
        "l4 =l2.copy()"
      ],
      "execution_count": 29,
      "outputs": []
    },
    {
      "cell_type": "markdown",
      "metadata": {
        "id": "7vPQtgLuclG4"
      },
      "source": [
        "Lets multiply each elements of l1 with corresponding elements of l2\n",
        "\n",
        "Here use list comprehention to do so. Lets see how much you remember your work in other assignments.\n",
        "\n",
        "Note: use %timeit as prefix before your line of code inorder to calculate total time taken to run that line<br>\n",
        "eg. %timeit my_code"
      ]
    },
    {
      "cell_type": "code",
      "metadata": {
        "colab": {
          "base_uri": "https://localhost:8080/",
          "height": 438
        },
        "id": "TvoMWYb7clG5",
        "outputId": "bdc534ff-feb3-40c2-a44b-e78f5a20295a"
      },
      "source": [
        "#code here as instructed above\n",
        " #code here\n",
        "%timeit my_code\n",
        "def my_Code():\n",
        "  for i in range(len(l1)):\n",
        "\n",
        "    print(l1[i]*l2[i])\n",
        "print(timeit.timeit(stmt=testcode, setup=my_code))"
      ],
      "execution_count": 36,
      "outputs": [
        {
          "output_type": "error",
          "ename": "NameError",
          "evalue": "ignored",
          "traceback": [
            "\u001b[0;31m---------------------------------------------------------------------------\u001b[0m",
            "\u001b[0;31mNameError\u001b[0m                                 Traceback (most recent call last)",
            "\u001b[0;32m<ipython-input-36-bbe0bc273da0>\u001b[0m in \u001b[0;36m<module>\u001b[0;34m()\u001b[0m\n\u001b[1;32m      1\u001b[0m \u001b[0;31m#code here as instructed above\u001b[0m\u001b[0;34m\u001b[0m\u001b[0;34m\u001b[0m\u001b[0;34m\u001b[0m\u001b[0m\n\u001b[1;32m      2\u001b[0m  \u001b[0;31m#code here\u001b[0m\u001b[0;34m\u001b[0m\u001b[0;34m\u001b[0m\u001b[0;34m\u001b[0m\u001b[0m\n\u001b[0;32m----> 3\u001b[0;31m \u001b[0mget_ipython\u001b[0m\u001b[0;34m(\u001b[0m\u001b[0;34m)\u001b[0m\u001b[0;34m.\u001b[0m\u001b[0mmagic\u001b[0m\u001b[0;34m(\u001b[0m\u001b[0;34m'timeit my_code'\u001b[0m\u001b[0;34m)\u001b[0m\u001b[0;34m\u001b[0m\u001b[0;34m\u001b[0m\u001b[0m\n\u001b[0m\u001b[1;32m      4\u001b[0m \u001b[0;32mdef\u001b[0m \u001b[0mmy_Code\u001b[0m\u001b[0;34m(\u001b[0m\u001b[0;34m)\u001b[0m\u001b[0;34m:\u001b[0m\u001b[0;34m\u001b[0m\u001b[0;34m\u001b[0m\u001b[0m\n\u001b[1;32m      5\u001b[0m   \u001b[0;32mfor\u001b[0m \u001b[0mi\u001b[0m \u001b[0;32min\u001b[0m \u001b[0mrange\u001b[0m\u001b[0;34m(\u001b[0m\u001b[0mlen\u001b[0m\u001b[0;34m(\u001b[0m\u001b[0ml1\u001b[0m\u001b[0;34m)\u001b[0m\u001b[0;34m)\u001b[0m\u001b[0;34m:\u001b[0m\u001b[0;34m\u001b[0m\u001b[0;34m\u001b[0m\u001b[0m\n",
            "\u001b[0;32m/usr/local/lib/python3.7/dist-packages/IPython/core/interactiveshell.py\u001b[0m in \u001b[0;36mmagic\u001b[0;34m(self, arg_s)\u001b[0m\n\u001b[1;32m   2158\u001b[0m         \u001b[0mmagic_name\u001b[0m\u001b[0;34m,\u001b[0m \u001b[0m_\u001b[0m\u001b[0;34m,\u001b[0m \u001b[0mmagic_arg_s\u001b[0m \u001b[0;34m=\u001b[0m \u001b[0marg_s\u001b[0m\u001b[0;34m.\u001b[0m\u001b[0mpartition\u001b[0m\u001b[0;34m(\u001b[0m\u001b[0;34m' '\u001b[0m\u001b[0;34m)\u001b[0m\u001b[0;34m\u001b[0m\u001b[0;34m\u001b[0m\u001b[0m\n\u001b[1;32m   2159\u001b[0m         \u001b[0mmagic_name\u001b[0m \u001b[0;34m=\u001b[0m \u001b[0mmagic_name\u001b[0m\u001b[0;34m.\u001b[0m\u001b[0mlstrip\u001b[0m\u001b[0;34m(\u001b[0m\u001b[0mprefilter\u001b[0m\u001b[0;34m.\u001b[0m\u001b[0mESC_MAGIC\u001b[0m\u001b[0;34m)\u001b[0m\u001b[0;34m\u001b[0m\u001b[0;34m\u001b[0m\u001b[0m\n\u001b[0;32m-> 2160\u001b[0;31m         \u001b[0;32mreturn\u001b[0m \u001b[0mself\u001b[0m\u001b[0;34m.\u001b[0m\u001b[0mrun_line_magic\u001b[0m\u001b[0;34m(\u001b[0m\u001b[0mmagic_name\u001b[0m\u001b[0;34m,\u001b[0m \u001b[0mmagic_arg_s\u001b[0m\u001b[0;34m)\u001b[0m\u001b[0;34m\u001b[0m\u001b[0;34m\u001b[0m\u001b[0m\n\u001b[0m\u001b[1;32m   2161\u001b[0m \u001b[0;34m\u001b[0m\u001b[0m\n\u001b[1;32m   2162\u001b[0m     \u001b[0;31m#-------------------------------------------------------------------------\u001b[0m\u001b[0;34m\u001b[0m\u001b[0;34m\u001b[0m\u001b[0;34m\u001b[0m\u001b[0m\n",
            "\u001b[0;32m/usr/local/lib/python3.7/dist-packages/IPython/core/interactiveshell.py\u001b[0m in \u001b[0;36mrun_line_magic\u001b[0;34m(self, magic_name, line)\u001b[0m\n\u001b[1;32m   2079\u001b[0m                 \u001b[0mkwargs\u001b[0m\u001b[0;34m[\u001b[0m\u001b[0;34m'local_ns'\u001b[0m\u001b[0;34m]\u001b[0m \u001b[0;34m=\u001b[0m \u001b[0msys\u001b[0m\u001b[0;34m.\u001b[0m\u001b[0m_getframe\u001b[0m\u001b[0;34m(\u001b[0m\u001b[0mstack_depth\u001b[0m\u001b[0;34m)\u001b[0m\u001b[0;34m.\u001b[0m\u001b[0mf_locals\u001b[0m\u001b[0;34m\u001b[0m\u001b[0;34m\u001b[0m\u001b[0m\n\u001b[1;32m   2080\u001b[0m             \u001b[0;32mwith\u001b[0m \u001b[0mself\u001b[0m\u001b[0;34m.\u001b[0m\u001b[0mbuiltin_trap\u001b[0m\u001b[0;34m:\u001b[0m\u001b[0;34m\u001b[0m\u001b[0;34m\u001b[0m\u001b[0m\n\u001b[0;32m-> 2081\u001b[0;31m                 \u001b[0mresult\u001b[0m \u001b[0;34m=\u001b[0m \u001b[0mfn\u001b[0m\u001b[0;34m(\u001b[0m\u001b[0;34m*\u001b[0m\u001b[0margs\u001b[0m\u001b[0;34m,\u001b[0m\u001b[0;34m**\u001b[0m\u001b[0mkwargs\u001b[0m\u001b[0;34m)\u001b[0m\u001b[0;34m\u001b[0m\u001b[0;34m\u001b[0m\u001b[0m\n\u001b[0m\u001b[1;32m   2082\u001b[0m             \u001b[0;32mreturn\u001b[0m \u001b[0mresult\u001b[0m\u001b[0;34m\u001b[0m\u001b[0;34m\u001b[0m\u001b[0m\n\u001b[1;32m   2083\u001b[0m \u001b[0;34m\u001b[0m\u001b[0m\n",
            "\u001b[0;32m<decorator-gen-52>\u001b[0m in \u001b[0;36mtimeit\u001b[0;34m(self, line, cell)\u001b[0m\n",
            "\u001b[0;32m/usr/local/lib/python3.7/dist-packages/IPython/core/magic.py\u001b[0m in \u001b[0;36m<lambda>\u001b[0;34m(f, *a, **k)\u001b[0m\n\u001b[1;32m    186\u001b[0m     \u001b[0;31m# but it's overkill for just that one bit of state.\u001b[0m\u001b[0;34m\u001b[0m\u001b[0;34m\u001b[0m\u001b[0;34m\u001b[0m\u001b[0m\n\u001b[1;32m    187\u001b[0m     \u001b[0;32mdef\u001b[0m \u001b[0mmagic_deco\u001b[0m\u001b[0;34m(\u001b[0m\u001b[0marg\u001b[0m\u001b[0;34m)\u001b[0m\u001b[0;34m:\u001b[0m\u001b[0;34m\u001b[0m\u001b[0;34m\u001b[0m\u001b[0m\n\u001b[0;32m--> 188\u001b[0;31m         \u001b[0mcall\u001b[0m \u001b[0;34m=\u001b[0m \u001b[0;32mlambda\u001b[0m \u001b[0mf\u001b[0m\u001b[0;34m,\u001b[0m \u001b[0;34m*\u001b[0m\u001b[0ma\u001b[0m\u001b[0;34m,\u001b[0m \u001b[0;34m**\u001b[0m\u001b[0mk\u001b[0m\u001b[0;34m:\u001b[0m \u001b[0mf\u001b[0m\u001b[0;34m(\u001b[0m\u001b[0;34m*\u001b[0m\u001b[0ma\u001b[0m\u001b[0;34m,\u001b[0m \u001b[0;34m**\u001b[0m\u001b[0mk\u001b[0m\u001b[0;34m)\u001b[0m\u001b[0;34m\u001b[0m\u001b[0;34m\u001b[0m\u001b[0m\n\u001b[0m\u001b[1;32m    189\u001b[0m \u001b[0;34m\u001b[0m\u001b[0m\n\u001b[1;32m    190\u001b[0m         \u001b[0;32mif\u001b[0m \u001b[0mcallable\u001b[0m\u001b[0;34m(\u001b[0m\u001b[0marg\u001b[0m\u001b[0;34m)\u001b[0m\u001b[0;34m:\u001b[0m\u001b[0;34m\u001b[0m\u001b[0;34m\u001b[0m\u001b[0m\n",
            "\u001b[0;32m/usr/local/lib/python3.7/dist-packages/IPython/core/magics/execution.py\u001b[0m in \u001b[0;36mtimeit\u001b[0;34m(self, line, cell)\u001b[0m\n\u001b[1;32m   1055\u001b[0m             \u001b[0mnumber\u001b[0m \u001b[0;34m=\u001b[0m \u001b[0;36m1\u001b[0m\u001b[0;34m\u001b[0m\u001b[0;34m\u001b[0m\u001b[0m\n\u001b[1;32m   1056\u001b[0m             \u001b[0;32mfor\u001b[0m \u001b[0m_\u001b[0m \u001b[0;32min\u001b[0m \u001b[0mrange\u001b[0m\u001b[0;34m(\u001b[0m\u001b[0;36m1\u001b[0m\u001b[0;34m,\u001b[0m \u001b[0;36m10\u001b[0m\u001b[0;34m)\u001b[0m\u001b[0;34m:\u001b[0m\u001b[0;34m\u001b[0m\u001b[0;34m\u001b[0m\u001b[0m\n\u001b[0;32m-> 1057\u001b[0;31m                 \u001b[0mtime_number\u001b[0m \u001b[0;34m=\u001b[0m \u001b[0mtimer\u001b[0m\u001b[0;34m.\u001b[0m\u001b[0mtimeit\u001b[0m\u001b[0;34m(\u001b[0m\u001b[0mnumber\u001b[0m\u001b[0;34m)\u001b[0m\u001b[0;34m\u001b[0m\u001b[0;34m\u001b[0m\u001b[0m\n\u001b[0m\u001b[1;32m   1058\u001b[0m                 \u001b[0mworst_tuning\u001b[0m \u001b[0;34m=\u001b[0m \u001b[0mmax\u001b[0m\u001b[0;34m(\u001b[0m\u001b[0mworst_tuning\u001b[0m\u001b[0;34m,\u001b[0m \u001b[0mtime_number\u001b[0m \u001b[0;34m/\u001b[0m \u001b[0mnumber\u001b[0m\u001b[0;34m)\u001b[0m\u001b[0;34m\u001b[0m\u001b[0;34m\u001b[0m\u001b[0m\n\u001b[1;32m   1059\u001b[0m                 \u001b[0;32mif\u001b[0m \u001b[0mtime_number\u001b[0m \u001b[0;34m>=\u001b[0m \u001b[0;36m0.2\u001b[0m\u001b[0;34m:\u001b[0m\u001b[0;34m\u001b[0m\u001b[0;34m\u001b[0m\u001b[0m\n",
            "\u001b[0;32m/usr/local/lib/python3.7/dist-packages/IPython/core/magics/execution.py\u001b[0m in \u001b[0;36mtimeit\u001b[0;34m(self, number)\u001b[0m\n\u001b[1;32m    137\u001b[0m         \u001b[0mgc\u001b[0m\u001b[0;34m.\u001b[0m\u001b[0mdisable\u001b[0m\u001b[0;34m(\u001b[0m\u001b[0;34m)\u001b[0m\u001b[0;34m\u001b[0m\u001b[0;34m\u001b[0m\u001b[0m\n\u001b[1;32m    138\u001b[0m         \u001b[0;32mtry\u001b[0m\u001b[0;34m:\u001b[0m\u001b[0;34m\u001b[0m\u001b[0;34m\u001b[0m\u001b[0m\n\u001b[0;32m--> 139\u001b[0;31m             \u001b[0mtiming\u001b[0m \u001b[0;34m=\u001b[0m \u001b[0mself\u001b[0m\u001b[0;34m.\u001b[0m\u001b[0minner\u001b[0m\u001b[0;34m(\u001b[0m\u001b[0mit\u001b[0m\u001b[0;34m,\u001b[0m \u001b[0mself\u001b[0m\u001b[0;34m.\u001b[0m\u001b[0mtimer\u001b[0m\u001b[0;34m)\u001b[0m\u001b[0;34m\u001b[0m\u001b[0;34m\u001b[0m\u001b[0m\n\u001b[0m\u001b[1;32m    140\u001b[0m         \u001b[0;32mfinally\u001b[0m\u001b[0;34m:\u001b[0m\u001b[0;34m\u001b[0m\u001b[0;34m\u001b[0m\u001b[0m\n\u001b[1;32m    141\u001b[0m             \u001b[0;32mif\u001b[0m \u001b[0mgcold\u001b[0m\u001b[0;34m:\u001b[0m\u001b[0;34m\u001b[0m\u001b[0;34m\u001b[0m\u001b[0m\n",
            "\u001b[0;32m<magic-timeit>\u001b[0m in \u001b[0;36minner\u001b[0;34m(_it, _timer)\u001b[0m\n",
            "\u001b[0;31mNameError\u001b[0m: name 'my_code' is not defined"
          ]
        }
      ]
    },
    {
      "cell_type": "markdown",
      "metadata": {
        "id": "u2XTfKXPclG5"
      },
      "source": [
        "Lets mulptiply l3 and l4\n",
        "\n",
        "Note: use %timeit as prefix before your line of code inorder to calculate total time taken to run that line"
      ]
    },
    {
      "cell_type": "code",
      "metadata": {
        "id": "eKLdmJd_clG5",
        "outputId": "ed2353e1-9761-42fc-c392-c83f9581ecdf"
      },
      "source": [
        "%timeit #code here"
      ],
      "execution_count": null,
      "outputs": [
        {
          "output_type": "stream",
          "text": [
            "1.31 µs ± 117 ns per loop (mean ± std. dev. of 7 runs, 1000000 loops each)\n"
          ],
          "name": "stdout"
        }
      ]
    },
    {
      "cell_type": "markdown",
      "metadata": {
        "id": "3a6WB02JclG6"
      },
      "source": [
        "Don't worry if still your one line of code is running. Its because your system is calculating total time taken to run your code.\n",
        "\n",
        "Did you notice buddy! time taken to multiply two lists takes more time than multiplyimg two numpy array.\n",
        "Hence proved that numpy arrays are faster than lists.\n",
        "\n",
        "**Fun Fact time!:**\n",
        "\n",
        "You know in many data science interviews it is asked that what is the difference between list and array.<br>\n",
        "The answer is: https://www.youtube.com/watch?v=XI6PHo_gP4E\n",
        "\n"
      ]
    },
    {
      "cell_type": "markdown",
      "metadata": {
        "id": "5J3_AcczclG6"
      },
      "source": [
        "so in numpy arrays I can do everything without even writing a loop? yes... ohh wao"
      ]
    },
    {
      "cell_type": "markdown",
      "metadata": {
        "id": "UBndMkdqclG6"
      },
      "source": [
        "### Creating Numpy array\n",
        "\n",
        "\n",
        "There are multiple ways to create numpy array. Lets walk over them\n",
        "\n",
        "1. Using arrange() function <br>\n",
        "Refer: https://numpy.org/doc/stable/reference/generated/numpy.arange.html\n",
        "\n",
        "<p style='text-align: right;'> 8 points </p>\n"
      ]
    },
    {
      "cell_type": "code",
      "metadata": {
        "colab": {
          "base_uri": "https://localhost:8080/"
        },
        "id": "ReueXIAAclG7",
        "outputId": "3a4bec28-4f3a-4feb-d496-049ea7b82ab0"
      },
      "source": [
        "#Create a numpy array using arange with 1 and 11 as parameter in it\n",
        "a=np.arange(1,11)\n",
        "print(a)"
      ],
      "execution_count": 4,
      "outputs": [
        {
          "output_type": "stream",
          "text": [
            "[ 1  2  3  4  5  6  7  8  9 10]\n"
          ],
          "name": "stdout"
        }
      ]
    },
    {
      "cell_type": "markdown",
      "metadata": {
        "id": "LlHZce4WclG7"
      },
      "source": [
        "This means using arrange we get evenly spaced values within a given interval. Interval? Yes you can mention interval as well as third parameter in it."
      ]
    },
    {
      "cell_type": "code",
      "metadata": {
        "colab": {
          "base_uri": "https://localhost:8080/"
        },
        "id": "vjiZ7c0vclG7",
        "outputId": "93265819-be44-44bb-b8d8-1d1989fcc098"
      },
      "source": [
        "# Create an array using arange passing 1,11 and 2 as parameters\n",
        "print(np.arange(1,11,2))"
      ],
      "execution_count": 5,
      "outputs": [
        {
          "output_type": "stream",
          "text": [
            "[1 3 5 7 9]\n"
          ],
          "name": "stdout"
        }
      ]
    },
    {
      "cell_type": "markdown",
      "metadata": {
        "id": "LCGSygXgclG8"
      },
      "source": [
        "Did you see? you got all odd numbers as you had mentioned interval between 1 and 10. Also note that 11 is excluded and hence arrange function counted till 10\n",
        "\n",
        "2. Using eye Function <br>\n",
        "Refer: https://numpy.org/devdocs/reference/generated/numpy.eye.html"
      ]
    },
    {
      "cell_type": "code",
      "metadata": {
        "id": "VJ0TQ-lVclG8",
        "outputId": "f986960c-613e-4742-cc17-a220cd242518"
      },
      "source": [
        "# create numpy array using eye function with 3 as passed parameter\n"
      ],
      "execution_count": null,
      "outputs": [
        {
          "output_type": "execute_result",
          "data": {
            "text/plain": [
              "array([[1., 0., 0.],\n",
              "       [0., 1., 0.],\n",
              "       [0., 0., 1.]])"
            ]
          },
          "metadata": {
            "tags": []
          },
          "execution_count": 15
        }
      ]
    },
    {
      "cell_type": "markdown",
      "metadata": {
        "id": "Xm1x7YVzclG9"
      },
      "source": [
        "Wohoo! eye return a 2-D array with ones on the diagonal and zeros elsewhere.\n",
        "\n",
        "3. Using zero function<br>\n",
        "Refer: https://numpy.org/doc/stable/reference/generated/numpy.zeros.html"
      ]
    },
    {
      "cell_type": "code",
      "metadata": {
        "colab": {
          "base_uri": "https://localhost:8080/"
        },
        "id": "hls9FIfyclG-",
        "outputId": "40c90421-56aa-439a-b7db-6b62b50901b7"
      },
      "source": [
        "#create a numpy array using zero function with (3,2) as passed parameter\n",
        "print(np.zeros((3,2)))\n"
      ],
      "execution_count": 8,
      "outputs": [
        {
          "output_type": "stream",
          "text": [
            "[[0. 0.]\n",
            " [0. 0.]\n",
            " [0. 0.]]\n"
          ],
          "name": "stdout"
        }
      ]
    },
    {
      "cell_type": "markdown",
      "metadata": {
        "id": "hhMcIaw4clG_"
      },
      "source": [
        "Zero function returns a new array of given shape and type, filled with zeros.\n",
        "\n",
        "4. Using ones Function <br>\n",
        "Refer: https://numpy.org/doc/stable/reference/generated/numpy.ones.html"
      ]
    },
    {
      "cell_type": "code",
      "metadata": {
        "colab": {
          "base_uri": "https://localhost:8080/"
        },
        "id": "N2DaiQkGclG_",
        "outputId": "6a845bd0-e123-4e0d-f0ee-7624e78bcf16"
      },
      "source": [
        "#create a numpy array using ones function with (3,2) as passed parameter\n",
        "\n",
        "print(np.ones((3,2)))"
      ],
      "execution_count": 7,
      "outputs": [
        {
          "output_type": "stream",
          "text": [
            "[[1. 1.]\n",
            " [1. 1.]\n",
            " [1. 1.]]\n"
          ],
          "name": "stdout"
        }
      ]
    },
    {
      "cell_type": "markdown",
      "metadata": {
        "id": "hfqnW2n4clHA"
      },
      "source": [
        "You noticed! ones function returns a new array of given shape and type, filled with ones.\n",
        "\n",
        "5. Using full Function<br>\n",
        "Refer: https://numpy.org/doc/stable/reference/generated/numpy.full.html"
      ]
    },
    {
      "cell_type": "code",
      "metadata": {
        "colab": {
          "base_uri": "https://localhost:8080/"
        },
        "id": "ZJeONEdPclHA",
        "outputId": "8fa4dde6-07c1-4f7d-992e-5d1d0c7d3079"
      },
      "source": [
        "#create a numpy array using full function with (3,2) and 2 as passed parameter\n",
        "print(np.full((3,2),2))\n"
      ],
      "execution_count": 10,
      "outputs": [
        {
          "output_type": "stream",
          "text": [
            "[[2 2]\n",
            " [2 2]\n",
            " [2 2]]\n"
          ],
          "name": "stdout"
        }
      ]
    },
    {
      "cell_type": "markdown",
      "metadata": {
        "id": "Hc4e7537clHB"
      },
      "source": [
        "Yeah! full function return a new array of given shape and type, filled with fill_value, here it is 2\n",
        "\n",
        "pl6. Using diag function<br>\n",
        "Refer: https://numpy.org/doc/stable/reference/generated/numpy.diag.html"
      ]
    },
    {
      "cell_type": "code",
      "metadata": {
        "colab": {
          "base_uri": "https://localhost:8080/"
        },
        "id": "qkFkGZXkclHB",
        "outputId": "faa957cc-b9f5-4d14-d487-ec168f25fa78"
      },
      "source": [
        "#create a numpy array using diag function passing a list [1,2,3,4,5]\n",
        "print(np.diagflat([1,2,3,4,5]))\n"
      ],
      "execution_count": 11,
      "outputs": [
        {
          "output_type": "stream",
          "text": [
            "[[1 0 0 0 0]\n",
            " [0 2 0 0 0]\n",
            " [0 0 3 0 0]\n",
            " [0 0 0 4 0]\n",
            " [0 0 0 0 5]]\n"
          ],
          "name": "stdout"
        }
      ]
    },
    {
      "cell_type": "markdown",
      "metadata": {
        "id": "pr0l5ViaclHB"
      },
      "source": [
        "Oh yeah! diag function extract a diagonal or construct a diagonal array.\n",
        "\n",
        " 7. Using tile function<br>\n",
        "    Refer: https://numpy.org/doc/stable/reference/generated/numpy.tile.html"
      ]
    },
    {
      "cell_type": "code",
      "metadata": {
        "colab": {
          "base_uri": "https://localhost:8080/"
        },
        "id": "yNNW-hbMclHC",
        "outputId": "1edc09bb-c776-4956-b4a3-3c3182ecef78"
      },
      "source": [
        "# Create a numpy array v with [1,2,3] as its elements\n",
        "v = np.array([1,2,3])\n",
        "#Use tile function of numpy and pass v and (3,1) as its parametrs\n",
        "np.tile(v,(3,1))\n"
      ],
      "execution_count": 15,
      "outputs": [
        {
          "output_type": "execute_result",
          "data": {
            "text/plain": [
              "array([[1, 2, 3],\n",
              "       [1, 2, 3],\n",
              "       [1, 2, 3]])"
            ]
          },
          "metadata": {
            "tags": []
          },
          "execution_count": 15
        }
      ]
    },
    {
      "cell_type": "markdown",
      "metadata": {
        "id": "RxU-r68uclHC"
      },
      "source": [
        "Returns an array by repeating an input array the number of times given by mentioned shape.\n",
        "Here you can see that you stacked 3 copies of v on top of each other\n",
        "\n",
        "8. Using linspace Function<br>\n",
        "Refer: https://numpy.org/doc/stable/reference/generated/numpy.linspace.html"
      ]
    },
    {
      "cell_type": "code",
      "metadata": {
        "colab": {
          "base_uri": "https://localhost:8080/"
        },
        "id": "WuAH87NQclHC",
        "outputId": "67b966a0-ed6a-4604-e9c9-00136fb365a4"
      },
      "source": [
        "# Create an array with 100 values between 1 and 50 using linspace\n",
        "print(np.linspace(1,50,100,retstep=True))"
      ],
      "execution_count": 6,
      "outputs": [
        {
          "output_type": "stream",
          "text": [
            "(array([ 1.        ,  1.49494949,  1.98989899,  2.48484848,  2.97979798,\n",
            "        3.47474747,  3.96969697,  4.46464646,  4.95959596,  5.45454545,\n",
            "        5.94949495,  6.44444444,  6.93939394,  7.43434343,  7.92929293,\n",
            "        8.42424242,  8.91919192,  9.41414141,  9.90909091, 10.4040404 ,\n",
            "       10.8989899 , 11.39393939, 11.88888889, 12.38383838, 12.87878788,\n",
            "       13.37373737, 13.86868687, 14.36363636, 14.85858586, 15.35353535,\n",
            "       15.84848485, 16.34343434, 16.83838384, 17.33333333, 17.82828283,\n",
            "       18.32323232, 18.81818182, 19.31313131, 19.80808081, 20.3030303 ,\n",
            "       20.7979798 , 21.29292929, 21.78787879, 22.28282828, 22.77777778,\n",
            "       23.27272727, 23.76767677, 24.26262626, 24.75757576, 25.25252525,\n",
            "       25.74747475, 26.24242424, 26.73737374, 27.23232323, 27.72727273,\n",
            "       28.22222222, 28.71717172, 29.21212121, 29.70707071, 30.2020202 ,\n",
            "       30.6969697 , 31.19191919, 31.68686869, 32.18181818, 32.67676768,\n",
            "       33.17171717, 33.66666667, 34.16161616, 34.65656566, 35.15151515,\n",
            "       35.64646465, 36.14141414, 36.63636364, 37.13131313, 37.62626263,\n",
            "       38.12121212, 38.61616162, 39.11111111, 39.60606061, 40.1010101 ,\n",
            "       40.5959596 , 41.09090909, 41.58585859, 42.08080808, 42.57575758,\n",
            "       43.07070707, 43.56565657, 44.06060606, 44.55555556, 45.05050505,\n",
            "       45.54545455, 46.04040404, 46.53535354, 47.03030303, 47.52525253,\n",
            "       48.02020202, 48.51515152, 49.01010101, 49.50505051, 50.        ]), 0.494949494949495)\n"
          ],
          "name": "stdout"
        }
      ]
    },
    {
      "cell_type": "markdown",
      "metadata": {
        "id": "dRaXRImIclHD"
      },
      "source": [
        "Wao! linspace returns evenly spaced numbers over a specified interval.\n",
        "\n",
        "Hey but you saw some similar defination for arrange function\n",
        "\n",
        "The main difference both of them is that arange return values with in a range which has a space between values (in other words the step) and linspace returns set of samples with in a given interval.\n",
        "\n",
        "## Numpy Random numbers\n",
        "\n",
        "\n",
        "Fun Fact:\n",
        "\n",
        "You can create a numpy array with random numbers also. How? Uisng random function<br>\n",
        "Lets see how\n",
        "Refer: https://numpy.org/doc/stable/reference/random/generated/numpy.random.rand.html\n",
        "\n",
        "<p style='text-align: right;'> 3 points </p>\n"
      ]
    },
    {
      "cell_type": "code",
      "metadata": {
        "colab": {
          "base_uri": "https://localhost:8080/"
        },
        "id": "F3LfTOIdclHD",
        "outputId": "de428453-1fcb-4635-e27a-7d917f016673"
      },
      "source": [
        "# Generate one random number between 0 and 1 using numpy's random.rand() function.\n",
        "\n",
        "np.random.rand()"
      ],
      "execution_count": 8,
      "outputs": [
        {
          "output_type": "execute_result",
          "data": {
            "text/plain": [
              "0.021764870762893462"
            ]
          },
          "metadata": {
            "tags": []
          },
          "execution_count": 8
        }
      ]
    },
    {
      "cell_type": "markdown",
      "metadata": {
        "id": "NzMbJA0QclHD"
      },
      "source": [
        "Run the above cell again and check if number changes.\n",
        "\n",
        "Yeah it changes. That's so random :)"
      ]
    },
    {
      "cell_type": "code",
      "metadata": {
        "colab": {
          "base_uri": "https://localhost:8080/"
        },
        "id": "5acU0QvuclHD",
        "outputId": "0f042ddb-1101-4d70-a255-9ffe5d92ea37"
      },
      "source": [
        "# so let say I want a random value between 2 and 50\n",
        "np.random.randint(2,50)"
      ],
      "execution_count": 14,
      "outputs": [
        {
          "output_type": "execute_result",
          "data": {
            "text/plain": [
              "12"
            ]
          },
          "metadata": {
            "tags": []
          },
          "execution_count": 14
        }
      ]
    },
    {
      "cell_type": "markdown",
      "metadata": {
        "id": "p-crLA8VclHE"
      },
      "source": [
        "Run the above cell again and check if number changes and its between 2 to 50.\n",
        "\n",
        "Now lets create an array with random numbers 0 to 1 of shape 3X3"
      ]
    },
    {
      "cell_type": "code",
      "metadata": {
        "colab": {
          "base_uri": "https://localhost:8080/"
        },
        "id": "Ctz36MkVclHE",
        "outputId": "a34fdc12-c20a-46c5-ac39-145988c45acd"
      },
      "source": [
        "#get an array as stated above\n",
        "np.random.rand(3,3)"
      ],
      "execution_count": 10,
      "outputs": [
        {
          "output_type": "execute_result",
          "data": {
            "text/plain": [
              "array([[0.45159567, 0.86661042, 0.30022086],\n",
              "       [0.24166099, 0.15281327, 0.9878283 ],\n",
              "       [0.20784868, 0.67920711, 0.60823359]])"
            ]
          },
          "metadata": {
            "tags": []
          },
          "execution_count": 10
        }
      ]
    },
    {
      "cell_type": "markdown",
      "metadata": {
        "id": "DanU0XalclHE"
      },
      "source": [
        "Smile! you got it how to create a numpy array with random numbers.\n",
        "\n",
        "## Numpy Reshape\n",
        "\n",
        "Reference: https://www.youtube.com/watch?v=sGCuryS8zjc\n",
        "\n",
        "reference doc: https://numpy.org/doc/stable/reference/generated/numpy.reshape.html\n",
        "\n",
        "Reshaping means changing the shape of an array.\n",
        "The shape of an array is the number of elements in each dimension.\n",
        "By reshaping we can add or remove dimensions or change number of elements in each dimension.\n",
        "\n",
        "<p style='text-align: right;'> 6 points </p>\n"
      ]
    },
    {
      "cell_type": "code",
      "metadata": {
        "id": "3ARnOFL0clHF"
      },
      "source": [
        "# Using arange() to generate numpy array x with numbers between 1 to 16\n",
        "x=np.arange(1,17)"
      ],
      "execution_count": 16,
      "outputs": []
    },
    {
      "cell_type": "markdown",
      "metadata": {
        "id": "oUwZ6eFZclHF"
      },
      "source": [
        "So here x is our 1-D array along with being sweet sixteen array ;). Lets reshape our x into 2-D and 3-D array using Reshape\n",
        "\n",
        "1. Reshaping 1-D to 2-D"
      ]
    },
    {
      "cell_type": "code",
      "metadata": {
        "colab": {
          "base_uri": "https://localhost:8080/"
        },
        "id": "cLi4W40lclHG",
        "outputId": "d7b81155-5a51-411b-9056-8a214f9f1617"
      },
      "source": [
        "# Reshape x with 2 rows and 8 columns\n",
        "np.reshape(x,(2,8))"
      ],
      "execution_count": 17,
      "outputs": [
        {
          "output_type": "execute_result",
          "data": {
            "text/plain": [
              "array([[ 1,  2,  3,  4,  5,  6,  7,  8],\n",
              "       [ 9, 10, 11, 12, 13, 14, 15, 16]])"
            ]
          },
          "metadata": {
            "tags": []
          },
          "execution_count": 17
        }
      ]
    },
    {
      "cell_type": "markdown",
      "metadata": {
        "id": "Mfo6lJAtclHH"
      },
      "source": [
        "As you can see above that our x changed into 2D matrix\n",
        "\n",
        "2. Reshaping 1-D to 3-D array\n"
      ]
    },
    {
      "cell_type": "code",
      "metadata": {
        "colab": {
          "base_uri": "https://localhost:8080/"
        },
        "id": "ijiIW8IdclHH",
        "outputId": "25d69a3b-dce8-4a6a-c161-cba2f9d4f68a"
      },
      "source": [
        "# reshape x with dimension that will have 2 arrays that contains 4 arrays, each with 2 elements:\n",
        "print(x.reshape(2,2,4))"
      ],
      "execution_count": 29,
      "outputs": [
        {
          "output_type": "stream",
          "text": [
            "[[[ 1  2  3  4]\n",
            "  [ 5  6  7  8]]\n",
            "\n",
            " [[ 9 10 11 12]\n",
            "  [13 14 15 16]]]\n"
          ],
          "name": "stdout"
        }
      ]
    },
    {
      "cell_type": "markdown",
      "metadata": {
        "id": "Lr0qf2WJclHI"
      },
      "source": [
        "**Fun Fact:**\n",
        "\n",
        "<u>Unknown Dimension</u>\n",
        "\n",
        "You are allowed to have one \"unknown\" dimension.Meaning that you do not have to specify an exact number for one of the dimensions in the reshape method.\n",
        "Pass -1 as the value, and NumPy will calculate this number for you. Awesome right?\n"
      ]
    },
    {
      "cell_type": "code",
      "metadata": {
        "colab": {
          "base_uri": "https://localhost:8080/"
        },
        "id": "_Q_vgL8AclHI",
        "outputId": "df330529-b614-4b84-b1d7-008c381e7e51"
      },
      "source": [
        "# Use unknown dimention to reshape x into 2-D numpy array with shape 4*4\n",
        "print(x.reshape(4,-1))"
      ],
      "execution_count": 20,
      "outputs": [
        {
          "output_type": "stream",
          "text": [
            "[[ 1  2  3  4]\n",
            " [ 5  6  7  8]\n",
            " [ 9 10 11 12]\n",
            " [13 14 15 16]]\n"
          ],
          "name": "stdout"
        }
      ]
    },
    {
      "cell_type": "code",
      "metadata": {
        "colab": {
          "base_uri": "https://localhost:8080/"
        },
        "id": "J0MFjHaFclHJ",
        "outputId": "e0c9307f-0ffa-46fc-f79c-ed915f4eda39"
      },
      "source": [
        "# Use unknown dimention to  reshape x into 3-D numpy array with 2 arrays that contains 4 arrays\n",
        "y=x.reshape(2,4,-1)\n",
        "\n",
        "# print y\n",
        "print(y)"
      ],
      "execution_count": 28,
      "outputs": [
        {
          "output_type": "stream",
          "text": [
            "[[[ 1  2]\n",
            "  [ 3  4]\n",
            "  [ 5  6]\n",
            "  [ 7  8]]\n",
            "\n",
            " [[ 9 10]\n",
            "  [11 12]\n",
            "  [13 14]\n",
            "  [15 16]]]\n"
          ],
          "name": "stdout"
        }
      ]
    },
    {
      "cell_type": "markdown",
      "metadata": {
        "id": "c6fTgdAGclHJ"
      },
      "source": [
        "Note: We can not pass -1 to more than one dimension.\n",
        "\n",
        "Another cool Fact: -1 can be used to flatten an array which means converting a multidimensional array into a 1D array.\n",
        "\n",
        "    Lets apply this technique on y which is 3-D array"
      ]
    },
    {
      "cell_type": "code",
      "metadata": {
        "colab": {
          "base_uri": "https://localhost:8080/"
        },
        "id": "Qk07mEbgclHK",
        "outputId": "0032916a-d44d-4161-921a-e7936e009900"
      },
      "source": [
        "# Flattening y\n",
        "print(y.reshape(-1))\n"
      ],
      "execution_count": 30,
      "outputs": [
        {
          "output_type": "stream",
          "text": [
            "[ 1  2  3  4  5  6  7  8  9 10 11 12 13 14 15 16]\n"
          ],
          "name": "stdout"
        }
      ]
    },
    {
      "cell_type": "markdown",
      "metadata": {
        "id": "INBMZm75clHK"
      },
      "source": [
        "Awesome work!\n",
        "\n",
        "## NumPy Array Indexing\n",
        "\n",
        "Reference: https://www.youtube.com/watch?v=bFv66_RXLb4\n",
        "\n",
        "Array indexing is the same as accessing an array element. You can access an array element by referring to its index number.\n",
        "\n",
        "The indexes in NumPy arrays start with 0, meaning that the first element has index 0, and the second has index 1 etc.\n",
        "\n",
        "<p style='text-align: right;'> 4 points </p>\n"
      ]
    },
    {
      "cell_type": "code",
      "metadata": {
        "colab": {
          "base_uri": "https://localhost:8080/"
        },
        "id": "E3BXDv8JclHL",
        "outputId": "11094793-9294-4510-8b3e-286618391582"
      },
      "source": [
        "# Create an array a with all even numbers between 1 to 17\n",
        "a = np.arange(2,17,2)\n",
        "\n",
        "# print a\n",
        "a"
      ],
      "execution_count": 33,
      "outputs": [
        {
          "output_type": "execute_result",
          "data": {
            "text/plain": [
              "array([ 2,  4,  6,  8, 10, 12, 14, 16])"
            ]
          },
          "metadata": {
            "tags": []
          },
          "execution_count": 33
        }
      ]
    },
    {
      "cell_type": "code",
      "metadata": {
        "colab": {
          "base_uri": "https://localhost:8080/"
        },
        "id": "fZwHikK4clHL",
        "outputId": "520193e5-08cd-4728-ca21-636b8a74189c"
      },
      "source": [
        "# Get third element in array a\n",
        "print(a[2])"
      ],
      "execution_count": 35,
      "outputs": [
        {
          "output_type": "stream",
          "text": [
            "6\n"
          ],
          "name": "stdout"
        }
      ]
    },
    {
      "cell_type": "code",
      "metadata": {
        "colab": {
          "base_uri": "https://localhost:8080/"
        },
        "id": "j_18U_1PclHM",
        "outputId": "88b9bdb0-5826-4346-b132-381bc731d1eb"
      },
      "source": [
        "#Print 3rd, 5th, and 7th element in array a\n",
        "print(a[2::2])"
      ],
      "execution_count": 39,
      "outputs": [
        {
          "output_type": "stream",
          "text": [
            "[ 6 10 14]\n"
          ],
          "name": "stdout"
        }
      ]
    },
    {
      "cell_type": "markdown",
      "metadata": {
        "id": "JUVvOPvhclHM"
      },
      "source": [
        "Lets check the same for 2 D array"
      ]
    },
    {
      "cell_type": "code",
      "metadata": {
        "colab": {
          "base_uri": "https://localhost:8080/"
        },
        "id": "4_mh1UgeclHM",
        "outputId": "a1565c88-a9e7-4f07-ce55-19327db43f6d"
      },
      "source": [
        "# Define an array 2-D a with [[1,2,3],[4,5,6],[7,8,9]] as its elements.\n",
        "a=np.array([[1,2,3],[4,5,6],[7,8,9]])\n",
        "print(a)"
      ],
      "execution_count": 42,
      "outputs": [
        {
          "output_type": "stream",
          "text": [
            "[[1 2 3]\n",
            " [4 5 6]\n",
            " [7 8 9]]\n"
          ],
          "name": "stdout"
        }
      ]
    },
    {
      "cell_type": "code",
      "metadata": {
        "colab": {
          "base_uri": "https://localhost:8080/"
        },
        "id": "28k99gSUclHN",
        "outputId": "dbc02eaa-e7da-4875-8729-f585c9229526"
      },
      "source": [
        "# print the 3rd element from the 3rd row of a\n",
        "print(a[2,2])"
      ],
      "execution_count": 43,
      "outputs": [
        {
          "output_type": "stream",
          "text": [
            "9\n"
          ],
          "name": "stdout"
        }
      ]
    },
    {
      "cell_type": "markdown",
      "metadata": {
        "id": "WzCpDPGZclHN"
      },
      "source": [
        "Well done!\n",
        "\n",
        "Now lets check indexing for 3 D array "
      ]
    },
    {
      "cell_type": "code",
      "metadata": {
        "colab": {
          "base_uri": "https://localhost:8080/"
        },
        "id": "PKsWJoF6clHO",
        "outputId": "e84fa7c0-214d-4086-a7db-8e786c84434a"
      },
      "source": [
        "# Define an array b again with [[[1, 2, 3], [4, 5, 6]], [[7, 8, 9], [10, 11, 12]]] as its elements.\n",
        "b =np.array([[[1, 2, 3], [4, 5, 6]], [[7, 8, 9], [10, 11, 12]]])\n",
        "print(b)"
      ],
      "execution_count": 4,
      "outputs": [
        {
          "output_type": "stream",
          "text": [
            "[[[ 1  2  3]\n",
            "  [ 4  5  6]]\n",
            "\n",
            " [[ 7  8  9]\n",
            "  [10 11 12]]]\n"
          ],
          "name": "stdout"
        }
      ]
    },
    {
      "cell_type": "code",
      "metadata": {
        "colab": {
          "base_uri": "https://localhost:8080/"
        },
        "id": "Z6dA04A-clHO",
        "outputId": "a8f37460-3580-4dcf-c96a-18716b1df514"
      },
      "source": [
        "# Print 3rd element from 2nd list which is 1st list in nested list passed. Confusing right? 'a' have nested array.Understand the braket differences.\n",
        "print(b[0,1,2])"
      ],
      "execution_count": 8,
      "outputs": [
        {
          "output_type": "stream",
          "text": [
            "6\n"
          ],
          "name": "stdout"
        }
      ]
    },
    {
      "cell_type": "markdown",
      "metadata": {
        "id": "6F4oXuC0clHP"
      },
      "source": [
        "Well done.!\n",
        "\n",
        "Have you heared about **negative indexing?**\n",
        "\n",
        "\n",
        "We can use negative indexing to access an array from the end."
      ]
    },
    {
      "cell_type": "code",
      "metadata": {
        "colab": {
          "base_uri": "https://localhost:8080/"
        },
        "id": "TojyHhKHclHP",
        "outputId": "ec3dc560-3643-436a-d41b-dde1bd4d317b"
      },
      "source": [
        "# Print the second last element from the 2nd dim using negative indexing\n",
        "print(b[0,1,-2])"
      ],
      "execution_count": 9,
      "outputs": [
        {
          "output_type": "stream",
          "text": [
            "5\n"
          ],
          "name": "stdout"
        }
      ]
    },
    {
      "cell_type": "markdown",
      "metadata": {
        "id": "b1LKBIAWclHP"
      },
      "source": [
        "Great job! \n",
        "So now you have learned how to to indexing on various dimentions of numpy array.\n",
        "\n",
        "## NumPy Array Slicing\n",
        "\n",
        "Reference: https://www.youtube.com/watch?v=fIXh-gmR7mQ\n",
        "\n",
        "Slicing in python means taking elements from one given index to another given index.\n",
        "\n",
        "    1. We pass slice instead of index like this: [start:end].\n",
        "    2. We can also define the step, like this: [start:end:step].\n",
        "    3. If we don't pass start its considered 0\n",
        "    4. If we don't pass end its considered length of array in that dimension\n",
        "    5. If we don't pass step its considered 1\n",
        "    \n",
        "<p style='text-align: right;'> 5 points </p>\n",
        "\n",
        "    \n",
        "1. **Array slicing in 1-D array.**"
      ]
    },
    {
      "cell_type": "code",
      "metadata": {
        "colab": {
          "base_uri": "https://localhost:8080/"
        },
        "id": "V3-iApupclHQ",
        "outputId": "856c2ef9-0fb9-495e-e836-71c26d2f43e3"
      },
      "source": [
        "arr=np.arange(1,11)\n",
        "arr"
      ],
      "execution_count": 10,
      "outputs": [
        {
          "output_type": "execute_result",
          "data": {
            "text/plain": [
              "array([ 1,  2,  3,  4,  5,  6,  7,  8,  9, 10])"
            ]
          },
          "metadata": {
            "tags": []
          },
          "execution_count": 10
        }
      ]
    },
    {
      "cell_type": "code",
      "metadata": {
        "colab": {
          "base_uri": "https://localhost:8080/"
        },
        "id": "jYa0-9I8clHQ",
        "outputId": "d8d4444b-f338-4115-8e68-d663c7533324"
      },
      "source": [
        "# Slice elements from 1st to 5th element from array arr:\n",
        "\n",
        "print(arr[0:5])"
      ],
      "execution_count": 13,
      "outputs": [
        {
          "output_type": "stream",
          "text": [
            "[1 2 3 4 5]\n"
          ],
          "name": "stdout"
        }
      ]
    },
    {
      "cell_type": "markdown",
      "metadata": {
        "id": "0-8Z9xq2clHR"
      },
      "source": [
        "Note: The result includes the start index, but excludes the end index.\n",
        "\n"
      ]
    },
    {
      "cell_type": "code",
      "metadata": {
        "colab": {
          "base_uri": "https://localhost:8080/"
        },
        "id": "7P-4QNeBclHR",
        "outputId": "50df86a1-f484-44da-cab7-94ad095f0f1d"
      },
      "source": [
        "# Slice elements from index 5 to the end of the array arr:\n",
        "print(arr[5:])"
      ],
      "execution_count": 14,
      "outputs": [
        {
          "output_type": "stream",
          "text": [
            "[ 6  7  8  9 10]\n"
          ],
          "name": "stdout"
        }
      ]
    },
    {
      "cell_type": "code",
      "metadata": {
        "id": "HIr0wQhNclHS"
      },
      "source": [
        ""
      ],
      "execution_count": null,
      "outputs": []
    },
    {
      "cell_type": "markdown",
      "metadata": {
        "id": "atxJwM2PclHS"
      },
      "source": [
        "Have you heared about **Negative Slicing?**\n",
        "\n",
        "We can use the minus operator to refer to an index from the end:\n",
        "\n"
      ]
    },
    {
      "cell_type": "code",
      "metadata": {
        "colab": {
          "base_uri": "https://localhost:8080/"
        },
        "id": "Phe3YsHmclHS",
        "outputId": "a0acf416-88ca-4408-bd04-75bd4a1b6199"
      },
      "source": [
        "# Slice from the index 3 from the end to index 1 from the end:\n",
        "print(arr[-3:-1])\n"
      ],
      "execution_count": 20,
      "outputs": [
        {
          "output_type": "stream",
          "text": [
            "[8 9]\n"
          ],
          "name": "stdout"
        }
      ]
    },
    {
      "cell_type": "markdown",
      "metadata": {
        "id": "XWamSU-PclHT"
      },
      "source": [
        "**STEP**\n",
        "\n",
        "Use the step value to determine the step of the slicing:"
      ]
    },
    {
      "cell_type": "code",
      "metadata": {
        "colab": {
          "base_uri": "https://localhost:8080/"
        },
        "id": "OmyZzQpBclHT",
        "outputId": "10ff6720-5502-4afb-b3cb-a801fd0454aa"
      },
      "source": [
        "# Print every other element from index 1 to index 7:\n",
        "print(arr[1:7:2])\n"
      ],
      "execution_count": 21,
      "outputs": [
        {
          "output_type": "stream",
          "text": [
            "[2 4 6]\n"
          ],
          "name": "stdout"
        }
      ]
    },
    {
      "cell_type": "markdown",
      "metadata": {
        "id": "Mvv264GCclHU"
      },
      "source": [
        "Did you see? using step you were able to get alternate elements within specified index numbers."
      ]
    },
    {
      "cell_type": "code",
      "metadata": {
        "colab": {
          "base_uri": "https://localhost:8080/"
        },
        "id": "TI34eKpvclHU",
        "outputId": "385aa255-66f2-444c-d2ff-c0003a05aceb"
      },
      "source": [
        "# Return every other element from the entire array arr:\n",
        "print(arr[0:10:2])"
      ],
      "execution_count": 23,
      "outputs": [
        {
          "output_type": "stream",
          "text": [
            "[1 3 5 7 9]\n"
          ],
          "name": "stdout"
        }
      ]
    },
    {
      "cell_type": "markdown",
      "metadata": {
        "id": "KCNG5Vn6clHU"
      },
      "source": [
        "well done!\n",
        "\n",
        "Lets do some slicing on 2-D array also. We already have 'a' as our 2-D array. We will use it here.\n",
        "\n",
        "**2. Array slicing in 2-D array.**"
      ]
    },
    {
      "cell_type": "code",
      "metadata": {
        "colab": {
          "base_uri": "https://localhost:8080/"
        },
        "id": "FZHxL1N3clHV",
        "outputId": "7f7c3f3a-f05e-48b0-e980-d7028b5d7ed9"
      },
      "source": [
        "# Print array a\n",
        "a=np.array([[1, 2, 3],\n",
        "       [4, 5, 6],\n",
        "       [7, 8, 9]])\n",
        "print(a)"
      ],
      "execution_count": 25,
      "outputs": [
        {
          "output_type": "stream",
          "text": [
            "[[1 2 3]\n",
            " [4 5 6]\n",
            " [7 8 9]]\n"
          ],
          "name": "stdout"
        }
      ]
    },
    {
      "cell_type": "code",
      "metadata": {
        "id": "zS7cemFyclHV",
        "outputId": "10d71631-92d9-4f20-965d-f8c4812f037f"
      },
      "source": [
        "# From the third element, slice elements from index 1 to index 5 (not included) from array 'a'\n",
        "\n"
      ],
      "execution_count": null,
      "outputs": [
        {
          "output_type": "execute_result",
          "data": {
            "text/plain": [
              "array([8, 9])"
            ]
          },
          "metadata": {
            "tags": []
          },
          "execution_count": 47
        }
      ]
    },
    {
      "cell_type": "code",
      "metadata": {
        "colab": {
          "base_uri": "https://localhost:8080/"
        },
        "id": "Ks993QwyclHW",
        "outputId": "63f08fae-5ae9-498c-83b8-dc05c5c6d55c"
      },
      "source": [
        "# In array 'a' print index 2 from all the rows :\n",
        "print(a[:,2])\n"
      ],
      "execution_count": 26,
      "outputs": [
        {
          "output_type": "stream",
          "text": [
            "[3 6 9]\n"
          ],
          "name": "stdout"
        }
      ]
    },
    {
      "cell_type": "code",
      "metadata": {
        "colab": {
          "base_uri": "https://localhost:8080/"
        },
        "id": "Cdcav63CclHW",
        "outputId": "9c58dd2c-2f0e-4284-9883-4c9013222e42"
      },
      "source": [
        "# From all the elements in 'a', slice index 1 till end, this will return a 2-D array:\n",
        "\n",
        "print(a[:,1:])"
      ],
      "execution_count": 27,
      "outputs": [
        {
          "output_type": "stream",
          "text": [
            "[[2 3]\n",
            " [5 6]\n",
            " [8 9]]\n"
          ],
          "name": "stdout"
        }
      ]
    },
    {
      "cell_type": "markdown",
      "metadata": {
        "id": "_VMgAAINclHX"
      },
      "source": [
        "Hurray! You have learned Slicing in Numpy array. Now you know to access any numpy array."
      ]
    },
    {
      "cell_type": "markdown",
      "metadata": {
        "id": "YVogLPZ3clHX"
      },
      "source": [
        "## Numpy copy vs view\n",
        "\n",
        "Reference: https://www.youtube.com/watch?v=h2db8BLWyVw\n",
        "\n",
        "<p style='text-align: right;'> 7 points </p>\n"
      ]
    },
    {
      "cell_type": "code",
      "metadata": {
        "id": "JrmKoTzvclHX"
      },
      "source": [
        "x1= np.arange(10)"
      ],
      "execution_count": 2,
      "outputs": []
    },
    {
      "cell_type": "code",
      "metadata": {
        "id": "ZLQDBs_WclHY"
      },
      "source": [
        "# assign x2 = x1\n",
        "x2=x1"
      ],
      "execution_count": 5,
      "outputs": []
    },
    {
      "cell_type": "code",
      "metadata": {
        "colab": {
          "base_uri": "https://localhost:8080/"
        },
        "id": "MNMi-upGclHY",
        "outputId": "ca948e43-b2e8-4d9a-87b1-c5a5493f4b0b"
      },
      "source": [
        "#print x1 and x2\n",
        "print(x1)\n",
        "print(x2)\n"
      ],
      "execution_count": 6,
      "outputs": [
        {
          "output_type": "stream",
          "text": [
            "[0 1 2 3 4 5 6 7 8 9]\n",
            "[0 1 2 3 4 5 6 7 8 9]\n"
          ],
          "name": "stdout"
        }
      ]
    },
    {
      "cell_type": "markdown",
      "metadata": {
        "id": "MmvQU5qVclHY"
      },
      "source": [
        "Ok now you have seen that both of them are same "
      ]
    },
    {
      "cell_type": "code",
      "metadata": {
        "id": "dEIWDuAcclHZ"
      },
      "source": [
        "# change 1st element of x2 as 10\n",
        "x2[0]=10"
      ],
      "execution_count": 7,
      "outputs": []
    },
    {
      "cell_type": "code",
      "metadata": {
        "colab": {
          "base_uri": "https://localhost:8080/"
        },
        "id": "FHeKl4_5clHZ",
        "outputId": "d030e2dc-1137-4008-929b-a6e381712ea0"
      },
      "source": [
        "#Again print x1 and x2\n",
        "print(x1)\n",
        "print(x2)\n"
      ],
      "execution_count": 8,
      "outputs": [
        {
          "output_type": "stream",
          "text": [
            "[10  1  2  3  4  5  6  7  8  9]\n",
            "[10  1  2  3  4  5  6  7  8  9]\n"
          ],
          "name": "stdout"
        }
      ]
    },
    {
      "cell_type": "markdown",
      "metadata": {
        "id": "zHlb_VJuclHa"
      },
      "source": [
        "Wait a minute. Just check your above result on change of x2, x1 also got changed. Why?\n",
        "\n",
        "Lets check if both the variables shares memory. Use numpy shares_memory() function to check if both x1 and x2 shares a  memory.\n",
        "\n",
        "Refer: https://numpy.org/doc/stable/reference/generated/numpy.shares_memory.html"
      ]
    },
    {
      "cell_type": "code",
      "metadata": {
        "colab": {
          "base_uri": "https://localhost:8080/"
        },
        "id": "U9SKPd2RclHa",
        "outputId": "3244e0e1-1e1d-4b0d-a9e4-6368c6664e0a"
      },
      "source": [
        "# Check memory share between x1 and x2\n",
        "print(np.shares_memory(x1,x2))"
      ],
      "execution_count": 33,
      "outputs": [
        {
          "output_type": "stream",
          "text": [
            "True\n"
          ],
          "name": "stdout"
        }
      ]
    },
    {
      "cell_type": "markdown",
      "metadata": {
        "id": "_-4BGSRGclHa"
      },
      "source": [
        "Hey It's True they both share memory\n",
        "\n",
        "Shall we try **view()** function also likwise."
      ]
    },
    {
      "cell_type": "code",
      "metadata": {
        "colab": {
          "base_uri": "https://localhost:8080/"
        },
        "id": "021AaSPWclHb",
        "outputId": "f40f98c1-76c2-4175-83e1-0541b8fe44fe"
      },
      "source": [
        "# Create a view of x1 and store it in x3.\n",
        "x3 = x1.view()\n",
        "print(x3)"
      ],
      "execution_count": 10,
      "outputs": [
        {
          "output_type": "stream",
          "text": [
            "[10  1  2  3  4  5  6  7  8  9]\n"
          ],
          "name": "stdout"
        }
      ]
    },
    {
      "cell_type": "code",
      "metadata": {
        "colab": {
          "base_uri": "https://localhost:8080/"
        },
        "id": "XinvAuXiclHb",
        "outputId": "8bc7a7a6-5c01-45ca-dae2-bc2613838b3e"
      },
      "source": [
        "# Again check memory share between x1 and x3\n",
        "print(np.shares_memory(x3,x1))"
      ],
      "execution_count": 36,
      "outputs": [
        {
          "output_type": "stream",
          "text": [
            "True\n"
          ],
          "name": "stdout"
        }
      ]
    },
    {
      "cell_type": "markdown",
      "metadata": {
        "id": "IQycKx0RclHb"
      },
      "source": [
        "Woh! simple assignment is similar to view. That means \n",
        "The view does not own the data and any changes made to the view will affect the original array, and any changes made to the original array will affect the view.\n",
        "\n",
        "Don't agree? ok lets change x3 and see if original array i.e. x1 also changes"
      ]
    },
    {
      "cell_type": "code",
      "metadata": {
        "id": "m9y74WNdclHc"
      },
      "source": [
        "#Change 1st element of x3=100\n",
        "x3[0]=100"
      ],
      "execution_count": 11,
      "outputs": []
    },
    {
      "cell_type": "code",
      "metadata": {
        "colab": {
          "base_uri": "https://localhost:8080/"
        },
        "id": "Oe1T-p20clHc",
        "outputId": "50d44151-1b8d-4e76-ab70-fa6a73d63323"
      },
      "source": [
        "#print x1 and x3 to check if changes reflected in both\n",
        "print(x1)\n",
        "print(x3)"
      ],
      "execution_count": 12,
      "outputs": [
        {
          "output_type": "stream",
          "text": [
            "[100   1   2   3   4   5   6   7   8   9]\n",
            "[100   1   2   3   4   5   6   7   8   9]\n"
          ],
          "name": "stdout"
        }
      ]
    },
    {
      "cell_type": "markdown",
      "metadata": {
        "id": "Y-sy4FeuclHd"
      },
      "source": [
        "Now its proved.\n",
        "\n",
        "Lets see how **Copy()** function works"
      ]
    },
    {
      "cell_type": "code",
      "metadata": {
        "colab": {
          "base_uri": "https://localhost:8080/"
        },
        "id": "Pf4scLU3clHd",
        "outputId": "56201b3c-e31b-4e60-f21e-fdb9259a28b7"
      },
      "source": [
        "# Now create an array x4 which is copy of x1\n",
        "\n",
        "x4=x1.copy()\n",
        "print(x4)"
      ],
      "execution_count": 13,
      "outputs": [
        {
          "output_type": "stream",
          "text": [
            "[100   1   2   3   4   5   6   7   8   9]\n"
          ],
          "name": "stdout"
        }
      ]
    },
    {
      "cell_type": "code",
      "metadata": {
        "id": "ujKUO5esclHd"
      },
      "source": [
        "# Change the last element of x4 as 900\n",
        "x4[9]=900"
      ],
      "execution_count": 14,
      "outputs": []
    },
    {
      "cell_type": "code",
      "metadata": {
        "colab": {
          "base_uri": "https://localhost:8080/"
        },
        "id": "PKBhiiQVclHe",
        "outputId": "444673c1-4993-452d-d777-9924cd07687f"
      },
      "source": [
        "# print both x1 and x4 to check if changes reflected in both\n",
        "print(x1)\n",
        "print(x4)"
      ],
      "execution_count": 15,
      "outputs": [
        {
          "output_type": "stream",
          "text": [
            "[100   1   2   3   4   5   6   7   8   9]\n",
            "[100   1   2   3   4   5   6   7   8 900]\n"
          ],
          "name": "stdout"
        }
      ]
    },
    {
      "cell_type": "markdown",
      "metadata": {
        "id": "qrfb9mSMclHe"
      },
      "source": [
        "Hey! such an intresting output. You noticed buddy! your original array didn't get changed on change of its copy ie. x4.\n",
        "\n",
        "Still not convinced? Ok lets see if they both share memory or not"
      ]
    },
    {
      "cell_type": "code",
      "metadata": {
        "colab": {
          "base_uri": "https://localhost:8080/"
        },
        "id": "5GAGnV8FclHf",
        "outputId": "9be271e1-3afb-462a-eeae-92e4e5898d0d"
      },
      "source": [
        "#Check memory share between x1 and x4\n",
        "print(np.shares_memory(x1,x4))"
      ],
      "execution_count": 44,
      "outputs": [
        {
          "output_type": "stream",
          "text": [
            "False\n"
          ],
          "name": "stdout"
        }
      ]
    },
    {
      "cell_type": "markdown",
      "metadata": {
        "id": "ahm7O2TIclHf"
      },
      "source": [
        "You see! x1 and x4 don't share its memory. \n",
        "\n",
        "So with all our outputs we can takeaway few points:\n",
        "\n",
        "    1. The main difference between a copy and a view of an array is that the copy is a new array, and the view is just a view of the original array.\n",
        "\n",
        "    2. The copy owns the data and any changes made to the copy will not affect original array, and any changes made to the original array will not affect the copy.\n",
        "\n",
        "    3. The view does not own the data and any changes made to the view will affect the original array, and any changes made to the original array will affect the view."
      ]
    },
    {
      "cell_type": "markdown",
      "metadata": {
        "id": "EHk4ueK1clHg"
      },
      "source": [
        "## More operations on Numpy\n",
        "\n",
        "**1. Applying conditions**\n",
        "\n",
        "Reference: https://thispointer.com/python-numpy-select-elements-or-indices-by-conditions-from-numpy-array/\n",
        "\n",
        "<p style='text-align: right;'> 5 points </p>\n"
      ]
    },
    {
      "cell_type": "code",
      "metadata": {
        "id": "1BdeDhZ1clHg"
      },
      "source": [
        "#print a\n",
        "a=np.array([[1, 2, 3],\n",
        "       [4, 5, 6],\n",
        "       [7, 8, 9]])"
      ],
      "execution_count": 13,
      "outputs": []
    },
    {
      "cell_type": "markdown",
      "metadata": {
        "id": "73FmuH2IclHg"
      },
      "source": [
        "We are going to use 'a' array for all our array condition operations.\n"
      ]
    },
    {
      "cell_type": "code",
      "metadata": {
        "colab": {
          "base_uri": "https://localhost:8080/"
        },
        "id": "UlQhYDRQclHh",
        "outputId": "ba4d4ab8-8fea-47ac-a948-0e6187cd203b"
      },
      "source": [
        "# Check if every element in array a greater than 3 or not Using '>' notation\n",
        "boolarr= a>3\n",
        "print(boolarr)"
      ],
      "execution_count": 51,
      "outputs": [
        {
          "output_type": "stream",
          "text": [
            "[[False False False]\n",
            " [ True  True  True]\n",
            " [ True  True  True]]\n"
          ],
          "name": "stdout"
        }
      ]
    },
    {
      "cell_type": "code",
      "metadata": {
        "colab": {
          "base_uri": "https://localhost:8080/"
        },
        "id": "vWcrvqiOclHh",
        "outputId": "a553fcdc-dea9-4a68-d266-b80b8daa62f3"
      },
      "source": [
        "# Get a list with all elements of array 'a' grater than 3\n",
        "print(a[a>3])"
      ],
      "execution_count": 54,
      "outputs": [
        {
          "output_type": "stream",
          "text": [
            "[4 5 6 7 8 9]\n"
          ],
          "name": "stdout"
        }
      ]
    },
    {
      "cell_type": "code",
      "metadata": {
        "colab": {
          "base_uri": "https://localhost:8080/"
        },
        "id": "z7jMZ3U0clHi",
        "outputId": "59d088d8-4819-4969-abad-e510b934a06c"
      },
      "source": [
        "# Get a list with all elements of array 'a' greater than 3 but less than 6\n",
        "print(a[(a>3) & (a<6)])"
      ],
      "execution_count": 60,
      "outputs": [
        {
          "output_type": "stream",
          "text": [
            "[4 5]\n"
          ],
          "name": "stdout"
        }
      ]
    },
    {
      "cell_type": "code",
      "metadata": {
        "colab": {
          "base_uri": "https://localhost:8080/"
        },
        "id": "DNhzYuoNclHi",
        "outputId": "7b25d23d-e4b4-4920-dd3b-445818677b2f"
      },
      "source": [
        "# check if each elements in array 'x1' equals array 'x4' using '==' notation\n",
        "boolar1=(x1==x4)\n",
        "print(boolar1)"
      ],
      "execution_count": 9,
      "outputs": [
        {
          "output_type": "stream",
          "text": [
            "[ True  True  True  True  True  True  True  True  True  True]\n"
          ],
          "name": "stdout"
        }
      ]
    },
    {
      "cell_type": "markdown",
      "metadata": {
        "id": "G4LLSxVeclHj"
      },
      "source": [
        "You can see in above output that the last element is not same in both x1 and x4\n",
        "\n",
        "Well done so far.\n",
        "\n",
        "Lets check how to transpose an array\n",
        "\n",
        "**2. Transposing array**\n",
        "\n",
        "Reference: https://www.youtube.com/watch?v=8qpMys9ptBs"
      ]
    },
    {
      "cell_type": "code",
      "metadata": {
        "colab": {
          "base_uri": "https://localhost:8080/"
        },
        "id": "ipD-MD1wclHj",
        "outputId": "7ddd6f3c-d0f0-475f-b8d6-2ff5b3f94256"
      },
      "source": [
        "# Print Transpose of array 'a'\n",
        "\n",
        "#print array 'a'\n",
        "print(np.transpose(a))\n"
      ],
      "execution_count": 14,
      "outputs": [
        {
          "output_type": "stream",
          "text": [
            "[[1 4 7]\n",
            " [2 5 8]\n",
            " [3 6 9]]\n"
          ],
          "name": "stdout"
        }
      ]
    },
    {
      "cell_type": "markdown",
      "metadata": {
        "id": "IbOZ2BM6clHj"
      },
      "source": [
        "In above output all the rows became columns by transposing "
      ]
    },
    {
      "cell_type": "markdown",
      "metadata": {
        "id": "6n4oWKmPclHk"
      },
      "source": [
        "**3. hstack vs vstack function**\n",
        "\n",
        "Reference: https://www.youtube.com/watch?v=p1bsYXwg97Q\n",
        "\n",
        "Stacking is same as concatenation, the only difference is that stacking is done along a new axis.\n",
        "\n",
        "NumPy provides a helper function: \n",
        "\n",
        "1. hstack() to stack along rows.\n",
        "2. vstack()  to stack along columns\n",
        "\n",
        "You wanna see how? Then here we go...!\n",
        "\n",
        "reference doc: https://scipython.com/book/chapter-6-numpy/examples/vstack-and-hstack/"
      ]
    },
    {
      "cell_type": "code",
      "metadata": {
        "colab": {
          "base_uri": "https://localhost:8080/"
        },
        "id": "sK_9EGhPclHk",
        "outputId": "76aacbf8-c3b9-48ed-8ece-4a39106be5b1"
      },
      "source": [
        "# stack x1 and x4 along columns.\n",
        "np.vstack((x1,x4))\n"
      ],
      "execution_count": 19,
      "outputs": [
        {
          "output_type": "execute_result",
          "data": {
            "text/plain": [
              "array([[0, 1, 2, 3, 4, 5, 6, 7, 8, 9],\n",
              "       [0, 1, 2, 3, 4, 5, 6, 7, 8, 9]])"
            ]
          },
          "metadata": {
            "tags": []
          },
          "execution_count": 19
        }
      ]
    },
    {
      "cell_type": "code",
      "metadata": {
        "colab": {
          "base_uri": "https://localhost:8080/"
        },
        "id": "4N6UPeM5clHl",
        "outputId": "644a994a-6041-430b-b839-dac19d7f4d03"
      },
      "source": [
        "#stack x1 and x4 along rows\n",
        "np.hstack((x1,x4))"
      ],
      "execution_count": 21,
      "outputs": [
        {
          "output_type": "execute_result",
          "data": {
            "text/plain": [
              "array([0, 1, 2, 3, 4, 5, 6, 7, 8, 9, 0, 1, 2, 3, 4, 5, 6, 7, 8, 9])"
            ]
          },
          "metadata": {
            "tags": []
          },
          "execution_count": 21
        }
      ]
    },
    {
      "cell_type": "markdown",
      "metadata": {
        "id": "1EwMr32dclHl"
      },
      "source": [
        "We hope now you saw the difference between them.\n",
        "\n",
        "Fun fact! you can even use concatenate() function to join 2 arrays along with the axis. If axis is not explicitly passed, it is taken as 0 ie. along column\n",
        "\n",
        "Lets try this function as well\n",
        "\n",
        "Reference: https://www.youtube.com/watch?v=X4zjs_wPxLU"
      ]
    },
    {
      "cell_type": "code",
      "metadata": {
        "colab": {
          "base_uri": "https://localhost:8080/"
        },
        "id": "hVc_lQxuclHl",
        "outputId": "dbfb8bde-3642-4274-d7f3-bc04e15187ee"
      },
      "source": [
        "arr1 = np.array([[1, 2], [3, 4]])\n",
        "\n",
        "arr2 = np.array([[5, 6], [7, 8]])\n",
        "print(np.concatenate((arr1,arr2),1))\n",
        "\n",
        "##join arr1 and arr2 along rows using concatenate() function\n"
      ],
      "execution_count": 34,
      "outputs": [
        {
          "output_type": "stream",
          "text": [
            "[[1 2 5 6]\n",
            " [3 4 7 8]]\n"
          ],
          "name": "stdout"
        }
      ]
    },
    {
      "cell_type": "code",
      "metadata": {
        "colab": {
          "base_uri": "https://localhost:8080/"
        },
        "id": "o4N-oAPgclHr",
        "outputId": "ab72da4a-d98b-4a3c-d99a-da93158951b0"
      },
      "source": [
        "##join arr1 and arr2 along columns using concatenate() function\n",
        "print(np.concatenate((arr1,arr2),0))"
      ],
      "execution_count": 26,
      "outputs": [
        {
          "output_type": "stream",
          "text": [
            "[[1 2]\n",
            " [3 4]\n",
            " [5 6]\n",
            " [7 8]]\n"
          ],
          "name": "stdout"
        }
      ]
    },
    {
      "cell_type": "markdown",
      "metadata": {
        "id": "p5UTvdGcclHr"
      },
      "source": [
        "## Adding, Insert and delete Numpy array\n",
        "\n",
        "Reference: https://www.youtube.com/watch?v=dEnCfapUbEw\n",
        "\n",
        "<p style='text-align: right;'> 3 points </p>\n"
      ]
    },
    {
      "cell_type": "markdown",
      "metadata": {
        "id": "RZzxp4TmclHs"
      },
      "source": [
        "You can also add 2 arrays using append() function also. This function appends values to end of array\n",
        "\n",
        "Lets see how"
      ]
    },
    {
      "cell_type": "code",
      "metadata": {
        "colab": {
          "base_uri": "https://localhost:8080/"
        },
        "id": "GbRTx6cZclHs",
        "outputId": "99bde9a6-ecfd-4595-ddb5-b5f3d8f27be2"
      },
      "source": [
        "# append arr2 to arr1\n",
        "print(np.append(arr1,arr2))"
      ],
      "execution_count": 29,
      "outputs": [
        {
          "output_type": "stream",
          "text": [
            "[1 2 3 4 5 6 7 8]\n"
          ],
          "name": "stdout"
        }
      ]
    },
    {
      "cell_type": "markdown",
      "metadata": {
        "id": "mkLpKn1jclHt"
      },
      "source": [
        "Lets use insert() function which Inserts values into array before specified index value"
      ]
    },
    {
      "cell_type": "code",
      "metadata": {
        "colab": {
          "base_uri": "https://localhost:8080/"
        },
        "id": "8JHG8gDWclHt",
        "outputId": "8ef7cd07-86d0-4f59-e26f-959ca6fa032c"
      },
      "source": [
        "# Inserts values into array x1 before index 4 with elements of x4\n",
        "print(np.insert(x1,4,x4))"
      ],
      "execution_count": 16,
      "outputs": [
        {
          "output_type": "stream",
          "text": [
            "[100   1   2   3 100   1   2   3   4   5   6   7   8 900   4   5   6   7\n",
            "   8   9]\n"
          ],
          "name": "stdout"
        }
      ]
    },
    {
      "cell_type": "markdown",
      "metadata": {
        "id": "CBSMt4MQclHt"
      },
      "source": [
        "You can see in above output we have inserted all the elements of x4 before index 4 in array x1."
      ]
    },
    {
      "cell_type": "code",
      "metadata": {
        "colab": {
          "base_uri": "https://localhost:8080/"
        },
        "id": "7ceCDrphclHu",
        "outputId": "e4485d69-2497-4f26-832a-a411211a4ae6"
      },
      "source": [
        "# delete 2nd element from array x2\n",
        "\n",
        "np.delete(x2,2)"
      ],
      "execution_count": 17,
      "outputs": [
        {
          "output_type": "execute_result",
          "data": {
            "text/plain": [
              "array([100,   1,   3,   4,   5,   6,   7,   8,   9])"
            ]
          },
          "metadata": {
            "tags": []
          },
          "execution_count": 17
        }
      ]
    },
    {
      "cell_type": "markdown",
      "metadata": {
        "id": "LBhDKptSclHu"
      },
      "source": [
        "Did you see? 2 value is deleted from x2 which was at index position 2"
      ]
    },
    {
      "cell_type": "markdown",
      "metadata": {
        "id": "2kzJ1FPDclHu"
      },
      "source": [
        "## Mathmatical operations on Numpy array\n",
        "\n",
        "Reference doc for Numpy Mathmatical functions: https://numpy.org/doc/stable/reference/routines.math.html\n",
        "\n",
        "<p style='text-align: right;'> 8 points </p>\n"
      ]
    },
    {
      "cell_type": "code",
      "metadata": {
        "id": "XGetC8m6clHv"
      },
      "source": [
        "#defining a\n",
        "a= np.array([[1,2,3],[4,5,6],[7,8,9]])"
      ],
      "execution_count": 19,
      "outputs": []
    },
    {
      "cell_type": "code",
      "metadata": {
        "colab": {
          "base_uri": "https://localhost:8080/"
        },
        "id": "zzuOLe3tclHw",
        "outputId": "2bdb999a-3159-41c4-db4d-b2202c12f96e"
      },
      "source": [
        "# print trigonometric sin value of each element of a\n",
        "print(np.sin(a))"
      ],
      "execution_count": 5,
      "outputs": [
        {
          "output_type": "stream",
          "text": [
            "[[ 0.84147098  0.90929743  0.14112001]\n",
            " [-0.7568025  -0.95892427 -0.2794155 ]\n",
            " [ 0.6569866   0.98935825  0.41211849]]\n"
          ],
          "name": "stdout"
        }
      ]
    },
    {
      "cell_type": "code",
      "metadata": {
        "colab": {
          "base_uri": "https://localhost:8080/"
        },
        "id": "NhGEjypSclHw",
        "outputId": "af1baba6-70fa-443f-bd9d-631562cb9987"
      },
      "source": [
        "# print trigonometric cos value of each element of a\n",
        "np.cos(a)\n"
      ],
      "execution_count": 6,
      "outputs": [
        {
          "output_type": "execute_result",
          "data": {
            "text/plain": [
              "array([[ 0.54030231, -0.41614684, -0.9899925 ],\n",
              "       [-0.65364362,  0.28366219,  0.96017029],\n",
              "       [ 0.75390225, -0.14550003, -0.91113026]])"
            ]
          },
          "metadata": {
            "tags": []
          },
          "execution_count": 6
        }
      ]
    },
    {
      "cell_type": "code",
      "metadata": {
        "colab": {
          "base_uri": "https://localhost:8080/"
        },
        "id": "gjkYZl7bclHx",
        "outputId": "67f2c2d8-551d-4e0f-ae3d-76bc6957a43f"
      },
      "source": [
        "# Print exponential value of each elements of a\n",
        "print(np.exp(a))"
      ],
      "execution_count": 7,
      "outputs": [
        {
          "output_type": "stream",
          "text": [
            "[[2.71828183e+00 7.38905610e+00 2.00855369e+01]\n",
            " [5.45981500e+01 1.48413159e+02 4.03428793e+02]\n",
            " [1.09663316e+03 2.98095799e+03 8.10308393e+03]]\n"
          ],
          "name": "stdout"
        }
      ]
    },
    {
      "cell_type": "markdown",
      "metadata": {
        "id": "EKx_G7P7clHx"
      },
      "source": [
        "Referal: https://numpy.org/doc/stable/reference/generated/numpy.sum.html"
      ]
    },
    {
      "cell_type": "code",
      "metadata": {
        "colab": {
          "base_uri": "https://localhost:8080/"
        },
        "id": "h4eTKWhWclHx",
        "outputId": "b64a64ad-efbc-49b6-aaf5-2d3194ef3448"
      },
      "source": [
        "# print total sum of elements of a\n",
        "print(np.sum(a))"
      ],
      "execution_count": 8,
      "outputs": [
        {
          "output_type": "stream",
          "text": [
            "45\n"
          ],
          "name": "stdout"
        }
      ]
    },
    {
      "cell_type": "code",
      "metadata": {
        "colab": {
          "base_uri": "https://localhost:8080/"
        },
        "id": "8W7npYh_clHy",
        "outputId": "b969f21c-a5c6-4090-e7da-742fdda20faf"
      },
      "source": [
        "# Print sum in array a column wise\n",
        "print(np.sum(a,axis=1))"
      ],
      "execution_count": 10,
      "outputs": [
        {
          "output_type": "stream",
          "text": [
            "[ 6 15 24]\n"
          ],
          "name": "stdout"
        }
      ]
    },
    {
      "cell_type": "code",
      "metadata": {
        "colab": {
          "base_uri": "https://localhost:8080/"
        },
        "id": "m7wYLBIXclHy",
        "outputId": "d5cf6006-e90c-45ea-ed6c-3c1205c4e065"
      },
      "source": [
        "# Print sum in array a row wise\n",
        "print(np.sum(a,axis=0))"
      ],
      "execution_count": 12,
      "outputs": [
        {
          "output_type": "stream",
          "text": [
            "[12 15 18]\n"
          ],
          "name": "stdout"
        }
      ]
    },
    {
      "cell_type": "markdown",
      "metadata": {
        "id": "V_8iYONnclHz"
      },
      "source": [
        "Refrence doc: https://numpy.org/doc/stable/reference/generated/numpy.median.html"
      ]
    },
    {
      "cell_type": "code",
      "metadata": {
        "colab": {
          "base_uri": "https://localhost:8080/"
        },
        "id": "BYf3BumzclHz",
        "outputId": "8fb964fa-5955-4b85-e021-d3f531f35592"
      },
      "source": [
        "# print median of array a\n",
        "print(np.median(a))\n"
      ],
      "execution_count": 14,
      "outputs": [
        {
          "output_type": "stream",
          "text": [
            "5.0\n"
          ],
          "name": "stdout"
        }
      ]
    },
    {
      "cell_type": "markdown",
      "metadata": {
        "id": "cORoySTEclH0"
      },
      "source": [
        "Refrence doc: https://numpy.org/doc/stable/reference/generated/numpy.std.html"
      ]
    },
    {
      "cell_type": "code",
      "metadata": {
        "colab": {
          "base_uri": "https://localhost:8080/"
        },
        "id": "1qnF_Pr-clH0",
        "outputId": "1472d163-e708-4b5e-8180-5c8573d0adf9"
      },
      "source": [
        "# print standard deviation of array a\n",
        "print(np.std(a))\n"
      ],
      "execution_count": 13,
      "outputs": [
        {
          "output_type": "stream",
          "text": [
            "2.581988897471611\n"
          ],
          "name": "stdout"
        }
      ]
    },
    {
      "cell_type": "markdown",
      "metadata": {
        "id": "uipU3493clH0"
      },
      "source": [
        "Refrence doc: https://numpy.org/doc/stable/reference/generated/numpy.linalg.det.html"
      ]
    },
    {
      "cell_type": "code",
      "metadata": {
        "colab": {
          "base_uri": "https://localhost:8080/"
        },
        "id": "Br2CnYdeclH1",
        "outputId": "365317c8-bd96-4408-b639-54be3c5cc2b4"
      },
      "source": [
        "# print the determinant of array a\n",
        "print(np.linalg.det(a))\n",
        "\n"
      ],
      "execution_count": 17,
      "outputs": [
        {
          "output_type": "stream",
          "text": [
            "0.0\n"
          ],
          "name": "stdout"
        }
      ]
    },
    {
      "cell_type": "markdown",
      "metadata": {
        "id": "NTQq_mr7clH1"
      },
      "source": [
        "reference doc: https://numpy.org/doc/stable/reference/generated/numpy.linalg.inv.html"
      ]
    },
    {
      "cell_type": "code",
      "metadata": {
        "colab": {
          "base_uri": "https://localhost:8080/",
          "height": 354
        },
        "id": "lc1E2EfHclH2",
        "outputId": "967506d2-f3c6-4228-f393-68c7a9df2e34"
      },
      "source": [
        "# print the (multiplicative) inverse of array a\n",
        "np.linalg.inv(a)\n"
      ],
      "execution_count": 39,
      "outputs": [
        {
          "output_type": "error",
          "ename": "LinAlgError",
          "evalue": "ignored",
          "traceback": [
            "\u001b[0;31m---------------------------------------------------------------------------\u001b[0m",
            "\u001b[0;31mLinAlgError\u001b[0m                               Traceback (most recent call last)",
            "\u001b[0;32m<ipython-input-39-e19678cecfb1>\u001b[0m in \u001b[0;36m<module>\u001b[0;34m()\u001b[0m\n\u001b[1;32m      1\u001b[0m \u001b[0;31m# print the (multiplicative) inverse of array a\u001b[0m\u001b[0;34m\u001b[0m\u001b[0;34m\u001b[0m\u001b[0;34m\u001b[0m\u001b[0m\n\u001b[0;32m----> 2\u001b[0;31m \u001b[0mnp\u001b[0m\u001b[0;34m.\u001b[0m\u001b[0mlinalg\u001b[0m\u001b[0;34m.\u001b[0m\u001b[0minv\u001b[0m\u001b[0;34m(\u001b[0m\u001b[0ma\u001b[0m\u001b[0;34m)\u001b[0m\u001b[0;34m\u001b[0m\u001b[0;34m\u001b[0m\u001b[0m\n\u001b[0m",
            "\u001b[0;32m<__array_function__ internals>\u001b[0m in \u001b[0;36minv\u001b[0;34m(*args, **kwargs)\u001b[0m\n",
            "\u001b[0;32m/usr/local/lib/python3.7/dist-packages/numpy/linalg/linalg.py\u001b[0m in \u001b[0;36minv\u001b[0;34m(a)\u001b[0m\n\u001b[1;32m    544\u001b[0m     \u001b[0msignature\u001b[0m \u001b[0;34m=\u001b[0m \u001b[0;34m'D->D'\u001b[0m \u001b[0;32mif\u001b[0m \u001b[0misComplexType\u001b[0m\u001b[0;34m(\u001b[0m\u001b[0mt\u001b[0m\u001b[0;34m)\u001b[0m \u001b[0;32melse\u001b[0m \u001b[0;34m'd->d'\u001b[0m\u001b[0;34m\u001b[0m\u001b[0;34m\u001b[0m\u001b[0m\n\u001b[1;32m    545\u001b[0m     \u001b[0mextobj\u001b[0m \u001b[0;34m=\u001b[0m \u001b[0mget_linalg_error_extobj\u001b[0m\u001b[0;34m(\u001b[0m\u001b[0m_raise_linalgerror_singular\u001b[0m\u001b[0;34m)\u001b[0m\u001b[0;34m\u001b[0m\u001b[0;34m\u001b[0m\u001b[0m\n\u001b[0;32m--> 546\u001b[0;31m     \u001b[0mainv\u001b[0m \u001b[0;34m=\u001b[0m \u001b[0m_umath_linalg\u001b[0m\u001b[0;34m.\u001b[0m\u001b[0minv\u001b[0m\u001b[0;34m(\u001b[0m\u001b[0ma\u001b[0m\u001b[0;34m,\u001b[0m \u001b[0msignature\u001b[0m\u001b[0;34m=\u001b[0m\u001b[0msignature\u001b[0m\u001b[0;34m,\u001b[0m \u001b[0mextobj\u001b[0m\u001b[0;34m=\u001b[0m\u001b[0mextobj\u001b[0m\u001b[0;34m)\u001b[0m\u001b[0;34m\u001b[0m\u001b[0;34m\u001b[0m\u001b[0m\n\u001b[0m\u001b[1;32m    547\u001b[0m     \u001b[0;32mreturn\u001b[0m \u001b[0mwrap\u001b[0m\u001b[0;34m(\u001b[0m\u001b[0mainv\u001b[0m\u001b[0;34m.\u001b[0m\u001b[0mastype\u001b[0m\u001b[0;34m(\u001b[0m\u001b[0mresult_t\u001b[0m\u001b[0;34m,\u001b[0m \u001b[0mcopy\u001b[0m\u001b[0;34m=\u001b[0m\u001b[0;32mFalse\u001b[0m\u001b[0;34m)\u001b[0m\u001b[0;34m)\u001b[0m\u001b[0;34m\u001b[0m\u001b[0;34m\u001b[0m\u001b[0m\n\u001b[1;32m    548\u001b[0m \u001b[0;34m\u001b[0m\u001b[0m\n",
            "\u001b[0;32m/usr/local/lib/python3.7/dist-packages/numpy/linalg/linalg.py\u001b[0m in \u001b[0;36m_raise_linalgerror_singular\u001b[0;34m(err, flag)\u001b[0m\n\u001b[1;32m     86\u001b[0m \u001b[0;34m\u001b[0m\u001b[0m\n\u001b[1;32m     87\u001b[0m \u001b[0;32mdef\u001b[0m \u001b[0m_raise_linalgerror_singular\u001b[0m\u001b[0;34m(\u001b[0m\u001b[0merr\u001b[0m\u001b[0;34m,\u001b[0m \u001b[0mflag\u001b[0m\u001b[0;34m)\u001b[0m\u001b[0;34m:\u001b[0m\u001b[0;34m\u001b[0m\u001b[0;34m\u001b[0m\u001b[0m\n\u001b[0;32m---> 88\u001b[0;31m     \u001b[0;32mraise\u001b[0m \u001b[0mLinAlgError\u001b[0m\u001b[0;34m(\u001b[0m\u001b[0;34m\"Singular matrix\"\u001b[0m\u001b[0;34m)\u001b[0m\u001b[0;34m\u001b[0m\u001b[0;34m\u001b[0m\u001b[0m\n\u001b[0m\u001b[1;32m     89\u001b[0m \u001b[0;34m\u001b[0m\u001b[0m\n\u001b[1;32m     90\u001b[0m \u001b[0;32mdef\u001b[0m \u001b[0m_raise_linalgerror_nonposdef\u001b[0m\u001b[0;34m(\u001b[0m\u001b[0merr\u001b[0m\u001b[0;34m,\u001b[0m \u001b[0mflag\u001b[0m\u001b[0;34m)\u001b[0m\u001b[0;34m:\u001b[0m\u001b[0;34m\u001b[0m\u001b[0;34m\u001b[0m\u001b[0m\n",
            "\u001b[0;31mLinAlgError\u001b[0m: Singular matrix"
          ]
        }
      ]
    },
    {
      "cell_type": "markdown",
      "metadata": {
        "id": "g9U9PR9TclH2"
      },
      "source": [
        "Reference doc: https://numpy.org/doc/stable/reference/generated/numpy.linalg.eig.html"
      ]
    },
    {
      "cell_type": "code",
      "metadata": {
        "colab": {
          "base_uri": "https://localhost:8080/"
        },
        "id": "yAo_bN4yclH2",
        "outputId": "f7c18ce3-0ccd-4a6d-ffd8-76d351914af0"
      },
      "source": [
        "# Print the eigenvalues and right eigenvectors of array a.\n",
        "np.linalg.eig(a)\n"
      ],
      "execution_count": 37,
      "outputs": [
        {
          "output_type": "execute_result",
          "data": {
            "text/plain": [
              "(array([ 1.61168440e+01, -1.11684397e+00, -9.75918483e-16]),\n",
              " array([[-0.23197069, -0.78583024,  0.40824829],\n",
              "        [-0.52532209, -0.08675134, -0.81649658],\n",
              "        [-0.8186735 ,  0.61232756,  0.40824829]]))"
            ]
          },
          "metadata": {
            "tags": []
          },
          "execution_count": 37
        }
      ]
    },
    {
      "cell_type": "markdown",
      "metadata": {
        "id": "qTfermJcclH3"
      },
      "source": [
        "Reference doc: https://numpy.org/doc/stable/reference/generated/numpy.dot.html"
      ]
    },
    {
      "cell_type": "code",
      "metadata": {
        "colab": {
          "base_uri": "https://localhost:8080/"
        },
        "id": "YehegSqhclH3",
        "outputId": "f870cdfe-66de-409d-bc8e-2e276965fdd8"
      },
      "source": [
        "# compute dot product of arr1 and arr2\n",
        "np.dot(arr1,arr2)"
      ],
      "execution_count": 36,
      "outputs": [
        {
          "output_type": "execute_result",
          "data": {
            "text/plain": [
              "array([[19, 22],\n",
              "       [43, 50]])"
            ]
          },
          "metadata": {
            "tags": []
          },
          "execution_count": 36
        }
      ]
    },
    {
      "cell_type": "markdown",
      "metadata": {
        "id": "oTi1COncclH4"
      },
      "source": [
        "reference doc: https://numpy.org/doc/stable/reference/generated/numpy.ndarray.max.html"
      ]
    },
    {
      "cell_type": "code",
      "metadata": {
        "colab": {
          "base_uri": "https://localhost:8080/"
        },
        "id": "RJzKefxqclH4",
        "outputId": "e58ee546-3309-49b6-8882-bf903ce751a0"
      },
      "source": [
        "#print largest element present in array a\n",
        "print(np.ndarray.max(a))"
      ],
      "execution_count": 20,
      "outputs": [
        {
          "output_type": "stream",
          "text": [
            "9\n"
          ],
          "name": "stdout"
        }
      ]
    },
    {
      "cell_type": "markdown",
      "metadata": {
        "id": "MePyaVRnclH4"
      },
      "source": [
        "Reference doc: https://numpy.org/doc/stable/reference/generated/numpy.argmax.html"
      ]
    },
    {
      "cell_type": "code",
      "metadata": {
        "colab": {
          "base_uri": "https://localhost:8080/"
        },
        "id": "7R9jYSa9clH5",
        "outputId": "963b88be-acc2-4485-d20c-021c0e042917"
      },
      "source": [
        "#print index of largest element present in array a \n",
        "np.argmax(a)"
      ],
      "execution_count": 21,
      "outputs": [
        {
          "output_type": "execute_result",
          "data": {
            "text/plain": [
              "8"
            ]
          },
          "metadata": {
            "tags": []
          },
          "execution_count": 21
        }
      ]
    },
    {
      "cell_type": "markdown",
      "metadata": {
        "id": "TH4deVa7clH5"
      },
      "source": [
        "Reference doc: https://numpy.org/doc/stable/reference/generated/numpy.sort.html"
      ]
    },
    {
      "cell_type": "code",
      "metadata": {
        "colab": {
          "base_uri": "https://localhost:8080/"
        },
        "id": "HnFkyuZSclH6",
        "outputId": "6bdf17fa-7562-4837-f713-b0729bbcc034"
      },
      "source": [
        "# print sorted x4 array\n",
        "np.sort(a)"
      ],
      "execution_count": 22,
      "outputs": [
        {
          "output_type": "execute_result",
          "data": {
            "text/plain": [
              "array([[1, 2, 3],\n",
              "       [4, 5, 6],\n",
              "       [7, 8, 9]])"
            ]
          },
          "metadata": {
            "tags": []
          },
          "execution_count": 22
        }
      ]
    },
    {
      "cell_type": "markdown",
      "metadata": {
        "id": "3WVOLZ83clH6"
      },
      "source": [
        "Reference doc: https://numpy.org/doc/stable/reference/generated/numpy.argsort.html"
      ]
    },
    {
      "cell_type": "code",
      "metadata": {
        "colab": {
          "base_uri": "https://localhost:8080/"
        },
        "id": "5JXhre_aclH6",
        "outputId": "895b1183-9df0-46c6-b64b-f9455ac3f3b0"
      },
      "source": [
        "# print indices of each sorted element in x4 array\n",
        "np.argsort(x4)\n"
      ],
      "execution_count": 23,
      "outputs": [
        {
          "output_type": "execute_result",
          "data": {
            "text/plain": [
              "array([1, 2, 3, 4, 5, 6, 7, 8, 0, 9])"
            ]
          },
          "metadata": {
            "tags": []
          },
          "execution_count": 23
        }
      ]
    },
    {
      "cell_type": "markdown",
      "metadata": {
        "id": "0id0jCbhclH7"
      },
      "source": [
        "## Searching Arrays\n",
        "\n",
        "Reference: https://www.youtube.com/watch?v=0t6FRh0Pmtw\n",
        "\n",
        "You can search an array for a certain value, and return the indexes that get a match.\n",
        "\n",
        "To search an array, use the where() method.\n",
        "\n",
        "<p style='text-align: right;'> 4 points </p>\n"
      ]
    },
    {
      "cell_type": "code",
      "metadata": {
        "colab": {
          "base_uri": "https://localhost:8080/"
        },
        "id": "5FMkoLtfclH7",
        "outputId": "4a4fa74a-5be8-4acb-ff04-62de46e3b5d8"
      },
      "source": [
        "# print the indexes where the value is 4 in array x1\n",
        "\n",
        "np.where(x1==4)"
      ],
      "execution_count": 31,
      "outputs": [
        {
          "output_type": "execute_result",
          "data": {
            "text/plain": [
              "(array([4]),)"
            ]
          },
          "metadata": {
            "tags": []
          },
          "execution_count": 31
        }
      ]
    },
    {
      "cell_type": "markdown",
      "metadata": {
        "id": "tcZvxIURclH8"
      },
      "source": [
        "Which means that the value 4 is present at index 4\n",
        "\n",
        "You can check it by printing array x1"
      ]
    },
    {
      "cell_type": "code",
      "metadata": {
        "colab": {
          "base_uri": "https://localhost:8080/"
        },
        "id": "73_SAcyBclH8",
        "outputId": "b139da64-8288-4658-b9e7-1f5cf728bbc4"
      },
      "source": [
        "#print array x1\n",
        "print(x1)"
      ],
      "execution_count": 27,
      "outputs": [
        {
          "output_type": "stream",
          "text": [
            "[100   1   2   3   4   5   6   7   8   9]\n"
          ],
          "name": "stdout"
        }
      ]
    },
    {
      "cell_type": "code",
      "metadata": {
        "colab": {
          "base_uri": "https://localhost:8080/"
        },
        "id": "oxRbAwapclH8",
        "outputId": "5a783006-8822-4d04-8a9f-07c78fed75ce"
      },
      "source": [
        "# Print the indexes where the values are even in array x1\n",
        "np.where((x1%2==0))\n"
      ],
      "execution_count": 32,
      "outputs": [
        {
          "output_type": "execute_result",
          "data": {
            "text/plain": [
              "(array([0, 2, 4, 6, 8]),)"
            ]
          },
          "metadata": {
            "tags": []
          },
          "execution_count": 32
        }
      ]
    },
    {
      "cell_type": "code",
      "metadata": {
        "colab": {
          "base_uri": "https://localhost:8080/"
        },
        "id": "igXKyLoPclH9",
        "outputId": "1022dbb0-88f5-434e-ff9d-4a8147212a31"
      },
      "source": [
        "# Print x1 where x1 is greater than 5, also if number is less than 5 then replace it with 0\n",
        "np.where(x1>5,x1,0)"
      ],
      "execution_count": 33,
      "outputs": [
        {
          "output_type": "execute_result",
          "data": {
            "text/plain": [
              "array([100,   0,   0,   0,   0,   0,   6,   7,   8,   9])"
            ]
          },
          "metadata": {
            "tags": []
          },
          "execution_count": 33
        }
      ]
    },
    {
      "cell_type": "markdown",
      "metadata": {
        "id": "rlH_qR17clH9"
      },
      "source": [
        "Good Job learner! \n",
        "\n",
        "---------------------\n",
        "# Bam! Congratulations You have completed your 4th milestone challenge too!\n",
        "\n",
        "----------------------\n",
        "\n",
        "# Its Feedback Time!\n",
        "\n",
        "We hope you’ve enjoyed this course so far. We’re committed to help you use \"AI for All\" course to its full potential, so that you have a great learning experience. And that’s why we need your help in form of a feedback here.\n",
        "\n",
        "**Please fill this feedback form**\n",
        " https://zfrmz.in/MtRG5oWXBdesm6rmSM7N"
      ]
    }
  ]
}
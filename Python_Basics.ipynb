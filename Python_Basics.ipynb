{
  "nbformat": 4,
  "nbformat_minor": 0,
  "metadata": {
    "kernelspec": {
      "display_name": "Python 3",
      "language": "python",
      "name": "python3"
    },
    "language_info": {
      "codemirror_mode": {
        "name": "ipython",
        "version": 3
      },
      "file_extension": ".py",
      "mimetype": "text/x-python",
      "name": "python",
      "nbconvert_exporter": "python",
      "pygments_lexer": "ipython3",
      "version": "3.8.5"
    },
    "colab": {
      "name": "Python Basics.ipynb",
      "provenance": [],
      "collapsed_sections": [],
      "include_colab_link": true
    }
  },
  "cells": [
    {
      "cell_type": "markdown",
      "metadata": {
        "id": "view-in-github",
        "colab_type": "text"
      },
      "source": [
        "<a href=\"https://colab.research.google.com/github/SHAGGY670/ongoing/blob/master/Python_Basics.ipynb\" target=\"_parent\"><img src=\"https://colab.research.google.com/assets/colab-badge.svg\" alt=\"Open In Colab\"/></a>"
      ]
    },
    {
      "cell_type": "markdown",
      "metadata": {
        "id": "7PH2f5ZoXL3_"
      },
      "source": [
        "# <center><u> Python basics</u></center>\n",
        "![image.png](attachment:image.png)"
      ]
    },
    {
      "cell_type": "markdown",
      "metadata": {
        "id": "XeblPBp4XL4B"
      },
      "source": [
        "Python is emerging as the popular language used more in data science applications.\n",
        "\n",
        "Take the case of the tech giant Google that has created the deep learning framework called tensorflow – Python is the primary language used for creating this framework. Its footprint has continued to increase in the environment promoted by Netflix. Production engineers at Facebook and Khan Academy have for long been using it as a prominent language in their environment.\n",
        "\n",
        "Python became the most popular language in the data science world.\n",
        "So what are you waiting for? Lets start learning python basic as your first assignment.\n",
        "\n",
        "## Variable declaration"
      ]
    },
    {
      "cell_type": "markdown",
      "metadata": {
        "id": "Lr0UjmuOXL4D"
      },
      "source": [
        "Covers the topic of variable declaration and type of variables\n",
        "\n",
        "reference:- https://youtu.be/RVYY7zMiPbg\n",
        "\n",
        "<p style='text-align: right;'> 1+1+1+1+1 = 5 points</p>\n"
      ]
    },
    {
      "cell_type": "code",
      "metadata": {
        "id": "vrdnuuNvXL4E"
      },
      "source": [
        "# declare two variables, a = 5, b = 'city'\n",
        "a=5\n",
        "b='city'"
      ],
      "execution_count": 1,
      "outputs": []
    },
    {
      "cell_type": "code",
      "metadata": {
        "colab": {
          "base_uri": "https://localhost:8080/"
        },
        "id": "aJQIBpSIXL4F",
        "outputId": "db5ea7df-2fe3-4a1b-d486-8d8cd3a78541"
      },
      "source": [
        "# print type of a\n",
        "type(a)"
      ],
      "execution_count": 2,
      "outputs": [
        {
          "output_type": "execute_result",
          "data": {
            "text/plain": [
              "int"
            ]
          },
          "metadata": {
            "tags": []
          },
          "execution_count": 2
        }
      ]
    },
    {
      "cell_type": "code",
      "metadata": {
        "colab": {
          "base_uri": "https://localhost:8080/"
        },
        "id": "MufsDSgQXL4G",
        "outputId": "2f30c3f0-60c1-488e-919a-19f4e9328ec6"
      },
      "source": [
        "# print type of b\n",
        "type(b)\n"
      ],
      "execution_count": 3,
      "outputs": [
        {
          "output_type": "execute_result",
          "data": {
            "text/plain": [
              "str"
            ]
          },
          "metadata": {
            "tags": []
          },
          "execution_count": 3
        }
      ]
    },
    {
      "cell_type": "code",
      "metadata": {
        "id": "fdTNibX8XL4H"
      },
      "source": [
        "# swap the values of a and b\n",
        "t=a\n",
        "a=b\n",
        "b=t"
      ],
      "execution_count": 4,
      "outputs": []
    },
    {
      "cell_type": "code",
      "metadata": {
        "colab": {
          "base_uri": "https://localhost:8080/"
        },
        "id": "d8vVCC4TXL4H",
        "outputId": "c7d0557a-6c9f-4d36-f59d-4344a7a284ee"
      },
      "source": [
        "# run this to confirm \n",
        "print(a)\n",
        "print(b)"
      ],
      "execution_count": 5,
      "outputs": [
        {
          "output_type": "stream",
          "text": [
            "city\n",
            "5\n"
          ],
          "name": "stdout"
        }
      ]
    },
    {
      "cell_type": "markdown",
      "metadata": {
        "id": "lgajmMOoXL4I"
      },
      "source": [
        "Cool! so variable declaration and getting it's type was easy."
      ]
    },
    {
      "cell_type": "markdown",
      "metadata": {
        "id": "PujF9DGSXL4J"
      },
      "source": [
        "## Arithmetic Operations"
      ]
    },
    {
      "cell_type": "markdown",
      "metadata": {
        "id": "T3hxGhWTXL4J"
      },
      "source": [
        "Hey novice! this will be easy for you until you know basic arithmetic symbols like +, -, /, * etc.\n",
        "\n",
        "reference:- https://youtu.be/0-hzxfkpHy8\n",
        "\n",
        "<p style='text-align: right;'> 1 + 7 = 8 points </p>\n"
      ]
    },
    {
      "cell_type": "code",
      "metadata": {
        "colab": {
          "base_uri": "https://localhost:8080/"
        },
        "id": "XA6xGD57XL4K",
        "outputId": "5e869978-95c3-43b3-b2df-c1dbc7197027"
      },
      "source": [
        "# declare two variables, a = 24, b = 3\n",
        "\n",
        "a=24\n",
        "b=3\n",
        "print(('a={},b={}').format(a,b))\n"
      ],
      "execution_count": 6,
      "outputs": [
        {
          "output_type": "stream",
          "text": [
            "a=24,b=3\n"
          ],
          "name": "stdout"
        }
      ]
    },
    {
      "cell_type": "code",
      "metadata": {
        "colab": {
          "base_uri": "https://localhost:8080/"
        },
        "id": "88CEXRUcXL4K",
        "outputId": "f25af775-c92c-4b5f-ee75-acf4d03d39f4"
      },
      "source": [
        "# calculate and print all the possible numerical operations on a and b (There are total 7 operations)\n",
        "print(a+b)\n",
        "print(a-b)\n",
        "print(a*b)\n",
        "print(a/b)\n",
        "print(a//b)\n",
        "print(a%b)\n",
        "print(pow(a,b))\n"
      ],
      "execution_count": 7,
      "outputs": [
        {
          "output_type": "stream",
          "text": [
            "27\n",
            "21\n",
            "72\n",
            "8.0\n",
            "8\n",
            "0\n",
            "13824\n"
          ],
          "name": "stdout"
        }
      ]
    },
    {
      "cell_type": "markdown",
      "metadata": {
        "id": "SDJ9jaFCXL4L"
      },
      "source": [
        "## Math Functions"
      ]
    },
    {
      "cell_type": "markdown",
      "metadata": {
        "id": "-s1YC037XL4L"
      },
      "source": [
        "Lets do some simple mathematical operations by using math module. Math module contains various mathematical functions. So here we go!\n",
        "\n",
        "Reference:- https://youtu.be/gktjNyV0xks\n",
        "\n",
        "Reference document: https://docs.python.org/3/library/math.html\n",
        "<p style='text-align: right;'> 10 points </p>\n",
        "\n",
        "\n"
      ]
    },
    {
      "cell_type": "code",
      "metadata": {
        "id": "YaUmaZ-kXL4L"
      },
      "source": [
        "#import math\n",
        "import math"
      ],
      "execution_count": 8,
      "outputs": []
    },
    {
      "cell_type": "code",
      "metadata": {
        "id": "WO7my4pbXL4M"
      },
      "source": [
        "# declare a variable x = 2 and y=5.32167\n",
        "x=2\n",
        "y=5.32167"
      ],
      "execution_count": 9,
      "outputs": []
    },
    {
      "cell_type": "code",
      "metadata": {
        "colab": {
          "base_uri": "https://localhost:8080/"
        },
        "id": "fK9qn1WoXL4M",
        "outputId": "e2685393-10d2-45fb-cf48-ccc1ed50f244"
      },
      "source": [
        "# Print the maximum value between x and y\n",
        "print(max(x,y))\n"
      ],
      "execution_count": 12,
      "outputs": [
        {
          "output_type": "stream",
          "text": [
            "5.32167\n"
          ],
          "name": "stdout"
        }
      ]
    },
    {
      "cell_type": "code",
      "metadata": {
        "colab": {
          "base_uri": "https://localhost:8080/"
        },
        "id": "X1MKwEpPXL4N",
        "outputId": "470e4cf8-5ac7-4a1a-cc44-af3577c3d52d"
      },
      "source": [
        "# Print the minimum value between x and y\n",
        "print(min(x,y))"
      ],
      "execution_count": 13,
      "outputs": [
        {
          "output_type": "stream",
          "text": [
            "2\n"
          ],
          "name": "stdout"
        }
      ]
    },
    {
      "cell_type": "code",
      "metadata": {
        "colab": {
          "base_uri": "https://localhost:8080/"
        },
        "id": "Smf2UDcuXL4O",
        "outputId": "9b7f34b4-243c-4d1c-a3c7-e0be0f494cb4"
      },
      "source": [
        "# Print square and cube of x and store in a and b variable\n",
        "a=pow(x,2)\n",
        "b=pow(x,3)\n",
        "print('a={},b={}'.format(a,b))"
      ],
      "execution_count": 14,
      "outputs": [
        {
          "output_type": "stream",
          "text": [
            "a=4,b=8\n"
          ],
          "name": "stdout"
        }
      ]
    },
    {
      "cell_type": "code",
      "metadata": {
        "colab": {
          "base_uri": "https://localhost:8080/"
        },
        "id": "Kd3L6BmvXL4O",
        "outputId": "3b7182e4-560f-46d9-afc1-b7e4619a6537"
      },
      "source": [
        "#print log of x and store it in variable c\n",
        "c=math.log(x)\n",
        "print(c)"
      ],
      "execution_count": 15,
      "outputs": [
        {
          "output_type": "stream",
          "text": [
            "0.6931471805599453\n"
          ],
          "name": "stdout"
        }
      ]
    },
    {
      "cell_type": "code",
      "metadata": {
        "id": "hziLCkLkXL4O",
        "outputId": "5f0b0692-873f-478b-90d7-33cc1a31b923"
      },
      "source": [
        "#print minimum value between x,y,a, b and c\n"
      ],
      "execution_count": null,
      "outputs": [
        {
          "output_type": "stream",
          "text": [
            "0.6931471805599453\n"
          ],
          "name": "stdout"
        }
      ]
    },
    {
      "cell_type": "code",
      "metadata": {
        "colab": {
          "base_uri": "https://localhost:8080/"
        },
        "id": "54_PkSjoXL4P",
        "outputId": "5918bcb8-c61f-456d-b71d-22d5f184ab59"
      },
      "source": [
        "#print maximum value between x,y,a, b and c\n",
        "print(max(a,b,c,x,y))"
      ],
      "execution_count": 16,
      "outputs": [
        {
          "output_type": "stream",
          "text": [
            "8\n"
          ],
          "name": "stdout"
        }
      ]
    },
    {
      "cell_type": "code",
      "metadata": {
        "colab": {
          "base_uri": "https://localhost:8080/"
        },
        "id": "bv_MYl2IXL4P",
        "outputId": "288522cf-21ab-4c39-d6df-5af170dfa90d"
      },
      "source": [
        "#print the largest integer that is smaller than or equal to c. ie.round down\n",
        "print(min(a,b,c,x,y))"
      ],
      "execution_count": 17,
      "outputs": [
        {
          "output_type": "stream",
          "text": [
            "0.6931471805599453\n"
          ],
          "name": "stdout"
        }
      ]
    },
    {
      "cell_type": "code",
      "metadata": {
        "colab": {
          "base_uri": "https://localhost:8080/"
        },
        "id": "EGmjeDOMXL4Q",
        "outputId": "6fb8371f-d121-4d57-f59b-2a527c92d3c0"
      },
      "source": [
        "#print the smallest integer that is greater than or equal to c ie. round up\n",
        "print(math.ceil(c))"
      ],
      "execution_count": 18,
      "outputs": [
        {
          "output_type": "stream",
          "text": [
            "1\n"
          ],
          "name": "stdout"
        }
      ]
    },
    {
      "cell_type": "markdown",
      "metadata": {
        "id": "CiQ2J5z2XL4Q"
      },
      "source": [
        "## Logical operations\n",
        "\n",
        "You must be aware of some logical operations you did in college, like 'and', 'or', 'not' etc. These operations becomes even more easy to implement when you have friend like python.\n",
        "\n",
        "Reference:- https://youtu.be/9w992l9TFIs\n",
        "\n",
        "<p style='text-align: right;'> 1 + 1 + 1 + 6 = 9 points </p>\n"
      ]
    },
    {
      "cell_type": "code",
      "metadata": {
        "colab": {
          "base_uri": "https://localhost:8080/"
        },
        "id": "uHKqB6ZpXL4Q",
        "outputId": "6e571783-8d0e-4bd1-8f9d-1b83eb0f23e6"
      },
      "source": [
        "# declare two variables, a = True, b = False\n",
        "a =True\n",
        "b=False\n",
        "print(a,b)\n"
      ],
      "execution_count": 19,
      "outputs": [
        {
          "output_type": "stream",
          "text": [
            "True False\n"
          ],
          "name": "stdout"
        }
      ]
    },
    {
      "cell_type": "code",
      "metadata": {
        "colab": {
          "base_uri": "https://localhost:8080/"
        },
        "id": "EDlepjqSXL4R",
        "outputId": "b50837fa-a250-4e36-ff24-628a52d3d528"
      },
      "source": [
        "# print type of a and type of b\n",
        "print(type(a))\n",
        "print(type(b))"
      ],
      "execution_count": 20,
      "outputs": [
        {
          "output_type": "stream",
          "text": [
            "<class 'bool'>\n",
            "<class 'bool'>\n"
          ],
          "name": "stdout"
        }
      ]
    },
    {
      "cell_type": "markdown",
      "metadata": {
        "id": "d5Ak8uEwXL4R"
      },
      "source": [
        "A fun fact for you !\n",
        "The Python Boolean type is one of Python's built-in data types. It's used to represent the truth value of an expression"
      ]
    },
    {
      "cell_type": "code",
      "metadata": {
        "colab": {
          "base_uri": "https://localhost:8080/"
        },
        "id": "5EIZaqLjXL4R",
        "outputId": "baafda39-666d-436b-cb9a-f71780549beb"
      },
      "source": [
        "# print int(a) and int(b)\n",
        "print(int(a))\n",
        "print(int(b))"
      ],
      "execution_count": 21,
      "outputs": [
        {
          "output_type": "stream",
          "text": [
            "1\n",
            "0\n"
          ],
          "name": "stdout"
        }
      ]
    },
    {
      "cell_type": "markdown",
      "metadata": {
        "id": "Q_u1nkN1XL4S"
      },
      "source": [
        "We are sure you must have seen that, values for 'True' is 1 and for 'False' is 0."
      ]
    },
    {
      "cell_type": "code",
      "metadata": {
        "colab": {
          "base_uri": "https://localhost:8080/"
        },
        "id": "o8ZaHNIbXL4S",
        "outputId": "e3190d5e-5e0f-4ccc-b041-fe37e5e99263"
      },
      "source": [
        "# Find and print the values of not a, not b, a and b, a or b, a and not b\n",
        "print(not a)\n",
        "print(a and b)\n",
        "print(a or b)\n",
        "print(a and not b)"
      ],
      "execution_count": 22,
      "outputs": [
        {
          "output_type": "stream",
          "text": [
            "False\n",
            "False\n",
            "True\n",
            "True\n"
          ],
          "name": "stdout"
        }
      ]
    },
    {
      "cell_type": "markdown",
      "metadata": {
        "id": "f8I02mVDXL4S"
      },
      "source": [
        "We hope you tried to undertand the above output! "
      ]
    },
    {
      "cell_type": "markdown",
      "metadata": {
        "id": "JD1c-SW3XL4T"
      },
      "source": [
        "## List Comprehensions\n",
        "\n",
        "Hey buddy! Python has really amazing thing called list comprehension. List comprehension offers a shorter syntax when you want to create a new list based on the values of an existing list. Cool right? Let's dive into this more by doing it. \n",
        "\n",
        "Reference:- https://youtu.be/17gTGqHG5xQ\n",
        "\n",
        "<p style='text-align: right;'> 10 + 10 + 10= 30 points </p>\n",
        "\n"
      ]
    },
    {
      "cell_type": "code",
      "metadata": {
        "colab": {
          "base_uri": "https://localhost:8080/"
        },
        "id": "kE5CrKCsXL4T",
        "outputId": "3b0acef6-3de5-48fe-87f5-ff1fb5395bff"
      },
      "source": [
        "# Using list comprehension, create a list containing numbers from 1 to 20. \n",
        "# Hint: You can use range function of python to do this.\n",
        "my_list=[*range(1,20,1)]\n",
        "print(my_list)\n",
        "mylist=[]\n",
        "mylist.extend(range(1,20,1))\n",
        "print(mylist)\n"
      ],
      "execution_count": 23,
      "outputs": [
        {
          "output_type": "stream",
          "text": [
            "[1, 2, 3, 4, 5, 6, 7, 8, 9, 10, 11, 12, 13, 14, 15, 16, 17, 18, 19]\n",
            "[1, 2, 3, 4, 5, 6, 7, 8, 9, 10, 11, 12, 13, 14, 15, 16, 17, 18, 19]\n"
          ],
          "name": "stdout"
        }
      ]
    },
    {
      "cell_type": "code",
      "metadata": {
        "colab": {
          "base_uri": "https://localhost:8080/"
        },
        "id": "hb-CUjR3XL4T",
        "outputId": "4ab2bc29-82fd-4945-94e5-52885d470e03"
      },
      "source": [
        "# Using list comprehension, create a list containing numbers from 1 to 20 that are even\n",
        "\n",
        "my_list=[*range(2,20,2)]\n",
        "print(my_list)"
      ],
      "execution_count": 24,
      "outputs": [
        {
          "output_type": "stream",
          "text": [
            "[2, 4, 6, 8, 10, 12, 14, 16, 18]\n"
          ],
          "name": "stdout"
        }
      ]
    },
    {
      "cell_type": "markdown",
      "metadata": {
        "id": "VIgayW-CXL4U"
      },
      "source": [
        "Create a list of all the fruits you like. Using list comprehension, create another list which contains the total number of charachters for each corresponding fruits.\n",
        "- Eg. fruits = [‘apple’,’kiwi’,’orange’], then output would be - [5,4,6]\n"
      ]
    },
    {
      "cell_type": "code",
      "metadata": {
        "colab": {
          "base_uri": "https://localhost:8080/",
          "height": 212
        },
        "id": "YsivetIeXL4U",
        "outputId": "30945034-8226-4ee2-cd8b-d64518d59092"
      },
      "source": [
        "fruits =['apple', 'kiwi', 'orange']\n",
        "len_fruits = len[fruits]\n",
        "print(fruits)\n",
        "print(len_fruits)"
      ],
      "execution_count": 25,
      "outputs": [
        {
          "output_type": "error",
          "ename": "TypeError",
          "evalue": "ignored",
          "traceback": [
            "\u001b[0;31m---------------------------------------------------------------------------\u001b[0m",
            "\u001b[0;31mTypeError\u001b[0m                                 Traceback (most recent call last)",
            "\u001b[0;32m<ipython-input-25-b1bc29e38e68>\u001b[0m in \u001b[0;36m<module>\u001b[0;34m()\u001b[0m\n\u001b[1;32m      1\u001b[0m \u001b[0mfruits\u001b[0m \u001b[0;34m=\u001b[0m\u001b[0;34m[\u001b[0m\u001b[0;34m'apple'\u001b[0m\u001b[0;34m,\u001b[0m \u001b[0;34m'kiwi'\u001b[0m\u001b[0;34m,\u001b[0m \u001b[0;34m'orange'\u001b[0m\u001b[0;34m]\u001b[0m\u001b[0;34m\u001b[0m\u001b[0;34m\u001b[0m\u001b[0m\n\u001b[0;32m----> 2\u001b[0;31m \u001b[0mlen_fruits\u001b[0m \u001b[0;34m=\u001b[0m \u001b[0mlen\u001b[0m\u001b[0;34m[\u001b[0m\u001b[0mfruits\u001b[0m\u001b[0;34m]\u001b[0m\u001b[0;34m\u001b[0m\u001b[0;34m\u001b[0m\u001b[0m\n\u001b[0m\u001b[1;32m      3\u001b[0m \u001b[0mprint\u001b[0m\u001b[0;34m(\u001b[0m\u001b[0mfruits\u001b[0m\u001b[0;34m)\u001b[0m\u001b[0;34m\u001b[0m\u001b[0;34m\u001b[0m\u001b[0m\n\u001b[1;32m      4\u001b[0m \u001b[0mprint\u001b[0m\u001b[0;34m(\u001b[0m\u001b[0mlen_fruits\u001b[0m\u001b[0;34m)\u001b[0m\u001b[0;34m\u001b[0m\u001b[0;34m\u001b[0m\u001b[0m\n",
            "\u001b[0;31mTypeError\u001b[0m: 'builtin_function_or_method' object is not subscriptable"
          ]
        }
      ]
    },
    {
      "cell_type": "markdown",
      "metadata": {
        "id": "2Kyf7mQ-XL4U"
      },
      "source": [
        "The above output is shown if fruits = ['apple','kiwi,'orange'], it can vary for different values of fruits\n",
        "\n",
        "Amazing right?\n"
      ]
    },
    {
      "cell_type": "markdown",
      "metadata": {
        "id": "BdiNXoDRXL4V"
      },
      "source": [
        "## String value and operators\n",
        "\n",
        "<p style='text-align: right;'> 1 + 1 + 1 + 1 + 1 = 5 points </p>\n"
      ]
    },
    {
      "cell_type": "markdown",
      "metadata": {
        "id": "Hy1m1otnXL4V"
      },
      "source": [
        "### Characters in strings\n",
        "\n",
        "\n",
        "Reference:- https://www.programiz.com/python-programming/string\n",
        "\n",
        "Reference:-  https://youtu.be/LnQDWIMaJlA\n"
      ]
    },
    {
      "cell_type": "code",
      "metadata": {
        "colab": {
          "base_uri": "https://localhost:8080/"
        },
        "id": "fFRy3UUSXL4W",
        "outputId": "22ae7b16-db14-44a8-d05e-ee8b8b66f1d6"
      },
      "source": [
        "# declare the variables x = cat and y = dog and print it\n",
        "x='cat'\n",
        "y='dog'\n",
        "\n",
        "print(x)\n",
        "print(y)"
      ],
      "execution_count": 26,
      "outputs": [
        {
          "output_type": "stream",
          "text": [
            "cat\n",
            "dog\n"
          ],
          "name": "stdout"
        }
      ]
    },
    {
      "cell_type": "code",
      "metadata": {
        "colab": {
          "base_uri": "https://localhost:8080/"
        },
        "id": "3t1g0OdCXL4W",
        "outputId": "ac1a5769-f40d-4b30-ceed-d0587aa54b81"
      },
      "source": [
        "#Print first character of both x and y. \n",
        "print(x[0])\n",
        "print(y[0])"
      ],
      "execution_count": 27,
      "outputs": [
        {
          "output_type": "stream",
          "text": [
            "c\n",
            "d\n"
          ],
          "name": "stdout"
        }
      ]
    },
    {
      "cell_type": "code",
      "metadata": {
        "colab": {
          "base_uri": "https://localhost:8080/"
        },
        "id": "LAiU9YEDXL4X",
        "outputId": "278e3797-bc31-44f5-f569-34633c088994"
      },
      "source": [
        "#Print last character of both x and y.\n",
        "print(x[-1])\n",
        "print(y[-1])"
      ],
      "execution_count": 28,
      "outputs": [
        {
          "output_type": "stream",
          "text": [
            "t\n",
            "g\n"
          ],
          "name": "stdout"
        }
      ]
    },
    {
      "cell_type": "code",
      "metadata": {
        "colab": {
          "base_uri": "https://localhost:8080/"
        },
        "id": "nPwjboqjXL4Y",
        "outputId": "de03bebf-5bab-4d72-acbd-0dd0da53c834"
      },
      "source": [
        "#Print len of both x and y\n",
        "print(len(x))\n",
        "print(len(y))\n"
      ],
      "execution_count": 30,
      "outputs": [
        {
          "output_type": "stream",
          "text": [
            "3\n",
            "3\n"
          ],
          "name": "stdout"
        }
      ]
    },
    {
      "cell_type": "code",
      "metadata": {
        "colab": {
          "base_uri": "https://localhost:8080/"
        },
        "id": "bdJ9X6DiXL4Y",
        "outputId": "68a9db34-2576-46e7-9d39-672ed2389c33"
      },
      "source": [
        "#concatenate both x and y and store it in variable z and print z\n",
        "z=x+y\n",
        "print(z)"
      ],
      "execution_count": 29,
      "outputs": [
        {
          "output_type": "stream",
          "text": [
            "catdog\n"
          ],
          "name": "stdout"
        }
      ]
    },
    {
      "cell_type": "code",
      "metadata": {
        "colab": {
          "base_uri": "https://localhost:8080/"
        },
        "id": "V9YYDZPUXL4Z",
        "outputId": "a7b55237-34f3-4b42-a537-78419d852890"
      },
      "source": [
        "#check if x is part of z \n",
        "print(x in z)"
      ],
      "execution_count": 31,
      "outputs": [
        {
          "output_type": "stream",
          "text": [
            "True\n"
          ],
          "name": "stdout"
        }
      ]
    },
    {
      "cell_type": "markdown",
      "metadata": {
        "id": "q6gBH4QlXL4Z"
      },
      "source": [
        "### String slicing\n",
        "\n",
        "\n",
        "\n",
        "Hey coder, do you know? Python slicing is about obtaining a sub-string from the given string by slicing it respectively from start to end\n",
        "\n",
        "So be ready to implement it today!\n",
        "<p style='text-align: right;'> 2 points </p>"
      ]
    },
    {
      "cell_type": "code",
      "metadata": {
        "colab": {
          "base_uri": "https://localhost:8080/"
        },
        "id": "zCXZm0p8XL4a",
        "outputId": "e9d10494-134e-4df1-f035-c37deff58e58"
      },
      "source": [
        "#Create variable a = “pineapple”\n",
        "a = 'pineapple'\n",
        "print(a)"
      ],
      "execution_count": 32,
      "outputs": [
        {
          "output_type": "stream",
          "text": [
            "pineapple\n"
          ],
          "name": "stdout"
        }
      ]
    },
    {
      "cell_type": "code",
      "metadata": {
        "colab": {
          "base_uri": "https://localhost:8080/"
        },
        "id": "72I1EXiFXL4a",
        "outputId": "ebef3dca-138c-43b9-d3ea-531a7c682c25"
      },
      "source": [
        "# Using index slicing, print the words ‘pine’ and “apple”.\n",
        "# HINT - a[:]\n",
        "print(a[:4])\n",
        "print(a[4:])"
      ],
      "execution_count": 33,
      "outputs": [
        {
          "output_type": "stream",
          "text": [
            "pine\n",
            "apple\n"
          ],
          "name": "stdout"
        }
      ]
    },
    {
      "cell_type": "code",
      "metadata": {
        "colab": {
          "base_uri": "https://localhost:8080/"
        },
        "id": "LteceIIWXL4b",
        "outputId": "41a18d86-18bc-4d0a-8d1d-4ecb5cde4fc7"
      },
      "source": [
        "#Convert a into upper case\n",
        "print(a.upper())"
      ],
      "execution_count": 34,
      "outputs": [
        {
          "output_type": "stream",
          "text": [
            "PINEAPPLE\n"
          ],
          "name": "stdout"
        }
      ]
    },
    {
      "cell_type": "markdown",
      "metadata": {
        "id": "wzxNz7wEXL4b"
      },
      "source": [
        "## Dealing with Sentences\n",
        "\n",
        "<p style='text-align: right;'> 1+1+1+1+1+1 = 6 points </p>\n"
      ]
    },
    {
      "cell_type": "code",
      "metadata": {
        "colab": {
          "base_uri": "https://localhost:8080/"
        },
        "id": "4o2ll5bCXL4c",
        "outputId": "d968393d-b982-4495-d47b-d27b21645037"
      },
      "source": [
        "# Declare a sentence of ‘I am flying to London’ and print it\n",
        "print('i am flying to london')"
      ],
      "execution_count": 35,
      "outputs": [
        {
          "output_type": "stream",
          "text": [
            "i am flying to london\n"
          ],
          "name": "stdout"
        }
      ]
    },
    {
      "cell_type": "code",
      "metadata": {
        "colab": {
          "base_uri": "https://localhost:8080/"
        },
        "id": "PvCMbRaHXL4c",
        "outputId": "8ad9ce1d-8359-477f-c73e-1e9559af25c5"
      },
      "source": [
        "#Print length of the sentence\n",
        "print(len('i am flying to london'))"
      ],
      "execution_count": 36,
      "outputs": [
        {
          "output_type": "stream",
          "text": [
            "21\n"
          ],
          "name": "stdout"
        }
      ]
    },
    {
      "cell_type": "code",
      "metadata": {
        "colab": {
          "base_uri": "https://localhost:8080/"
        },
        "id": "qahPHdEDXL4d",
        "outputId": "25504db6-9f9f-4aec-c743-60056afee53b"
      },
      "source": [
        "#Using list indexing, to print the word London\n",
        "c='i am flying to london'\n",
        "print(c[15:])"
      ],
      "execution_count": 37,
      "outputs": [
        {
          "output_type": "stream",
          "text": [
            "london\n"
          ],
          "name": "stdout"
        }
      ]
    },
    {
      "cell_type": "code",
      "metadata": {
        "colab": {
          "base_uri": "https://localhost:8080/"
        },
        "id": "BtFbJYjIXL4d",
        "outputId": "9edbf362-9399-429e-db08-516274b18fd5"
      },
      "source": [
        "# Use .split to get list of individual words in the sentence\n",
        "print(c.split())"
      ],
      "execution_count": 41,
      "outputs": [
        {
          "output_type": "stream",
          "text": [
            "['i', 'am', 'flying', 'to', 'london']\n"
          ],
          "name": "stdout"
        }
      ]
    },
    {
      "cell_type": "code",
      "metadata": {
        "colab": {
          "base_uri": "https://localhost:8080/"
        },
        "id": "M6osOlRXXL4e",
        "outputId": "3a4aebf9-d77b-4778-ff52-1c04de313bd6"
      },
      "source": [
        "# Convert sentence in lower case \n",
        "print(c.lower())"
      ],
      "execution_count": 42,
      "outputs": [
        {
          "output_type": "stream",
          "text": [
            "i am flying to london\n"
          ],
          "name": "stdout"
        }
      ]
    },
    {
      "cell_type": "code",
      "metadata": {
        "colab": {
          "base_uri": "https://localhost:8080/"
        },
        "id": "jPq4w4rWXL4e",
        "outputId": "5e6c9ac2-d4c8-4a6a-87c2-3dee525090f8"
      },
      "source": [
        "# Convert sentence in upper case .\n",
        "print(c.upper())"
      ],
      "execution_count": 43,
      "outputs": [
        {
          "output_type": "stream",
          "text": [
            "I AM FLYING TO LONDON\n"
          ],
          "name": "stdout"
        }
      ]
    },
    {
      "cell_type": "markdown",
      "metadata": {
        "id": "y-siEKtzXL4f"
      },
      "source": [
        "Great job! Slicing is fun."
      ]
    },
    {
      "cell_type": "markdown",
      "metadata": {
        "id": "t9olGfaaXL4f"
      },
      "source": [
        "## Functions\n",
        "\n",
        "Declare a function named square, which takes an input as x, and returns the square of x.\n",
        "\n",
        "Reference:- https://youtu.be/Rpq9MC67M08\n",
        "\n",
        "<p style='text-align: right;'> 5 + 3 = 8 points </p>\n"
      ]
    },
    {
      "cell_type": "code",
      "metadata": {
        "colab": {
          "base_uri": "https://localhost:8080/"
        },
        "id": "px5vqs2lXL4f",
        "outputId": "6a947fc4-0e8b-4710-9122-1d21425406f2"
      },
      "source": [
        "def square(x):\n",
        "  print(pow(x,2))\n",
        "\n",
        "square(9)\n",
        "\n",
        "    "
      ],
      "execution_count": 44,
      "outputs": [
        {
          "output_type": "stream",
          "text": [
            "81\n"
          ],
          "name": "stdout"
        }
      ]
    },
    {
      "cell_type": "markdown",
      "metadata": {
        "id": "pA5KMz6pXL4g"
      },
      "source": [
        "Call the function to find the value of square of 9."
      ]
    },
    {
      "cell_type": "code",
      "metadata": {
        "colab": {
          "base_uri": "https://localhost:8080/"
        },
        "id": "z4cmKfb8XL4g",
        "outputId": "2521f81f-ee4a-41e1-d3d5-7914991a6860"
      },
      "source": [
        "# find the square of 9 using the function square you have just created.\n",
        "square(9)"
      ],
      "execution_count": 45,
      "outputs": [
        {
          "output_type": "stream",
          "text": [
            "81\n"
          ],
          "name": "stdout"
        }
      ]
    },
    {
      "cell_type": "markdown",
      "metadata": {
        "id": "AFtXVOOlXL4g"
      },
      "source": [
        "Wohoo! see, defining function was simple"
      ]
    },
    {
      "cell_type": "markdown",
      "metadata": {
        "id": "KqMpdwgzXL4h"
      },
      "source": [
        "#### Define another function which checks whether a given is number is odd or even for a given input and it should print whether the  number is odd or even as an output\n",
        "<p style='text-align: right;'> 5 + 3 = 8 points </p>\n"
      ]
    },
    {
      "cell_type": "code",
      "metadata": {
        "colab": {
          "base_uri": "https://localhost:8080/"
        },
        "id": "BeOoDw85XL4h",
        "outputId": "a5c372b6-3451-444b-9db0-777ed1911a59"
      },
      "source": [
        "# your code here\n",
        "def oddeven(x):\n",
        "  if(x%2==0):\n",
        "    \n",
        "    print('even')\n",
        "  else: print('odd')\n",
        "oddeven(3)\n"
      ],
      "execution_count": 46,
      "outputs": [
        {
          "output_type": "stream",
          "text": [
            "odd\n"
          ],
          "name": "stdout"
        }
      ]
    },
    {
      "cell_type": "markdown",
      "metadata": {
        "id": "saEU2atXXL4h"
      },
      "source": [
        "Hey smarty! lets use both the functions together to check whether the square of 3,6 and 21 are odd or even.\n"
      ]
    },
    {
      "cell_type": "code",
      "metadata": {
        "colab": {
          "base_uri": "https://localhost:8080/"
        },
        "id": "mRYR7gnHXL4h",
        "outputId": "d27a5f2c-77aa-4202-e0c6-f7fafb54df79"
      },
      "source": [
        " # your code here\n",
        "def combined(x):\n",
        "   print(pow(x,2))\n",
        "   if (x%2==0):\n",
        "    \n",
        "    print('even')\n",
        "   else: print('odd')\n",
        "combined(3)\n",
        "combined(6)"
      ],
      "execution_count": 49,
      "outputs": [
        {
          "output_type": "stream",
          "text": [
            "9\n",
            "odd\n",
            "36\n",
            "even\n"
          ],
          "name": "stdout"
        }
      ]
    },
    {
      "cell_type": "markdown",
      "metadata": {
        "id": "S0dwpQ3uXL4i"
      },
      "source": [
        "hey hey! You did a great code. Did you see the benefit of using functions"
      ]
    },
    {
      "cell_type": "markdown",
      "metadata": {
        "id": "ZAOxhOqeXL4i"
      },
      "source": [
        "# Loops and Iterations\n",
        "Reference:- https://youtu.be/6iF8Xb7Z3wQ"
      ]
    },
    {
      "cell_type": "markdown",
      "metadata": {
        "id": "KGq8DYfbXL4i"
      },
      "source": [
        "## If statement\n",
        "\n",
        "<p style='text-align: right;'> 1 + 2 + 3 = 6 points </p>\n"
      ]
    },
    {
      "cell_type": "code",
      "metadata": {
        "colab": {
          "base_uri": "https://localhost:8080/"
        },
        "id": "7jvkSufVXL4j",
        "outputId": "12507f65-fbfa-48cc-c366-e42eaba3bf03"
      },
      "source": [
        "#Declare a variable x equal to a number of your choice.\n",
        "#your code here\n",
        "\n",
        "x=3\n",
        "if(x>0):\n",
        "  print('positive')\n",
        "elif (x<0):\n",
        "  print('negative')\n",
        "else:\n",
        "  print('zero')"
      ],
      "execution_count": 51,
      "outputs": [
        {
          "output_type": "stream",
          "text": [
            "positive\n"
          ],
          "name": "stdout"
        }
      ]
    },
    {
      "cell_type": "code",
      "metadata": {
        "colab": {
          "base_uri": "https://localhost:8080/"
        },
        "id": "yJ3AV4YoXL4j",
        "outputId": "c0c60058-0c93-450e-bbf9-31ab356c7763"
      },
      "source": [
        "#Using an if statement, print whether x is zero, positive or negative.\n",
        "if(x>0):\n",
        "  print('positive')\n",
        "elif (x<0):\n",
        "  print('negative')\n",
        "else:\n",
        "  print('zero')"
      ],
      "execution_count": 52,
      "outputs": [
        {
          "output_type": "stream",
          "text": [
            "positive\n"
          ],
          "name": "stdout"
        }
      ]
    },
    {
      "cell_type": "code",
      "metadata": {
        "id": "-ZIBraaSXL4j",
        "outputId": "91de7bdd-1450-43dc-9b96-2bcf67fb1516"
      },
      "source": [
        "# Now Define a function, which takes input from the user and prints whether the given input is zero,positive or negative.\n",
        "\n",
        "\n",
        "check_num(10)\n",
        "check_num(-2)\n",
        "check_num(0)"
      ],
      "execution_count": null,
      "outputs": [
        {
          "output_type": "stream",
          "text": [
            "10 is positive\n",
            "-2 is negative\n",
            "0 if zero\n"
          ],
          "name": "stdout"
        }
      ]
    },
    {
      "cell_type": "markdown",
      "metadata": {
        "id": "Phc2aFprXL4k"
      },
      "source": [
        "## For loop"
      ]
    },
    {
      "cell_type": "markdown",
      "metadata": {
        "id": "zgxEArwxXL4k"
      },
      "source": [
        "<p style='text-align: right;'> 2 points </p>\n"
      ]
    },
    {
      "cell_type": "code",
      "metadata": {
        "id": "3-gBoSOVXL4k"
      },
      "source": [
        "#Create a list x, such that it contains the elements - ‘India’, ‘Israel’,’Canada’.\n",
        "x=['india','israel','canada']"
      ],
      "execution_count": 13,
      "outputs": []
    },
    {
      "cell_type": "code",
      "metadata": {
        "colab": {
          "base_uri": "https://localhost:8080/"
        },
        "id": "UWsBECrcXL4k",
        "outputId": "0375e30b-304d-4f0b-96aa-bd2bf5d6d2e5"
      },
      "source": [
        "#Using For loop, iterate over the list and print the elements.\n",
        "for i in x:\n",
        "  print(i)"
      ],
      "execution_count": 14,
      "outputs": [
        {
          "output_type": "stream",
          "text": [
            "india\n",
            "israel\n",
            "canada\n"
          ],
          "name": "stdout"
        }
      ]
    },
    {
      "cell_type": "markdown",
      "metadata": {
        "id": "--kUD1jPXL4l"
      },
      "source": [
        "<p style='text-align: right;'> 2 points </p>\n"
      ]
    },
    {
      "cell_type": "code",
      "metadata": {
        "colab": {
          "base_uri": "https://localhost:8080/"
        },
        "id": "gP3CJNj3XL4l",
        "outputId": "640e575f-87ca-4a10-aee2-b4f006c510d5"
      },
      "source": [
        "# Using For loop, print the table of 2.\n",
        "for i in range(2,11):\n",
        "  print(2*i)"
      ],
      "execution_count": 16,
      "outputs": [
        {
          "output_type": "stream",
          "text": [
            "4\n",
            "6\n",
            "8\n",
            "10\n",
            "12\n",
            "14\n",
            "16\n",
            "18\n",
            "20\n"
          ],
          "name": "stdout"
        }
      ]
    },
    {
      "cell_type": "markdown",
      "metadata": {
        "id": "HIQUJgzoXL4l"
      },
      "source": [
        "For a given list, x = [21, ‘hello,’cream’, 20,19,’village’], using for loop to iterate over the items and using - if statement print the items that are of type int"
      ]
    },
    {
      "cell_type": "code",
      "metadata": {
        "id": "4BflKieSXL4l"
      },
      "source": [
        "#code here\n",
        "x = [21, 'hello','cream', 20,19,'village']\n",
        "for i in x:\n",
        "  if isinstance(x,int):\n",
        "    print(x)\n",
        "   \n"
      ],
      "execution_count": 38,
      "outputs": []
    },
    {
      "cell_type": "markdown",
      "metadata": {
        "id": "hnvJs56bXL4m"
      },
      "source": [
        "Using For loop, lets create a pattern. "
      ]
    },
    {
      "cell_type": "markdown",
      "metadata": {
        "id": "hI5QeaJiXL4m"
      },
      "source": [
        "<p style='text-align: right;'> 10 points </p>\n"
      ]
    },
    {
      "cell_type": "code",
      "metadata": {
        "colab": {
          "base_uri": "https://localhost:8080/"
        },
        "id": "LFWJkjR-XL4m",
        "outputId": "2226fc3a-7ff5-45ca-f497-4d5adfea092f"
      },
      "source": [
        "# print the following pattern\n",
        "for i in range(0,5):\n",
        "  for j in range(0,i):\n",
        "    print('*',end=\"\")\n",
        "    \n",
        "  print('\\n')"
      ],
      "execution_count": 44,
      "outputs": [
        {
          "output_type": "stream",
          "text": [
            "\n",
            "\n",
            "*\n",
            "\n",
            "**\n",
            "\n",
            "***\n",
            "\n",
            "****\n",
            "\n"
          ],
          "name": "stdout"
        }
      ]
    },
    {
      "cell_type": "markdown",
      "metadata": {
        "id": "IqHtwWg1XL4n"
      },
      "source": [
        "## While loop"
      ]
    },
    {
      "cell_type": "markdown",
      "metadata": {
        "id": "RAMGDIQ9XL4n"
      },
      "source": [
        "- Using while loop make a function that prints all the values between 1 to n. "
      ]
    },
    {
      "cell_type": "markdown",
      "metadata": {
        "id": "9jtxdVlTXL4n"
      },
      "source": [
        "<p style='text-align: right;'> 10 points </p>\n"
      ]
    },
    {
      "cell_type": "code",
      "metadata": {
        "colab": {
          "base_uri": "https://localhost:8080/"
        },
        "id": "IMYeQS7CXL4n",
        "outputId": "0361545a-fd85-489a-bccb-a9100dff7ed3"
      },
      "source": [
        "def counte1r(n):\n",
        "  i=1\n",
        "  while i<n:\n",
        "    print(i)\n",
        "    i+=1\n",
        "counte1r(10)\n",
        "\n",
        "\n",
        "    "
      ],
      "execution_count": 47,
      "outputs": [
        {
          "output_type": "stream",
          "text": [
            "1\n",
            "2\n",
            "3\n",
            "4\n",
            "5\n",
            "6\n",
            "7\n",
            "8\n",
            "9\n"
          ],
          "name": "stdout"
        }
      ]
    },
    {
      "cell_type": "code",
      "metadata": {
        "id": "7Ws3WGBaXL4o",
        "outputId": "78405b26-1563-44a1-b686-7e0fc5af8e4e"
      },
      "source": [
        "counter(10) #this should print numbers from 1 to 10"
      ],
      "execution_count": null,
      "outputs": [
        {
          "output_type": "stream",
          "text": [
            "1\n",
            "2\n",
            "3\n",
            "4\n",
            "5\n",
            "6\n",
            "7\n",
            "8\n",
            "9\n"
          ],
          "name": "stdout"
        }
      ]
    },
    {
      "cell_type": "markdown",
      "metadata": {
        "id": "xJ7f2UZ1XL4o"
      },
      "source": [
        "### Write the code for the following, what is the output obtained?\n",
        "- Set a variable flag = True, num = 5\n",
        "- Run a while loop till flag = True\n",
        "- Inside the while loop - \n",
        "    - Increment the value of num by 5\n",
        "    - If value of num is greater then 50, set flag to be False"
      ]
    },
    {
      "cell_type": "code",
      "metadata": {
        "colab": {
          "base_uri": "https://localhost:8080/"
        },
        "id": "qQDELy3qXL4o",
        "outputId": "80db26ec-6ba1-44eb-b0d6-5dfb32e7d915"
      },
      "source": [
        "# your code here\n",
        "flag=True\n",
        "num=5\n",
        "while (flag==True):\n",
        "  print(num)\n",
        "  num+=5\n",
        "  \n",
        "  if(num>50):\n",
        "    flag=False\n",
        "\n",
        "  \n"
      ],
      "execution_count": 50,
      "outputs": [
        {
          "output_type": "stream",
          "text": [
            "5\n",
            "10\n",
            "15\n",
            "20\n",
            "25\n",
            "30\n",
            "35\n",
            "40\n",
            "45\n",
            "50\n"
          ],
          "name": "stdout"
        }
      ]
    },
    {
      "cell_type": "markdown",
      "metadata": {
        "id": "84Sfko_eXL4o"
      },
      "source": [
        "# Intermediate programming questions\n",
        "\n",
        "<p style='text-align: right;'> 160 points </p>\n",
        "\n",
        "References: https://youtu.be/HGOBQPFzWKo\n",
        "\n",
        "Add-on reference: https://youtu.be/8DvywoWv6fI\n"
      ]
    },
    {
      "cell_type": "markdown",
      "metadata": {
        "id": "cZ4KiULMXL4p"
      },
      "source": [
        "Lets remove duplicates from list names=['A','B','C','A','D','E','F','G','H','E','D']\n",
        "\n"
      ]
    },
    {
      "cell_type": "code",
      "metadata": {
        "colab": {
          "base_uri": "https://localhost:8080/"
        },
        "id": "zBhw2G-9XL4p",
        "outputId": "5dcc60fc-6f00-450a-ea83-60edccfec1e0"
      },
      "source": [
        "#code here\n",
        "lm=['A','B','C','A','D','E','F','G','H','E','D']\n",
        "rs=[]\n",
        "i=0\n",
        "ctr=0\n",
        "for i in lm:\n",
        "  if i not in rs:\n",
        "    rs.append(i)\n",
        "\n",
        "print (\"The list after removing duplicates : \" + str(rs))"
      ],
      "execution_count": 73,
      "outputs": [
        {
          "output_type": "stream",
          "text": [
            "The list after removing duplicates : ['A', 'B', 'C', 'D', 'E', 'F', 'G', 'H']\n"
          ],
          "name": "stdout"
        }
      ]
    },
    {
      "cell_type": "markdown",
      "metadata": {
        "id": "BTIIQrRxXL4p"
      },
      "source": [
        "Good! Shall we try solving above problem in shhorter way using list comprehention? It will be amazing. Here we go!\n",
        "\n"
      ]
    },
    {
      "cell_type": "code",
      "metadata": {
        "colab": {
          "base_uri": "https://localhost:8080/"
        },
        "id": "O_20JEC8XL4q",
        "outputId": "7af9ea67-d4dd-4d62-b6a3-1036c6d7753a"
      },
      "source": [
        "lm=['A','B','C','A','D','E','F','G','H','E','D']\n",
        "res = []\n",
        "[res.append(x) for x in lm if x not in res]\n",
        "  \n",
        "# printing list after removal \n",
        "print (\"The list after removing duplicates : \" + str(res))"
      ],
      "execution_count": 74,
      "outputs": [
        {
          "output_type": "stream",
          "text": [
            "The list after removing duplicates : ['A', 'B', 'C', 'D', 'E', 'F', 'G', 'H']\n"
          ],
          "name": "stdout"
        }
      ]
    },
    {
      "cell_type": "markdown",
      "metadata": {
        "id": "frK9YHgCXL4q"
      },
      "source": [
        "define a funtion 'occurence' which takes 2 inputs, one list 'lst' and another one a number 'n' and count the number of occurrences of n in your list lst."
      ]
    },
    {
      "cell_type": "code",
      "metadata": {
        "colab": {
          "base_uri": "https://localhost:8080/"
        },
        "id": "ExP7mpG_XL4q",
        "outputId": "11207e87-3c1c-471d-8158-589d012de706"
      },
      "source": [
        "#your code\n",
        "lmm=[2,3,4,8,1,3,5,2,1,3,1,2,2]\n",
        "n=2\n",
        "i=0\n",
        "ctr=0\n",
        "for i in range(len(lmm)):\n",
        "  if(n==lmm[i]):\n",
        "    ctr+=1\n",
        "  i+=1\n",
        "print(ctr)\n",
        " \n"
      ],
      "execution_count": 78,
      "outputs": [
        {
          "output_type": "stream",
          "text": [
            "4\n"
          ],
          "name": "stdout"
        }
      ]
    },
    {
      "cell_type": "markdown",
      "metadata": {
        "id": "4kw-Wj3qXL4q"
      },
      "source": [
        "Calculate factorial of a number ( Here number=3) using while loop"
      ]
    },
    {
      "cell_type": "code",
      "metadata": {
        "colab": {
          "base_uri": "https://localhost:8080/"
        },
        "id": "54wFst9BXL4r",
        "outputId": "9681d8a7-da45-4285-9696-32ab63b091ad"
      },
      "source": [
        "number = 3\n",
        "\n",
        "f=1\n",
        "i=1\n",
        "#your code here\n",
        "while i<=(n+1):\n",
        "  f=f*i\n",
        "  \n",
        "  i+=1\n",
        "print(f)"
      ],
      "execution_count": 87,
      "outputs": [
        {
          "output_type": "stream",
          "text": [
            "6\n"
          ],
          "name": "stdout"
        }
      ]
    },
    {
      "cell_type": "markdown",
      "metadata": {
        "id": "aFbY2tFbXL4r"
      },
      "source": [
        "Reverse a given integer number num = 47594038222 and display the count of total number of digits in your revered number using while loop."
      ]
    },
    {
      "cell_type": "code",
      "metadata": {
        "colab": {
          "base_uri": "https://localhost:8080/"
        },
        "id": "A_3i2z3oXL4r",
        "outputId": "5e158432-a1d3-4189-dc69-bb70afd64060"
      },
      "source": [
        "# Your code here\n",
        "num = 47594038222 \n",
        "x=0\n",
        "while (num>0):\n",
        "  x=(x*10)+(num%10)\n",
        "  num=num//10\n",
        "print(x)\n",
        "\n",
        "\n",
        "\n",
        "\n"
      ],
      "execution_count": 95,
      "outputs": [
        {
          "output_type": "stream",
          "text": [
            "22283049574\n"
          ],
          "name": "stdout"
        }
      ]
    },
    {
      "cell_type": "markdown",
      "metadata": {
        "id": "qu1XvhAaXL4s"
      },
      "source": [
        "Can you reverse you given num without using loop in just one line?\n",
        "\n",
        "Hint: apply some slicing trick to do it."
      ]
    },
    {
      "cell_type": "code",
      "metadata": {
        "colab": {
          "base_uri": "https://localhost:8080/"
        },
        "id": "EpjAEzc6XL4s",
        "outputId": "83e627ae-d4cb-4778-bb27-d9feba19d2bf"
      },
      "source": [
        "num = 47594038222\n",
        "print(str(num)[: :-1])\n",
        "\n",
        "#one line code here\n",
        "\n"
      ],
      "execution_count": 4,
      "outputs": [
        {
          "output_type": "stream",
          "text": [
            "22283049574\n"
          ],
          "name": "stdout"
        }
      ]
    },
    {
      "cell_type": "markdown",
      "metadata": {
        "id": "mZySin7_XL4s"
      },
      "source": [
        "Write a function that checks whether a given sequence of number is IP address or not and print all valid possible IP from a given digit. If not an IP then it prints empty list"
      ]
    },
    {
      "cell_type": "code",
      "metadata": {
        "id": "fEGzwSpFXL4s",
        "outputId": "f49852f5-378d-458d-bee1-ad3c672baba2"
      },
      "source": [
        "#code goes here\n",
        "\n",
        " \n",
        "    \n",
        "\n",
        "# Check your code with below numbers    \n",
        "A = \"25525511135\"\n",
        "B = \"25505011536\"\n",
        " \n",
        "print(convert(A))\n",
        "print(convert(B))"
      ],
      "execution_count": null,
      "outputs": [
        {
          "output_type": "stream",
          "text": [
            "['255.255.11.135', '255.255.111.35']\n",
            "[]\n"
          ],
          "name": "stdout"
        }
      ]
    },
    {
      "cell_type": "markdown",
      "metadata": {
        "id": "MyXk0UjiXL4t"
      },
      "source": [
        "Solve the quadratic equation ax**2 + bx + c = 0 where a =4, b=6, c=2"
      ]
    },
    {
      "cell_type": "code",
      "metadata": {
        "colab": {
          "base_uri": "https://localhost:8080/"
        },
        "id": "4DyO-zvPXL4t",
        "outputId": "9d568de6-8d09-48f8-9e53-bacfbf7cabea"
      },
      "source": [
        "# code here\n",
        "import math\n",
        "a=4\n",
        "b=6\n",
        "c=2\n",
        "\n",
        "\n",
        "r1=(-b+math.sqrt(pow(b,2)-(4*a*c)))//(2*a)\n",
        "print(r1)\n",
        "r2=(-b-math.sqrt(pow(b,2)-(4*a*c)))//(2*a)\n",
        "print(r2)\n"
      ],
      "execution_count": 9,
      "outputs": [
        {
          "output_type": "stream",
          "text": [
            "-1.0\n",
            "-1.0\n"
          ],
          "name": "stdout"
        }
      ]
    },
    {
      "cell_type": "markdown",
      "metadata": {
        "id": "Ys_LxaD8XL4u"
      },
      "source": [
        "Write a program to Remove Punctuations From a String \n",
        "\n",
        "    s=\"Wow!!!, we are going ahead with our course to learn *machine learning* ---are'nt you excited? :)\""
      ]
    },
    {
      "cell_type": "code",
      "metadata": {
        "colab": {
          "base_uri": "https://localhost:8080/"
        },
        "id": "ecLJe-dgXL4u",
        "outputId": "c058bec0-66fc-476f-d7e1-bdb8c4658bcf"
      },
      "source": [
        "#code here\n",
        "punctuation= '''!()-[]{};:'\"\\, <>./?@#$%^&*_~'''\n",
        "newstr=\"\"\n",
        "mstr=\"Wow!!!, we are going ahead with our course to learn *machine learning* ---are'nt you excited? :)\"\n",
        "for i in mstr:\n",
        "  if i not in punctuation:\n",
        "    newstr=newstr+i\n",
        "print(newstr)\n"
      ],
      "execution_count": 10,
      "outputs": [
        {
          "output_type": "stream",
          "text": [
            "Wowwearegoingaheadwithourcoursetolearnmachinelearningarentyouexcited\n"
          ],
          "name": "stdout"
        }
      ]
    },
    {
      "cell_type": "markdown",
      "metadata": {
        "id": "cJFwWyWTXL4v"
      },
      "source": [
        "Write a program which takes 2 digits, X,Y as input and generates a 2-dimensional array. The element value in the i-th row and j-th column of the array should be i*j.\n",
        "\n",
        "Note: i=0,1.., X-1; j=0,1,i^Y-1."
      ]
    },
    {
      "cell_type": "code",
      "metadata": {
        "colab": {
          "base_uri": "https://localhost:8080/"
        },
        "id": "WNTDCWheXL4v",
        "outputId": "1b62212b-1a04-4515-a1bc-f8859f3f9fba"
      },
      "source": [
        "digit1=3\n",
        "digit2=4\n",
        "i=0\n",
        "j=0\n",
        "x=[[0 for col in range(digit1)] for row in range(digit2)]\n",
        "for i in range(digit1):\n",
        "  for j in range(digit2):\n",
        "    x.append(i*j)\n",
        "print(x)\n",
        "\n",
        "\n",
        "\n",
        "#code here\n",
        "\n"
      ],
      "execution_count": 7,
      "outputs": [
        {
          "output_type": "stream",
          "text": [
            "[[0, 0, 0], [0, 0, 0], [0, 0, 0], [0, 0, 0], 0, 0, 0, 0, 0, 1, 2, 3, 0, 2, 4, 6]\n"
          ],
          "name": "stdout"
        }
      ]
    },
    {
      "cell_type": "markdown",
      "metadata": {
        "id": "Lh_C7kPeXL4w"
      },
      "source": [
        "Write a function 'solve_coin_change' which takes list of denominations and amount and checks number of ways you can make change with coins and a total amount.\n",
        "\n",
        "Note: You have unlimited amount of mentioned denominations\n",
        "\n",
        "![image-2.png](attachment:image-2.png)"
      ]
    },
    {
      "cell_type": "code",
      "metadata": {
        "id": "ftnjDQ4rXL4w",
        "outputId": "655c8e7c-501d-4eae-c871-69dce13dfd6f"
      },
      "source": [
        "#code here\n",
        "\n",
        "\n",
        "\n",
        "# Checking your code\n",
        "print(solve_coin_change([1, 5, 10],20))\n",
        "print(solve_coin_change([1, 2, 5],7))"
      ],
      "execution_count": null,
      "outputs": [
        {
          "output_type": "stream",
          "text": [
            "9\n",
            "6\n"
          ],
          "name": "stdout"
        }
      ]
    },
    {
      "cell_type": "markdown",
      "metadata": {
        "id": "fv2g3dk_XL4w"
      },
      "source": [
        "For given string S and integers P and Q, which denotes the cost of removal of substrings “he” and “lo” respectively from S, the task is to find the maximum cost of removing all occurrences of substrings “he” and “lo”.\n",
        "\n",
        "example if S = “hellohellohellohellohello”, P = 6, Q = 4, then cost to remove 'he' and 'lo' is 50"
      ]
    },
    {
      "cell_type": "code",
      "metadata": {
        "id": "6h90YWXnXL4x",
        "outputId": "d0ecdc57-a0b6-4030-dacc-eab1a3203935"
      },
      "source": [
        "#code here\n",
        " \n",
        "# Check code with \n",
        "\n",
        "S = \"hellohellohellohellohello\"\n",
        "\n",
        "# Costs\n",
        "P = 6;\n",
        "Q = 4;\n"
      ],
      "execution_count": null,
      "outputs": [
        {
          "output_type": "stream",
          "text": [
            "50\n"
          ],
          "name": "stdout"
        }
      ]
    },
    {
      "cell_type": "markdown",
      "metadata": {
        "id": "EowAuW5vXL4x"
      },
      "source": [
        "Given a binary string S , the task is to find the smallest string possible by removing all occurrences of substrings “01” and “11”. After removal of any substring, concatenate the remaining parts of the string.\n",
        "\n",
        "Example\n",
        "    \n",
        "    Input: S = “0010110”\n",
        "    Output: String = 0\n",
        "    \n",
        "    Explanation: String can be transformed by the following steps: \n",
        "    0010110 → 00110 → 010 → 0. \n",
        "    Since no occurrence of substrings 01 and 11 are remaining, the string “0” is of minimum possible length 1."
      ]
    },
    {
      "cell_type": "code",
      "metadata": {
        "id": "NFoLIxTpXL4y",
        "outputId": "aa2dd176-1be0-481a-99ea-9c5fdae57819"
      },
      "source": [
        "#write your function to get desired output\n"
      ],
      "execution_count": null,
      "outputs": [
        {
          "output_type": "stream",
          "text": [
            "The final string is: 0\n",
            "The final string size is: 1\n"
          ],
          "name": "stdout"
        }
      ]
    },
    {
      "cell_type": "markdown",
      "metadata": {
        "id": "Hjk_LHfGXL4y"
      },
      "source": [
        "Write a function such that it accepts two integers n, m as arguments Find the sum of all numbers in range from 1 to m(both inclusive) that are not divisible by n. Return difference between sum of integers not divisible by n with sum of numbers divisible by n\n",
        "\n",
        "Example\n",
        "\n",
        "    Input\n",
        "    n:4\n",
        "    m:20\n",
        "    Output\n",
        "    90"
      ]
    },
    {
      "cell_type": "code",
      "metadata": {
        "colab": {
          "base_uri": "https://localhost:8080/"
        },
        "id": "sh23V0yBXL4z",
        "outputId": "c05546b6-c865-4dbc-ab1f-6daa5c85a689"
      },
      "source": [
        "#code here\n",
        "def count(n,m):\n",
        "  sum1=0\n",
        "  sum2=0\n",
        "  diff=0\n",
        "  for i in range(1,m):\n",
        "    for j in range(1,n):\n",
        "      if(i%j==0):\n",
        "        sum1=sum1+i\n",
        "      else:\n",
        "        sum2=sum2+i\n",
        "  diff=sum1-sum2\n",
        "  print(sum1)\n",
        "  print(sum2)\n",
        "  print(diff)\n",
        "count(3,20)\n",
        "# Check code with Input:\n",
        "n:3\n",
        "m:20"
      ],
      "execution_count": 11,
      "outputs": [
        {
          "output_type": "stream",
          "text": [
            "280\n",
            "100\n",
            "180\n"
          ],
          "name": "stdout"
        }
      ]
    },
    {
      "cell_type": "markdown",
      "metadata": {
        "id": "46QAa-gIXL4z"
      },
      "source": [
        "Write a function count_code that return the number of times that the string \"code\" appears anywhere in the given string, except we'll accept any letter for the 'd', so \"cope\" and \"cooe\" count.\n",
        "\n",
        "\n",
        "    count_code('aaacodebbb') → 1\n",
        "    count_code('codexxcode') → 2\n",
        "    count_code('cozexxcope') → 2"
      ]
    },
    {
      "cell_type": "code",
      "metadata": {
        "colab": {
          "base_uri": "https://localhost:8080/"
        },
        "id": "OhiTKcnbXL4z",
        "outputId": "184e6f3f-f292-4395-e30f-3bf57796618b"
      },
      "source": [
        "#your code here \n",
        "def count_code(x):\n",
        "  ctr=0\n",
        "  xx=\"code\"\n",
        " \n",
        "  for i in range(len(x)):\n",
        "    if (x[i:i+2]==\"co\" and x[i + 3] == 'e'):\n",
        "      ctr+=1\n",
        "    i+=1\n",
        "  return ctr\n",
        "\n",
        "\n",
        "\n",
        "\n",
        "#check your code \n",
        "print(count_code('aaacodebbb'))\n",
        "print(count_code('codexxcode'))\n",
        "print(count_code('cozexxcope'))"
      ],
      "execution_count": 55,
      "outputs": [
        {
          "output_type": "stream",
          "text": [
            "1\n",
            "2\n",
            "2\n"
          ],
          "name": "stdout"
        }
      ]
    },
    {
      "cell_type": "markdown",
      "metadata": {
        "id": "icD-O9AcXL40"
      },
      "source": [
        "Lets have one moderate level question for you. \n",
        "\n",
        "Find the sum of the series 4 +44 + 444 + 4444 + .. n terms\n",
        "\n",
        "here keep n=5"
      ]
    },
    {
      "cell_type": "code",
      "metadata": {
        "colab": {
          "base_uri": "https://localhost:8080/"
        },
        "id": "ArFNhjLBXL40",
        "outputId": "6bcc7db8-d088-4c2f-8ec4-0193837860ed"
      },
      "source": [
        "#your code here\n",
        "i=1\n",
        "n=2\n",
        "sum=0\n",
        "x=0\n",
        "for i in range(1,n+1):\n",
        "      sum=(sum*10)+4\n",
        "      \n",
        "      x=x+sum\n",
        "      i+=1\n",
        "print(x)\n",
        "\n"
      ],
      "execution_count": 63,
      "outputs": [
        {
          "output_type": "stream",
          "text": [
            "48\n"
          ],
          "name": "stdout"
        }
      ]
    },
    {
      "cell_type": "markdown",
      "metadata": {
        "id": "5l898drbXL41"
      },
      "source": [
        "Awsesome! Great job so far. Hope you fell in love with python now."
      ]
    },
    {
      "cell_type": "markdown",
      "metadata": {
        "id": "H7Hp4g_EXL41"
      },
      "source": [
        "----------------------------------------------------------------------"
      ]
    },
    {
      "cell_type": "markdown",
      "metadata": {
        "id": "eELyXp58XL41"
      },
      "source": [
        "# Smile, you completed the first milestone :)!! "
      ]
    },
    {
      "cell_type": "markdown",
      "metadata": {
        "id": "J6GxXWxUXL42"
      },
      "source": [
        "# Its Feedback Time!\n",
        "\n",
        "We hope you’ve enjoyed this course so far. We’re committed to help you use \"AI for All\" course to its full potential, so that you have a great learning experience. And that’s why we need your help in form of a feedback here.\n",
        "\n",
        "**Please fill this feedback form**\n",
        " https://zfrmz.in/MtRG5oWXBdesm6rmSM7N\n",
        " \n",
        "-------------------------------------\n",
        " "
      ]
    }
  ]
}
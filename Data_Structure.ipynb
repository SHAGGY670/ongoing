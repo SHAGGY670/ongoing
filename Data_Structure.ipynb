{
  "nbformat": 4,
  "nbformat_minor": 5,
  "metadata": {
    "kernelspec": {
      "display_name": "Python 3",
      "language": "python",
      "name": "python3"
    },
    "language_info": {
      "codemirror_mode": {
        "name": "ipython",
        "version": 3
      },
      "file_extension": ".py",
      "mimetype": "text/x-python",
      "name": "python",
      "nbconvert_exporter": "python",
      "pygments_lexer": "ipython3",
      "version": "3.8.5"
    },
    "colab": {
      "name": "Data Structure.ipynb",
      "provenance": [],
      "collapsed_sections": [],
      "include_colab_link": true
    }
  },
  "cells": [
    {
      "cell_type": "markdown",
      "metadata": {
        "id": "view-in-github",
        "colab_type": "text"
      },
      "source": [
        "<a href=\"https://colab.research.google.com/github/SHAGGY670/ongoing/blob/master/Data_Structure.ipynb\" target=\"_parent\"><img src=\"https://colab.research.google.com/assets/colab-badge.svg\" alt=\"Open In Colab\"/></a>"
      ]
    },
    {
      "cell_type": "markdown",
      "metadata": {
        "id": "_VIKLiUkcV4W"
      },
      "source": [
        "# <center> <u>Data Structures <u> </center>"
      ],
      "id": "_VIKLiUkcV4W"
    },
    {
      "cell_type": "markdown",
      "metadata": {
        "id": "yQyBKT1_cV4Z"
      },
      "source": [
        "## 1. Lists\n",
        "\n",
        "Reference:- https://www.youtube.com/watch?v=ohCDWZgNIU0\n"
      ],
      "id": "yQyBKT1_cV4Z"
    },
    {
      "cell_type": "markdown",
      "metadata": {
        "id": "Yol6ZBDWcV4a"
      },
      "source": [
        "<p style='text-align: right;'> 1+1+1 = 3 points</p>\n"
      ],
      "id": "Yol6ZBDWcV4a"
    },
    {
      "cell_type": "markdown",
      "metadata": {
        "id": "3VUfgVZvcV4b"
      },
      "source": [
        "#### 1.1 Create an empty list with the name ‘a’, print the value of a and type(a).\n"
      ],
      "id": "3VUfgVZvcV4b"
    },
    {
      "cell_type": "code",
      "metadata": {
        "colab": {
          "base_uri": "https://localhost:8080/"
        },
        "id": "zTgpFJ-acV4d",
        "outputId": "62813829-9225-4b44-ad10-52078ff0972c"
      },
      "source": [
        "# create empty list, name it 'a'\n",
        "a=[]\n",
        "type(a)\n"
      ],
      "id": "zTgpFJ-acV4d",
      "execution_count": 1,
      "outputs": [
        {
          "output_type": "execute_result",
          "data": {
            "text/plain": [
              "list"
            ]
          },
          "metadata": {
            "tags": []
          },
          "execution_count": 1
        }
      ]
    },
    {
      "cell_type": "code",
      "metadata": {
        "colab": {
          "base_uri": "https://localhost:8080/"
        },
        "id": "cPCJvKxVcV4e",
        "outputId": "b0c04a39-4087-4b49-c0f9-221a2dc5f304"
      },
      "source": [
        "# print the value of a\n",
        "\n",
        "print(a)"
      ],
      "id": "cPCJvKxVcV4e",
      "execution_count": 2,
      "outputs": [
        {
          "output_type": "stream",
          "text": [
            "[]\n"
          ],
          "name": "stdout"
        }
      ]
    },
    {
      "cell_type": "code",
      "metadata": {
        "colab": {
          "base_uri": "https://localhost:8080/"
        },
        "id": "_ItbCcw8cV4g",
        "outputId": "1e9dcb19-8f9e-4f42-e270-88dbfc50bd34"
      },
      "source": [
        "# print the type of a\n",
        "type(a)\n"
      ],
      "id": "_ItbCcw8cV4g",
      "execution_count": 4,
      "outputs": [
        {
          "output_type": "execute_result",
          "data": {
            "text/plain": [
              "list"
            ]
          },
          "metadata": {
            "tags": []
          },
          "execution_count": 4
        }
      ]
    },
    {
      "cell_type": "markdown",
      "metadata": {
        "id": "oPwBrXrCcV4i"
      },
      "source": [
        "#### 1.2.Create a list , languages = ['R','Python', 'SAS', 'Scala', 42], "
      ],
      "id": "oPwBrXrCcV4i"
    },
    {
      "cell_type": "markdown",
      "metadata": {
        "id": "7dfMy0nxcV4j"
      },
      "source": [
        "<p style='text-align: right;'> 1+1+1+1+1+1+1+1 = 7 points</p>\n"
      ],
      "id": "7dfMy0nxcV4j"
    },
    {
      "cell_type": "code",
      "metadata": {
        "id": "RiTW1JQhcV4k"
      },
      "source": [
        "#code here\n",
        "\n",
        "languages = ['R','Python', 'SAS', 'Scala', 42]"
      ],
      "id": "RiTW1JQhcV4k",
      "execution_count": 36,
      "outputs": []
    },
    {
      "cell_type": "markdown",
      "metadata": {
        "id": "OYVqH6uvcV4k"
      },
      "source": [
        "Print the number of elements in the list"
      ],
      "id": "OYVqH6uvcV4k"
    },
    {
      "cell_type": "code",
      "metadata": {
        "colab": {
          "base_uri": "https://localhost:8080/"
        },
        "id": "RhKkEV1mcV4l",
        "outputId": "a31dc8b7-29db-4dd5-b5ba-f7375cbe478d"
      },
      "source": [
        "#code here\n",
        "len(languages)"
      ],
      "id": "RhKkEV1mcV4l",
      "execution_count": 6,
      "outputs": [
        {
          "output_type": "execute_result",
          "data": {
            "text/plain": [
              "5"
            ]
          },
          "metadata": {
            "tags": []
          },
          "execution_count": 6
        }
      ]
    },
    {
      "cell_type": "markdown",
      "metadata": {
        "id": "X4yfPBDtcV4m"
      },
      "source": [
        "Using for loop iterate and print all the elements in the list"
      ],
      "id": "X4yfPBDtcV4m"
    },
    {
      "cell_type": "code",
      "metadata": {
        "colab": {
          "base_uri": "https://localhost:8080/"
        },
        "id": "OYUg3lsOcV4m",
        "outputId": "c9c4f24d-9d7a-4c51-c5f7-a26e5bf051bf"
      },
      "source": [
        "#code here\n",
        "for i in languages:\n",
        "  print(i)"
      ],
      "id": "OYUg3lsOcV4m",
      "execution_count": 7,
      "outputs": [
        {
          "output_type": "stream",
          "text": [
            "R\n",
            "Python\n",
            "SAS\n",
            "Scala\n",
            "42\n"
          ],
          "name": "stdout"
        }
      ]
    },
    {
      "cell_type": "markdown",
      "metadata": {
        "id": "IUKAtGOVcV4n"
      },
      "source": [
        "Select the second item, 'Python' and store it in a new variable named 'temp'"
      ],
      "id": "IUKAtGOVcV4n"
    },
    {
      "cell_type": "code",
      "metadata": {
        "id": "Nssjb150cV4o"
      },
      "source": [
        "#code here\n",
        "temp=languages[1]"
      ],
      "id": "Nssjb150cV4o",
      "execution_count": 9,
      "outputs": []
    },
    {
      "cell_type": "markdown",
      "metadata": {
        "id": "CN9qPx9BcV4o"
      },
      "source": [
        "Print the value of temp and type(temp)"
      ],
      "id": "CN9qPx9BcV4o"
    },
    {
      "cell_type": "code",
      "metadata": {
        "colab": {
          "base_uri": "https://localhost:8080/"
        },
        "id": "GWjygoTrcV4p",
        "outputId": "5f8e9001-2ce6-4af4-fb98-75a89a328e32"
      },
      "source": [
        "#code here\n",
        "print(temp)\n",
        "type(temp)\n"
      ],
      "id": "GWjygoTrcV4p",
      "execution_count": 10,
      "outputs": [
        {
          "output_type": "stream",
          "text": [
            "Python\n"
          ],
          "name": "stdout"
        },
        {
          "output_type": "execute_result",
          "data": {
            "text/plain": [
              "str"
            ]
          },
          "metadata": {
            "tags": []
          },
          "execution_count": 10
        }
      ]
    },
    {
      "cell_type": "markdown",
      "metadata": {
        "id": "yIXOFgQIcV4q"
      },
      "source": [
        "Using list comprehension, print the last two elemets of list"
      ],
      "id": "yIXOFgQIcV4q"
    },
    {
      "cell_type": "code",
      "metadata": {
        "colab": {
          "base_uri": "https://localhost:8080/"
        },
        "id": "JqQu4F4pcV4q",
        "outputId": "e6625192-24fa-4500-b683-1ad15441bc50"
      },
      "source": [
        "# code here\n",
        "print(languages[-2],languages[-1])"
      ],
      "id": "JqQu4F4pcV4q",
      "execution_count": 24,
      "outputs": [
        {
          "output_type": "stream",
          "text": [
            "Scala 42\n"
          ],
          "name": "stdout"
        }
      ]
    },
    {
      "cell_type": "markdown",
      "metadata": {
        "id": "tfAX32lCcV4r"
      },
      "source": [
        "Append the element 'Java' in the list"
      ],
      "id": "tfAX32lCcV4r"
    },
    {
      "cell_type": "code",
      "metadata": {
        "colab": {
          "base_uri": "https://localhost:8080/"
        },
        "id": "TV1_nF7hcV4r",
        "outputId": "aa8d6c5f-171b-435e-cb6c-73f853ab542f"
      },
      "source": [
        "#code here\n",
        "languages.append(\"java\")\n",
        "print(languages)"
      ],
      "id": "TV1_nF7hcV4r",
      "execution_count": 37,
      "outputs": [
        {
          "output_type": "stream",
          "text": [
            "['R', 'Python', 'SAS', 'Scala', 42, 'java']\n"
          ],
          "name": "stdout"
        }
      ]
    },
    {
      "cell_type": "markdown",
      "metadata": {
        "id": "ixsKmFI2cV4s"
      },
      "source": [
        "Remove the element 42 from the list and print the list"
      ],
      "id": "ixsKmFI2cV4s"
    },
    {
      "cell_type": "code",
      "metadata": {
        "colab": {
          "base_uri": "https://localhost:8080/"
        },
        "id": "UpESi1MScV4s",
        "outputId": "db33115b-ce2c-49ec-f0ae-9fe1bf6c19d7"
      },
      "source": [
        "#code here\n",
        "languages.remove(42)\n",
        "print(languages)"
      ],
      "id": "UpESi1MScV4s",
      "execution_count": 39,
      "outputs": [
        {
          "output_type": "stream",
          "text": [
            "['R', 'Python', 'SAS', 'Scala', 'java']\n"
          ],
          "name": "stdout"
        }
      ]
    },
    {
      "cell_type": "markdown",
      "metadata": {
        "id": "GIsFLL1RcV4t"
      },
      "source": [
        "#### 1.3. Create a list, colors = [‘Red’, ‘Blue’, ‘White’]"
      ],
      "id": "GIsFLL1RcV4t"
    },
    {
      "cell_type": "markdown",
      "metadata": {
        "id": "MqKjQ_3VcV4t"
      },
      "source": [
        "<p style='text-align: right;'> 1+1+1+1+1+1+1 = 6 points</p>\n"
      ],
      "id": "MqKjQ_3VcV4t"
    },
    {
      "cell_type": "code",
      "metadata": {
        "id": "G88ubVWJcV4u"
      },
      "source": [
        "#code here\n",
        "colors = ['Red', 'Blue', 'White']\n"
      ],
      "id": "G88ubVWJcV4u",
      "execution_count": 59,
      "outputs": []
    },
    {
      "cell_type": "markdown",
      "metadata": {
        "id": "LA-S_K2scV4u"
      },
      "source": [
        "Append the element 'Black' to colors"
      ],
      "id": "LA-S_K2scV4u"
    },
    {
      "cell_type": "code",
      "metadata": {
        "id": "2ZLuucSPcV4v"
      },
      "source": [
        "#code here\n",
        "colors.append(\"black\")"
      ],
      "id": "2ZLuucSPcV4v",
      "execution_count": 42,
      "outputs": []
    },
    {
      "cell_type": "markdown",
      "metadata": {
        "id": "RDPMV3CNcV4v"
      },
      "source": [
        "Append the color 'Orange' to second position (index=1) and print the list"
      ],
      "id": "RDPMV3CNcV4v"
    },
    {
      "cell_type": "code",
      "metadata": {
        "id": "5PexCZ_fcV4v"
      },
      "source": [
        "# code here\n",
        "colors.insert(1,\"orange\")"
      ],
      "id": "5PexCZ_fcV4v",
      "execution_count": 60,
      "outputs": []
    },
    {
      "cell_type": "markdown",
      "metadata": {
        "id": "Tyzh8kS0cV4w"
      },
      "source": [
        "Print the list\n"
      ],
      "id": "Tyzh8kS0cV4w"
    },
    {
      "cell_type": "code",
      "metadata": {
        "colab": {
          "base_uri": "https://localhost:8080/"
        },
        "id": "aVTbvQf0cV4w",
        "outputId": "00d0802c-4e62-4b65-f6ba-5840251aff89"
      },
      "source": [
        "# code here\n",
        "print(colors)"
      ],
      "id": "aVTbvQf0cV4w",
      "execution_count": 45,
      "outputs": [
        {
          "output_type": "stream",
          "text": [
            "['Red', 'orange', 'Blue', 'White', 'black']\n"
          ],
          "name": "stdout"
        }
      ]
    },
    {
      "cell_type": "markdown",
      "metadata": {
        "id": "nVo-Bmf4cV4x"
      },
      "source": [
        "Create another list, colors2 = [‘Grey’, ‘Sky Blue’]"
      ],
      "id": "nVo-Bmf4cV4x"
    },
    {
      "cell_type": "code",
      "metadata": {
        "id": "YyEeEuVGcV4x"
      },
      "source": [
        "# code here\n",
        "colors2 = ['Grey', 'Sky Blue']"
      ],
      "id": "YyEeEuVGcV4x",
      "execution_count": 61,
      "outputs": []
    },
    {
      "cell_type": "markdown",
      "metadata": {
        "id": "MObDJpi1cV4x"
      },
      "source": [
        "Add the elements of colors2 to colors using extend function in the list"
      ],
      "id": "MObDJpi1cV4x"
    },
    {
      "cell_type": "code",
      "metadata": {
        "id": "BbxtFLgJcV4y"
      },
      "source": [
        "#code here\n",
        "colors.extend(colors2)"
      ],
      "id": "BbxtFLgJcV4y",
      "execution_count": 62,
      "outputs": []
    },
    {
      "cell_type": "markdown",
      "metadata": {
        "id": "kAb3aWzOcV4y"
      },
      "source": [
        "Print len of colors and its elements"
      ],
      "id": "kAb3aWzOcV4y"
    },
    {
      "cell_type": "code",
      "metadata": {
        "colab": {
          "base_uri": "https://localhost:8080/"
        },
        "id": "GBCO9mYYcV4y",
        "outputId": "ffead10a-02b5-403f-f23c-81a512e780b8"
      },
      "source": [
        "# code here\n",
        "print(colors)\n",
        "\n"
      ],
      "id": "GBCO9mYYcV4y",
      "execution_count": 63,
      "outputs": [
        {
          "output_type": "stream",
          "text": [
            "['Red', 'orange', 'Blue', 'White', 'Grey', 'Sky Blue']\n"
          ],
          "name": "stdout"
        }
      ]
    },
    {
      "cell_type": "markdown",
      "metadata": {
        "id": "k5nl1rqCcV4z"
      },
      "source": [
        "Sort the list and print it."
      ],
      "id": "k5nl1rqCcV4z"
    },
    {
      "cell_type": "code",
      "metadata": {
        "colab": {
          "base_uri": "https://localhost:8080/"
        },
        "id": "1VpG-OkHcV4z",
        "outputId": "75964d02-463e-4ceb-eb9e-51d1c6784c76"
      },
      "source": [
        "# code here\n",
        "colors.sort()\n",
        "print(colors)\n"
      ],
      "id": "1VpG-OkHcV4z",
      "execution_count": 65,
      "outputs": [
        {
          "output_type": "stream",
          "text": [
            "['Blue', 'Grey', 'Red', 'Sky Blue', 'White', 'orange']\n"
          ],
          "name": "stdout"
        }
      ]
    },
    {
      "cell_type": "markdown",
      "metadata": {
        "id": "Oo_4TmH7cV40"
      },
      "source": [
        "#### 1.4. Create a string, sent = ‘Coronavirus Caused Lockdowns Around The World.”"
      ],
      "id": "Oo_4TmH7cV40"
    },
    {
      "cell_type": "markdown",
      "metadata": {
        "id": "DqWCeGLxcV40"
      },
      "source": [
        "<p style='text-align: right;'> 7 points</p>\n"
      ],
      "id": "DqWCeGLxcV40"
    },
    {
      "cell_type": "code",
      "metadata": {
        "id": "yqmpvSmLcV40"
      },
      "source": [
        "# code here\n",
        "sent = 'Coronavirus Caused Lockdowns Around The World.'"
      ],
      "id": "yqmpvSmLcV40",
      "execution_count": 2,
      "outputs": []
    },
    {
      "cell_type": "markdown",
      "metadata": {
        "id": "E_6yCrBhcV41"
      },
      "source": [
        "Use split function to convert the string into a list of words and save it in variable words and print the same"
      ],
      "id": "E_6yCrBhcV41"
    },
    {
      "cell_type": "code",
      "metadata": {
        "colab": {
          "base_uri": "https://localhost:8080/"
        },
        "id": "-AElPQ91cV41",
        "outputId": "00ce371a-1dc9-4c38-eed6-9a4c49fd5314"
      },
      "source": [
        "# code here\n",
        "sent.split()"
      ],
      "id": "-AElPQ91cV41",
      "execution_count": 71,
      "outputs": [
        {
          "output_type": "execute_result",
          "data": {
            "text/plain": [
              "['Coronavirus', 'Caused', 'Lockdowns', 'Around', 'The', 'World.']"
            ]
          },
          "metadata": {
            "tags": []
          },
          "execution_count": 71
        }
      ]
    },
    {
      "cell_type": "markdown",
      "metadata": {
        "id": "dDYENbChcV41"
      },
      "source": [
        "Using list comprehensions, convert each word in the list to lower case and store it in variable words_lower. \n",
        "Print words_lower"
      ],
      "id": "dDYENbChcV41"
    },
    {
      "cell_type": "code",
      "metadata": {
        "colab": {
          "base_uri": "https://localhost:8080/"
        },
        "id": "0DxOPpuscV42",
        "outputId": "25c01a19-e868-48e4-f2d1-f321b152eeec"
      },
      "source": [
        "# code here\n",
        "sent=sent.lower()\n",
        "sent.split()"
      ],
      "id": "0DxOPpuscV42",
      "execution_count": 3,
      "outputs": [
        {
          "output_type": "execute_result",
          "data": {
            "text/plain": [
              "['coronavirus', 'caused', 'lockdowns', 'around', 'the', 'world.']"
            ]
          },
          "metadata": {
            "tags": []
          },
          "execution_count": 3
        }
      ]
    },
    {
      "cell_type": "markdown",
      "metadata": {
        "id": "xZNomaawcV42"
      },
      "source": [
        "Check whether ‘country’ is in the list"
      ],
      "id": "xZNomaawcV42"
    },
    {
      "cell_type": "code",
      "metadata": {
        "colab": {
          "base_uri": "https://localhost:8080/"
        },
        "id": "vYhB32NscV42",
        "outputId": "6c0e861f-547f-4e46-de1f-265f863125db"
      },
      "source": [
        "# code here\n",
        "xx='country'\n",
        "xx in sent"
      ],
      "id": "vYhB32NscV42",
      "execution_count": 79,
      "outputs": [
        {
          "output_type": "execute_result",
          "data": {
            "text/plain": [
              "False"
            ]
          },
          "metadata": {
            "tags": []
          },
          "execution_count": 79
        }
      ]
    },
    {
      "cell_type": "markdown",
      "metadata": {
        "id": "tHctRVwscV43"
      },
      "source": [
        "Remove the element ‘the’ from the list and print the list."
      ],
      "id": "tHctRVwscV43"
    },
    {
      "cell_type": "code",
      "metadata": {
        "colab": {
          "base_uri": "https://localhost:8080/",
          "height": 35
        },
        "id": "uOFtpHC3cV43",
        "outputId": "5a43ff00-c61a-4fac-92d9-7165b24c34ed"
      },
      "source": [
        "# code here\n",
        "sent.replace(\"the\",)"
      ],
      "id": "uOFtpHC3cV43",
      "execution_count": 83,
      "outputs": [
        {
          "output_type": "execute_result",
          "data": {
            "application/vnd.google.colaboratory.intrinsic+json": {
              "type": "string"
            },
            "text/plain": [
              "'coronavirus caused lockdowns around  world.'"
            ]
          },
          "metadata": {
            "tags": []
          },
          "execution_count": 83
        }
      ]
    },
    {
      "cell_type": "markdown",
      "metadata": {
        "id": "adNuX1oYcV44"
      },
      "source": [
        "Select the first 4 words from the list words_lower using slicing and store them in a new variable x4"
      ],
      "id": "adNuX1oYcV44"
    },
    {
      "cell_type": "code",
      "metadata": {
        "id": "vydwZwIicV44"
      },
      "source": [
        "#code here\n",
        "x4=sent[:-6]"
      ],
      "id": "vydwZwIicV44",
      "execution_count": 8,
      "outputs": []
    },
    {
      "cell_type": "code",
      "metadata": {
        "colab": {
          "base_uri": "https://localhost:8080/"
        },
        "id": "5mb-hwpLcV44",
        "outputId": "cb4d695e-6683-4982-de44-adf76fec3948"
      },
      "source": [
        "# print x4\n",
        "print(x4)\n"
      ],
      "id": "5mb-hwpLcV44",
      "execution_count": 9,
      "outputs": [
        {
          "output_type": "stream",
          "text": [
            "coronavirus caused lockdowns around the \n"
          ],
          "name": "stdout"
        }
      ]
    },
    {
      "cell_type": "markdown",
      "metadata": {
        "id": "rXPn2Up_cV45"
      },
      "source": [
        "Convert the list of elements to single string using join function and print it\n",
        "\n",
        "\n",
        "\n"
      ],
      "id": "rXPn2Up_cV45"
    },
    {
      "cell_type": "code",
      "metadata": {
        "id": "Ptu9l7cIcV45",
        "outputId": "66ba11ab-45b1-4cfd-c838-3f4426d0bdee"
      },
      "source": [
        "#code here\n"
      ],
      "id": "Ptu9l7cIcV45",
      "execution_count": null,
      "outputs": [
        {
          "output_type": "execute_result",
          "data": {
            "text/plain": [
              "'coronavirus caused lockdowns around'"
            ]
          },
          "metadata": {
            "tags": []
          },
          "execution_count": 60
        }
      ]
    },
    {
      "cell_type": "markdown",
      "metadata": {
        "id": "rDsxFAZkcV46"
      },
      "source": [
        "## 2. Sets\n",
        "\n",
        "Reference:-https://www.youtube.com/watch?v=sBvaPopWOmQ"
      ],
      "id": "rDsxFAZkcV46"
    },
    {
      "cell_type": "markdown",
      "metadata": {
        "id": "rs8xG8DHcV47"
      },
      "source": [
        "#### 2.1. Create stud_grades = ['A','A','B','C','C','F']"
      ],
      "id": "rs8xG8DHcV47"
    },
    {
      "cell_type": "markdown",
      "metadata": {
        "id": "5Hts2CgvcV47"
      },
      "source": [
        "<p style='text-align: right;'> 7 points</p>\n"
      ],
      "id": "5Hts2CgvcV47"
    },
    {
      "cell_type": "code",
      "metadata": {
        "id": "8VeWCWCecV47"
      },
      "source": [
        "#code here\n",
        "stud_grades = ['A','A','B','C','C','F']"
      ],
      "id": "8VeWCWCecV47",
      "execution_count": 11,
      "outputs": []
    },
    {
      "cell_type": "markdown",
      "metadata": {
        "id": "A33zPSgwcV47"
      },
      "source": [
        "Print the len of stud_grades"
      ],
      "id": "A33zPSgwcV47"
    },
    {
      "cell_type": "code",
      "metadata": {
        "colab": {
          "base_uri": "https://localhost:8080/"
        },
        "id": "E9JTOZS7cV48",
        "outputId": "62f923dd-6383-41e2-d26c-228c0d19048d"
      },
      "source": [
        "#code here\n",
        "print(len(stud_grades))"
      ],
      "id": "E9JTOZS7cV48",
      "execution_count": 12,
      "outputs": [
        {
          "output_type": "stream",
          "text": [
            "6\n"
          ],
          "name": "stdout"
        }
      ]
    },
    {
      "cell_type": "markdown",
      "metadata": {
        "id": "aPd5UA-vcV48"
      },
      "source": [
        "Create a new variable, stud_grades_set = set(stud_grades)"
      ],
      "id": "aPd5UA-vcV48"
    },
    {
      "cell_type": "code",
      "metadata": {
        "id": "YqzIJ0sncV49"
      },
      "source": [
        "#code here\n",
        "stud_grades_set=set(stud_grades)"
      ],
      "id": "YqzIJ0sncV49",
      "execution_count": 19,
      "outputs": []
    },
    {
      "cell_type": "markdown",
      "metadata": {
        "id": "e8YuxkqLcV49"
      },
      "source": [
        "Print stud_grades_set. "
      ],
      "id": "e8YuxkqLcV49"
    },
    {
      "cell_type": "code",
      "metadata": {
        "colab": {
          "base_uri": "https://localhost:8080/"
        },
        "id": "MdZrcvbjcV49",
        "outputId": "9a20ace5-807c-46bf-ae44-d254639aa41d"
      },
      "source": [
        "#code here\n",
        "print(stud_grades_set)"
      ],
      "id": "MdZrcvbjcV49",
      "execution_count": 20,
      "outputs": [
        {
          "output_type": "stream",
          "text": [
            "{'F', 'A', 'B', 'C'}\n"
          ],
          "name": "stdout"
        }
      ]
    },
    {
      "cell_type": "markdown",
      "metadata": {
        "id": "LgPmHDzQcV4-"
      },
      "source": [
        "print the type of stud_grades and stud_grades_set and print their corresponding elements. Try to understand the difference between them."
      ],
      "id": "LgPmHDzQcV4-"
    },
    {
      "cell_type": "code",
      "metadata": {
        "colab": {
          "base_uri": "https://localhost:8080/"
        },
        "id": "Vu6ChnuDcV4-",
        "outputId": "54a47f35-2bba-4169-df58-ec04fa51537b"
      },
      "source": [
        "#code here\n",
        "print(type(stud_grades))\n",
        "print(type(stud_grades_set))\n"
      ],
      "id": "Vu6ChnuDcV4-",
      "execution_count": 21,
      "outputs": [
        {
          "output_type": "stream",
          "text": [
            "<class 'list'>\n",
            "<class 'set'>\n"
          ],
          "name": "stdout"
        }
      ]
    },
    {
      "cell_type": "markdown",
      "metadata": {
        "id": "a8ltYNgzcV4_"
      },
      "source": [
        "Add a new element ‘G’ to stud_grades_set"
      ],
      "id": "a8ltYNgzcV4_"
    },
    {
      "cell_type": "code",
      "metadata": {
        "colab": {
          "base_uri": "https://localhost:8080/"
        },
        "id": "FzUxpEZucV4_",
        "outputId": "3eebcf4e-b9ca-4dcd-a0c5-3b6b8a6c806a"
      },
      "source": [
        "#code here\n",
        "stud_grades_set.add('G')\n",
        "print(stud_grades_set)\n"
      ],
      "id": "FzUxpEZucV4_",
      "execution_count": 23,
      "outputs": [
        {
          "output_type": "stream",
          "text": [
            "{'F', 'C', 'G', 'A', 'B'}\n"
          ],
          "name": "stdout"
        }
      ]
    },
    {
      "cell_type": "markdown",
      "metadata": {
        "id": "_zKC_s4LcV5A"
      },
      "source": [
        "Add element 'F' to stud_grades_set. and print it."
      ],
      "id": "_zKC_s4LcV5A"
    },
    {
      "cell_type": "code",
      "metadata": {
        "colab": {
          "base_uri": "https://localhost:8080/"
        },
        "id": "hx1eq3GJcV5A",
        "outputId": "8ba3adf6-4744-44ab-acb9-3d36ecc4f821"
      },
      "source": [
        "#code here\n",
        "stud_grades_set.add('F')\n",
        "print(stud_grades_set)\n"
      ],
      "id": "hx1eq3GJcV5A",
      "execution_count": 25,
      "outputs": [
        {
          "output_type": "stream",
          "text": [
            "{'F', 'C', 'G', 'A', 'B'}\n"
          ],
          "name": "stdout"
        }
      ]
    },
    {
      "cell_type": "markdown",
      "metadata": {
        "id": "vXmOWHVUcV5A"
      },
      "source": [
        "!!Did you notice? set doesn't add an element if it's already present in it, unlike lists."
      ],
      "id": "vXmOWHVUcV5A"
    },
    {
      "cell_type": "markdown",
      "metadata": {
        "id": "6xKPKy0FcV5B"
      },
      "source": [
        "Remove ‘F’ from stud_grades_set"
      ],
      "id": "6xKPKy0FcV5B"
    },
    {
      "cell_type": "code",
      "metadata": {
        "id": "zDl-EqpjcV5B"
      },
      "source": [
        "#code here\n",
        "\n",
        "stud_grades_set.remove('F')"
      ],
      "id": "zDl-EqpjcV5B",
      "execution_count": 26,
      "outputs": []
    },
    {
      "cell_type": "markdown",
      "metadata": {
        "id": "D7nRWYNwcV5C"
      },
      "source": [
        "Print the elements and the length of stud_grades_set"
      ],
      "id": "D7nRWYNwcV5C"
    },
    {
      "cell_type": "code",
      "metadata": {
        "colab": {
          "base_uri": "https://localhost:8080/"
        },
        "id": "pbPaG4ELZ34R",
        "outputId": "48164813-1f80-4482-b0c0-d0ea7ab8c535"
      },
      "source": [
        "print(stud_grades_set)\n",
        "len(stud_grades_set)"
      ],
      "id": "pbPaG4ELZ34R",
      "execution_count": 27,
      "outputs": [
        {
          "output_type": "stream",
          "text": [
            "{'C', 'G', 'A', 'B'}\n"
          ],
          "name": "stdout"
        },
        {
          "output_type": "execute_result",
          "data": {
            "text/plain": [
              "4"
            ]
          },
          "metadata": {
            "tags": []
          },
          "execution_count": 27
        }
      ]
    },
    {
      "cell_type": "code",
      "metadata": {
        "id": "kqE_qmbZcV5C",
        "outputId": "789d7cb0-c375-4c0d-9c8c-aa1edce1a193"
      },
      "source": [
        "#code here\n",
        "\n"
      ],
      "id": "kqE_qmbZcV5C",
      "execution_count": null,
      "outputs": [
        {
          "output_type": "stream",
          "text": [
            "{'G', 'A', 'B', 'C'}\n",
            "4\n"
          ],
          "name": "stdout"
        }
      ]
    },
    {
      "cell_type": "markdown",
      "metadata": {
        "id": "gOJfFbYHcV5C"
      },
      "source": [
        "#### 2.2. Create colors = [‘red’,’blue’,’orange’], and fruits = [‘orange’,’grapes’,’apples’] "
      ],
      "id": "gOJfFbYHcV5C"
    },
    {
      "cell_type": "markdown",
      "metadata": {
        "id": "92QucPVfcV5D"
      },
      "source": [
        "<p style='text-align: right;'> 6 points</p>\n"
      ],
      "id": "92QucPVfcV5D"
    },
    {
      "cell_type": "code",
      "metadata": {
        "id": "cPWmIqvhcV5D"
      },
      "source": [
        "#code here\n",
        "\n",
        "colors=['red','blue','orange']\n",
        "fruits=['orange','grapes','apples']"
      ],
      "id": "cPWmIqvhcV5D",
      "execution_count": 28,
      "outputs": []
    },
    {
      "cell_type": "markdown",
      "metadata": {
        "id": "ARsYHQFYcV5E"
      },
      "source": [
        "Print color and fruits"
      ],
      "id": "ARsYHQFYcV5E"
    },
    {
      "cell_type": "code",
      "metadata": {
        "colab": {
          "base_uri": "https://localhost:8080/"
        },
        "id": "yxUN3QN_cV5E",
        "outputId": "2cfeda0e-da10-4093-cbab-3f53fd093c67"
      },
      "source": [
        "#code here\n",
        "print(colors)\n",
        "print(fruits)"
      ],
      "id": "yxUN3QN_cV5E",
      "execution_count": 29,
      "outputs": [
        {
          "output_type": "stream",
          "text": [
            "['red', 'blue', 'orange']\n",
            "['orange', 'grapes', 'apples']\n"
          ],
          "name": "stdout"
        }
      ]
    },
    {
      "cell_type": "markdown",
      "metadata": {
        "id": "P5XtxGLzcV5F"
      },
      "source": [
        "Create colors_set, and fruits_set. (using set() ) and print them"
      ],
      "id": "P5XtxGLzcV5F"
    },
    {
      "cell_type": "code",
      "metadata": {
        "colab": {
          "base_uri": "https://localhost:8080/"
        },
        "id": "_x1nW5n8cV5F",
        "outputId": "1cdbcf5c-8b19-4f3c-d84e-4199ecf29e49"
      },
      "source": [
        "#code here\n",
        "\n",
        "colors_set=set(colors)\n",
        "fruits_set=set(fruits)\n",
        "print(colors_set)\n",
        "print(fruits_set)"
      ],
      "id": "_x1nW5n8cV5F",
      "execution_count": 31,
      "outputs": [
        {
          "output_type": "stream",
          "text": [
            "{'blue', 'red', 'orange'}\n",
            "{'grapes', 'apples', 'orange'}\n"
          ],
          "name": "stdout"
        }
      ]
    },
    {
      "cell_type": "markdown",
      "metadata": {
        "id": "xi7sjby6cV5F"
      },
      "source": [
        "Find the union of both the sets."
      ],
      "id": "xi7sjby6cV5F"
    },
    {
      "cell_type": "code",
      "metadata": {
        "colab": {
          "base_uri": "https://localhost:8080/"
        },
        "id": "4nYnEADjcV5G",
        "outputId": "e57a4f4c-bf6e-4b3f-d9f8-c69185a786e0"
      },
      "source": [
        "#code here\n",
        "print(colors_set.union(fruits_set))\n",
        "\n",
        "\n"
      ],
      "id": "4nYnEADjcV5G",
      "execution_count": 37,
      "outputs": [
        {
          "output_type": "stream",
          "text": [
            "{'blue', 'red', 'apples', 'grapes', 'orange'}\n"
          ],
          "name": "stdout"
        }
      ]
    },
    {
      "cell_type": "markdown",
      "metadata": {
        "id": "k50fP4f0cV5G"
      },
      "source": [
        "Find the intersection of both the sets "
      ],
      "id": "k50fP4f0cV5G"
    },
    {
      "cell_type": "code",
      "metadata": {
        "colab": {
          "base_uri": "https://localhost:8080/"
        },
        "id": "nRfEUPvYcV5H",
        "outputId": "63c3f351-0d10-44c8-bdac-bfe8920ebdb4"
      },
      "source": [
        "#code here\n",
        "print({element for element in colors_set if element in fruits_set})\n"
      ],
      "id": "nRfEUPvYcV5H",
      "execution_count": 38,
      "outputs": [
        {
          "output_type": "stream",
          "text": [
            "{'orange'}\n"
          ],
          "name": "stdout"
        }
      ]
    },
    {
      "cell_type": "markdown",
      "metadata": {
        "id": "TCbuP951cV5H"
      },
      "source": [
        "Find the elements which are Fruits but not colors (using set.difference() )"
      ],
      "id": "TCbuP951cV5H"
    },
    {
      "cell_type": "code",
      "metadata": {
        "colab": {
          "base_uri": "https://localhost:8080/"
        },
        "id": "vBG5OTKncV5I",
        "outputId": "81b27783-cc26-4e16-deb9-beaaf1a0496d"
      },
      "source": [
        "#code here\n",
        "print({element for element in fruits_set if element not in colors_set})\n"
      ],
      "id": "vBG5OTKncV5I",
      "execution_count": 42,
      "outputs": [
        {
          "output_type": "stream",
          "text": [
            "{'grapes', 'apples'}\n"
          ],
          "name": "stdout"
        }
      ]
    },
    {
      "cell_type": "markdown",
      "metadata": {
        "id": "-7yWFbg-cV5I"
      },
      "source": [
        "## 3. TUPLES\n",
        "\n",
        "Reference:-https://www.youtube.com/watch?v=NI26dqhs2Rk"
      ],
      "id": "-7yWFbg-cV5I"
    },
    {
      "cell_type": "markdown",
      "metadata": {
        "id": "9J5E8OuPcV5J"
      },
      "source": [
        "#### 3.1 . Create temp = [17, ’Virat’, 50.0]"
      ],
      "id": "9J5E8OuPcV5J"
    },
    {
      "cell_type": "markdown",
      "metadata": {
        "id": "G2GQpEk3cV5J"
      },
      "source": [
        "<p style='text-align: right;'> 7 points</p>\n"
      ],
      "id": "G2GQpEk3cV5J"
    },
    {
      "cell_type": "code",
      "metadata": {
        "id": "4M0IECqZcV5J"
      },
      "source": [
        "#code here\n",
        "\n",
        "\n",
        "temp = [17, 'Virat', 50.0]"
      ],
      "id": "4M0IECqZcV5J",
      "execution_count": 44,
      "outputs": []
    },
    {
      "cell_type": "markdown",
      "metadata": {
        "id": "sr3h_x8gcV5K"
      },
      "source": [
        "Iterate through temp and print all the items in temp"
      ],
      "id": "sr3h_x8gcV5K"
    },
    {
      "cell_type": "code",
      "metadata": {
        "colab": {
          "base_uri": "https://localhost:8080/"
        },
        "id": "36cBYJsIcV5K",
        "outputId": "86d399e8-7d2b-4c7c-a818-239259c9aa85"
      },
      "source": [
        "#code here\n",
        "for i in range(len(temp)):\n",
        "  print(temp[i])\n",
        "\n"
      ],
      "id": "36cBYJsIcV5K",
      "execution_count": 45,
      "outputs": [
        {
          "output_type": "stream",
          "text": [
            "17\n",
            "Virat\n",
            "50.0\n"
          ],
          "name": "stdout"
        }
      ]
    },
    {
      "cell_type": "markdown",
      "metadata": {
        "id": "ubOEkOiYcV5L"
      },
      "source": [
        "replace first element with 11 in temp"
      ],
      "id": "ubOEkOiYcV5L"
    },
    {
      "cell_type": "code",
      "metadata": {
        "id": "d3N0U41bcV5L"
      },
      "source": [
        "#code here\n",
        "temp[0]=11\n"
      ],
      "id": "d3N0U41bcV5L",
      "execution_count": 46,
      "outputs": []
    },
    {
      "cell_type": "markdown",
      "metadata": {
        "id": "4H8NeO8dcV5M"
      },
      "source": [
        "Set temp1 = tuple(temp)"
      ],
      "id": "4H8NeO8dcV5M"
    },
    {
      "cell_type": "code",
      "metadata": {
        "id": "EnoV9AXUcV5M"
      },
      "source": [
        "#code here\n",
        "temp1=tuple(temp)\n"
      ],
      "id": "EnoV9AXUcV5M",
      "execution_count": 47,
      "outputs": []
    },
    {
      "cell_type": "markdown",
      "metadata": {
        "id": "7709UBfccV5N"
      },
      "source": [
        "Iterate through temp1 and print all the items in temp1. "
      ],
      "id": "7709UBfccV5N"
    },
    {
      "cell_type": "code",
      "metadata": {
        "colab": {
          "base_uri": "https://localhost:8080/"
        },
        "id": "3jK2YxVccV5N",
        "outputId": "90adaa8d-87a8-4f14-fae8-b6f84edbc26b"
      },
      "source": [
        "#code here\n",
        "\n",
        "for i in range(len(temp1)):\n",
        "  print(temp1[i])"
      ],
      "id": "3jK2YxVccV5N",
      "execution_count": 48,
      "outputs": [
        {
          "output_type": "stream",
          "text": [
            "11\n",
            "Virat\n",
            "50.0\n"
          ],
          "name": "stdout"
        }
      ]
    },
    {
      "cell_type": "markdown",
      "metadata": {
        "id": "X6f9eXnjcV5O"
      },
      "source": [
        "replace first element with 17 in temp1"
      ],
      "id": "X6f9eXnjcV5O"
    },
    {
      "cell_type": "code",
      "metadata": {
        "colab": {
          "base_uri": "https://localhost:8080/",
          "height": 178
        },
        "id": "ws2iNbKUcV5O",
        "outputId": "84a48267-0bfa-47ee-dfea-8cc4a01415de"
      },
      "source": [
        "#code here\n",
        "temp1[0]=17\n"
      ],
      "id": "ws2iNbKUcV5O",
      "execution_count": 49,
      "outputs": [
        {
          "output_type": "error",
          "ename": "TypeError",
          "evalue": "ignored",
          "traceback": [
            "\u001b[0;31m---------------------------------------------------------------------------\u001b[0m",
            "\u001b[0;31mTypeError\u001b[0m                                 Traceback (most recent call last)",
            "\u001b[0;32m<ipython-input-49-8e04226ee3c4>\u001b[0m in \u001b[0;36m<module>\u001b[0;34m()\u001b[0m\n\u001b[1;32m      1\u001b[0m \u001b[0;31m#code here\u001b[0m\u001b[0;34m\u001b[0m\u001b[0;34m\u001b[0m\u001b[0;34m\u001b[0m\u001b[0m\n\u001b[0;32m----> 2\u001b[0;31m \u001b[0mtemp1\u001b[0m\u001b[0;34m[\u001b[0m\u001b[0;36m0\u001b[0m\u001b[0;34m]\u001b[0m\u001b[0;34m=\u001b[0m\u001b[0;36m17\u001b[0m\u001b[0;34m\u001b[0m\u001b[0;34m\u001b[0m\u001b[0m\n\u001b[0m",
            "\u001b[0;31mTypeError\u001b[0m: 'tuple' object does not support item assignment"
          ]
        }
      ]
    },
    {
      "cell_type": "markdown",
      "metadata": {
        "id": "Lqf7HfxgcV5O"
      },
      "source": [
        "<b>Oops!! You got an error. Hey Don't worry! Its because Once a tuple is created, you cannot change its values unlike list.</b>"
      ],
      "id": "Lqf7HfxgcV5O"
    },
    {
      "cell_type": "markdown",
      "metadata": {
        "id": "HNouQIaDcV5P"
      },
      "source": [
        "#### 3.2 . Create city = (\"Bangalore\", 28.9949521, 72)"
      ],
      "id": "HNouQIaDcV5P"
    },
    {
      "cell_type": "markdown",
      "metadata": {
        "id": "DXuJ8vDWcV5P"
      },
      "source": [
        "<p style='text-align: right;'> 6 points</p>\n"
      ],
      "id": "DXuJ8vDWcV5P"
    },
    {
      "cell_type": "code",
      "metadata": {
        "id": "lyMz_YOucV5Q"
      },
      "source": [
        "#code here\n",
        "\n",
        "city = (\"Bangalore\", 28.9949521, 72)"
      ],
      "id": "lyMz_YOucV5Q",
      "execution_count": 50,
      "outputs": []
    },
    {
      "cell_type": "markdown",
      "metadata": {
        "id": "eV3ZZ594cV5Q"
      },
      "source": [
        "Print first element of city"
      ],
      "id": "eV3ZZ594cV5Q"
    },
    {
      "cell_type": "code",
      "metadata": {
        "colab": {
          "base_uri": "https://localhost:8080/"
        },
        "id": "xWZvT2lPcV5Q",
        "outputId": "8c97fe10-7326-4c9c-9d09-6f465d8e08a7"
      },
      "source": [
        "#code here\n",
        "\n",
        "print(city[0])"
      ],
      "id": "xWZvT2lPcV5Q",
      "execution_count": 53,
      "outputs": [
        {
          "output_type": "stream",
          "text": [
            "Bangalore\n"
          ],
          "name": "stdout"
        }
      ]
    },
    {
      "cell_type": "markdown",
      "metadata": {
        "id": "bk_qIOxmcV5R"
      },
      "source": [
        "Create city2 = (‘Chennai’, 30.01, 74)"
      ],
      "id": "bk_qIOxmcV5R"
    },
    {
      "cell_type": "code",
      "metadata": {
        "id": "UMr9rSBpcV5S"
      },
      "source": [
        "#code here\n",
        "\n",
        "city2 = ('Chennai', 30.01, 74)"
      ],
      "id": "UMr9rSBpcV5S",
      "execution_count": 54,
      "outputs": []
    },
    {
      "cell_type": "markdown",
      "metadata": {
        "id": "b79vYo_7cV5S"
      },
      "source": [
        "Create cities which consist of city and city2"
      ],
      "id": "b79vYo_7cV5S"
    },
    {
      "cell_type": "code",
      "metadata": {
        "id": "0RrtF_OGcV5T"
      },
      "source": [
        "#code here\n",
        "\n",
        "cities=city+city2"
      ],
      "id": "0RrtF_OGcV5T",
      "execution_count": 58,
      "outputs": []
    },
    {
      "cell_type": "markdown",
      "metadata": {
        "id": "1QQx7yVpcV5U"
      },
      "source": [
        "Print cities"
      ],
      "id": "1QQx7yVpcV5U"
    },
    {
      "cell_type": "code",
      "metadata": {
        "colab": {
          "base_uri": "https://localhost:8080/"
        },
        "id": "XULgF9E3cV5V",
        "outputId": "21f77ba2-2111-4671-fd7b-2444d8bc7b17"
      },
      "source": [
        "#code here\n",
        "\n",
        "print(cities)"
      ],
      "id": "XULgF9E3cV5V",
      "execution_count": 59,
      "outputs": [
        {
          "output_type": "stream",
          "text": [
            "('Bangalore', 28.9949521, 72, 'Chennai', 30.01, 74)\n"
          ],
          "name": "stdout"
        }
      ]
    },
    {
      "cell_type": "markdown",
      "metadata": {
        "id": "cc75_bf-cV5W"
      },
      "source": [
        "Print type of first element in cities"
      ],
      "id": "cc75_bf-cV5W"
    },
    {
      "cell_type": "code",
      "metadata": {
        "colab": {
          "base_uri": "https://localhost:8080/"
        },
        "id": "qaKlAPYtcV5W",
        "outputId": "1aedea12-22d4-4ef3-dec9-d83ba016b9ef"
      },
      "source": [
        "#code here\n",
        "\n",
        "print(cities[0])"
      ],
      "id": "qaKlAPYtcV5W",
      "execution_count": 62,
      "outputs": [
        {
          "output_type": "stream",
          "text": [
            "Bangalore\n"
          ],
          "name": "stdout"
        }
      ]
    },
    {
      "cell_type": "markdown",
      "metadata": {
        "id": "f3ovcl1rcV5X"
      },
      "source": [
        "print the type of cities\n"
      ],
      "id": "f3ovcl1rcV5X"
    },
    {
      "cell_type": "code",
      "metadata": {
        "colab": {
          "base_uri": "https://localhost:8080/"
        },
        "id": "AGU2b2vRcV5X",
        "outputId": "68920ac3-00e6-45b6-ac0b-d8203f0c0666"
      },
      "source": [
        "#code here\n",
        "print(type(cities))\n"
      ],
      "id": "AGU2b2vRcV5X",
      "execution_count": 61,
      "outputs": [
        {
          "output_type": "stream",
          "text": [
            "<class 'tuple'>\n"
          ],
          "name": "stdout"
        }
      ]
    },
    {
      "cell_type": "markdown",
      "metadata": {
        "id": "asEmuwDjcV5Y"
      },
      "source": [
        "Hey that implies you made a nested tuples!!"
      ],
      "id": "asEmuwDjcV5Y"
    },
    {
      "cell_type": "markdown",
      "metadata": {
        "id": "ujFYpZw-cV5Y"
      },
      "source": [
        "## 4. DICT\n",
        "\n",
        "Reference:-https://www.youtube.com/watch?v=XCcpzWs-CI4"
      ],
      "id": "ujFYpZw-cV5Y"
    },
    {
      "cell_type": "markdown",
      "metadata": {
        "id": "2pE-gxUPcV5Y"
      },
      "source": [
        "<p style='text-align: right;'> 11 points</p>\n"
      ],
      "id": "2pE-gxUPcV5Y"
    },
    {
      "cell_type": "markdown",
      "metadata": {
        "id": "Qadh6m3KcV5Z"
      },
      "source": [
        "#### 4.1 Create a dictionary d = {\"actor\":\"amir\",\"animal\":\"cat\",\"earth\":2,\"list\":[23,32,12]}"
      ],
      "id": "Qadh6m3KcV5Z"
    },
    {
      "cell_type": "code",
      "metadata": {
        "id": "ZFAvJlE4cV5Z"
      },
      "source": [
        "#code here\n",
        "\n",
        "d = {\"actor\":\"amir\",\"animal\":\"cat\",\"earth\":2,\"list\":[23,32,12]}"
      ],
      "id": "ZFAvJlE4cV5Z",
      "execution_count": 63,
      "outputs": []
    },
    {
      "cell_type": "markdown",
      "metadata": {
        "id": "_STwfBr2cV5Z"
      },
      "source": [
        "Print the value of d[0]"
      ],
      "id": "_STwfBr2cV5Z"
    },
    {
      "cell_type": "code",
      "metadata": {
        "colab": {
          "base_uri": "https://localhost:8080/",
          "height": 178
        },
        "id": "hnYCskbEcV5a",
        "outputId": "c17680d0-2ca4-4f5f-c298-797ceadfd903"
      },
      "source": [
        "#code here\n",
        "print(d[0])\n"
      ],
      "id": "hnYCskbEcV5a",
      "execution_count": 64,
      "outputs": [
        {
          "output_type": "error",
          "ename": "KeyError",
          "evalue": "ignored",
          "traceback": [
            "\u001b[0;31m---------------------------------------------------------------------------\u001b[0m",
            "\u001b[0;31mKeyError\u001b[0m                                  Traceback (most recent call last)",
            "\u001b[0;32m<ipython-input-64-ca7d9023e2b8>\u001b[0m in \u001b[0;36m<module>\u001b[0;34m()\u001b[0m\n\u001b[1;32m      1\u001b[0m \u001b[0;31m#code here\u001b[0m\u001b[0;34m\u001b[0m\u001b[0;34m\u001b[0m\u001b[0;34m\u001b[0m\u001b[0m\n\u001b[0;32m----> 2\u001b[0;31m \u001b[0mprint\u001b[0m\u001b[0;34m(\u001b[0m\u001b[0md\u001b[0m\u001b[0;34m[\u001b[0m\u001b[0;36m0\u001b[0m\u001b[0;34m]\u001b[0m\u001b[0;34m)\u001b[0m\u001b[0;34m\u001b[0m\u001b[0;34m\u001b[0m\u001b[0m\n\u001b[0m",
            "\u001b[0;31mKeyError\u001b[0m: 0"
          ]
        }
      ]
    },
    {
      "cell_type": "markdown",
      "metadata": {
        "id": "scIB4mnycV5a"
      },
      "source": [
        "<b>Oops!! again an error. again a fun fact. Dictionary return the value for key if key is in the dictionary, else throws KeyError\n",
        "and we don't have key 0 here :( </b>"
      ],
      "id": "scIB4mnycV5a"
    },
    {
      "cell_type": "markdown",
      "metadata": {
        "id": "p2vVO2uZcV5b"
      },
      "source": [
        "Store the value of d[‘actor’] to a new variable actor."
      ],
      "id": "p2vVO2uZcV5b"
    },
    {
      "cell_type": "code",
      "metadata": {
        "id": "ZBvE8ciXcV5b"
      },
      "source": [
        "#code here\n",
        "actor=d['actor']\n"
      ],
      "id": "ZBvE8ciXcV5b",
      "execution_count": 66,
      "outputs": []
    },
    {
      "cell_type": "markdown",
      "metadata": {
        "id": "q9MwDZkMcV5c"
      },
      "source": [
        "Print the type of actor"
      ],
      "id": "q9MwDZkMcV5c"
    },
    {
      "cell_type": "code",
      "metadata": {
        "colab": {
          "base_uri": "https://localhost:8080/"
        },
        "id": "oTYo2j7OcV5c",
        "outputId": "e531454e-0d3e-438b-d4fa-0eb839c17186"
      },
      "source": [
        "#code here\n",
        "\n",
        "print(type(actor))"
      ],
      "id": "oTYo2j7OcV5c",
      "execution_count": 67,
      "outputs": [
        {
          "output_type": "stream",
          "text": [
            "<class 'str'>\n"
          ],
          "name": "stdout"
        }
      ]
    },
    {
      "cell_type": "markdown",
      "metadata": {
        "id": "_RIXrybHcV5d"
      },
      "source": [
        "Store the value of d[‘list’] in new variable l. "
      ],
      "id": "_RIXrybHcV5d"
    },
    {
      "cell_type": "code",
      "metadata": {
        "id": "_0GWCY7gcV5d"
      },
      "source": [
        "#code here\n",
        "l=d['list']\n"
      ],
      "id": "_0GWCY7gcV5d",
      "execution_count": 68,
      "outputs": []
    },
    {
      "cell_type": "markdown",
      "metadata": {
        "id": "g-Ee57TAcV5e"
      },
      "source": [
        "Print the type of l. "
      ],
      "id": "g-Ee57TAcV5e"
    },
    {
      "cell_type": "code",
      "metadata": {
        "colab": {
          "base_uri": "https://localhost:8080/"
        },
        "id": "rK9BP_qMcV5e",
        "outputId": "4d5df1ef-4c1a-4b79-9ffa-8f3b1f03c604"
      },
      "source": [
        "#code here\n",
        "\n",
        "print(type(l))"
      ],
      "id": "rK9BP_qMcV5e",
      "execution_count": 69,
      "outputs": [
        {
          "output_type": "stream",
          "text": [
            "<class 'list'>\n"
          ],
          "name": "stdout"
        }
      ]
    },
    {
      "cell_type": "markdown",
      "metadata": {
        "id": "xrCdC3S7cV5e"
      },
      "source": [
        "Create d1 = { ‘singer’ : ‘Kr$na’ , ‘album’: ‘Still here’, ‘genre’ : ‘hip-hop’}"
      ],
      "id": "xrCdC3S7cV5e"
    },
    {
      "cell_type": "code",
      "metadata": {
        "id": "4FfKRhPncV5f"
      },
      "source": [
        "#code here\n",
        "d1 = {'singer':'Kr$na','album':'Still here','genre':'hip-hop'}\n",
        "\n",
        "\n",
        "\n"
      ],
      "id": "4FfKRhPncV5f",
      "execution_count": 70,
      "outputs": []
    },
    {
      "cell_type": "markdown",
      "metadata": {
        "id": "MfI8T89LcV5f"
      },
      "source": [
        "Merge d1 into d."
      ],
      "id": "MfI8T89LcV5f"
    },
    {
      "cell_type": "code",
      "metadata": {
        "id": "iPdY9srEcV5g"
      },
      "source": [
        "#code here\n",
        "d.update(d1)\n"
      ],
      "id": "iPdY9srEcV5g",
      "execution_count": 72,
      "outputs": []
    },
    {
      "cell_type": "markdown",
      "metadata": {
        "id": "W-rznh8OcV5g"
      },
      "source": [
        "print d"
      ],
      "id": "W-rznh8OcV5g"
    },
    {
      "cell_type": "code",
      "metadata": {
        "colab": {
          "base_uri": "https://localhost:8080/"
        },
        "id": "vD4AEiH9cV5g",
        "outputId": "15f16892-a2c2-4917-84ec-0e2e4c6e4b07"
      },
      "source": [
        "#code here\n",
        "\n",
        "print(d)"
      ],
      "id": "vD4AEiH9cV5g",
      "execution_count": 73,
      "outputs": [
        {
          "output_type": "stream",
          "text": [
            "{'actor': 'amir', 'animal': 'cat', 'earth': 2, 'list': [23, 32, 12], 'singer': 'Kr$na', 'album': 'Still here', 'genre': 'hip-hop'}\n"
          ],
          "name": "stdout"
        }
      ]
    },
    {
      "cell_type": "markdown",
      "metadata": {
        "id": "5AYHcUrncV5h"
      },
      "source": [
        "Print all the keys in d"
      ],
      "id": "5AYHcUrncV5h"
    },
    {
      "cell_type": "code",
      "metadata": {
        "colab": {
          "base_uri": "https://localhost:8080/"
        },
        "id": "OtdbnisicV5h",
        "outputId": "8a9aed17-bed6-40f2-f963-027ba84c8f66"
      },
      "source": [
        "#code here\n",
        "print(d.keys())\n",
        "\n"
      ],
      "id": "OtdbnisicV5h",
      "execution_count": 74,
      "outputs": [
        {
          "output_type": "stream",
          "text": [
            "dict_keys(['actor', 'animal', 'earth', 'list', 'singer', 'album', 'genre'])\n"
          ],
          "name": "stdout"
        }
      ]
    },
    {
      "cell_type": "markdown",
      "metadata": {
        "id": "72oJV2OUcV5i"
      },
      "source": [
        "Print all the values in d"
      ],
      "id": "72oJV2OUcV5i"
    },
    {
      "cell_type": "code",
      "metadata": {
        "colab": {
          "base_uri": "https://localhost:8080/"
        },
        "id": "KX9gQBmhcV5i",
        "outputId": "39025681-5cc2-4017-d3b2-da11ed674884"
      },
      "source": [
        "#code here\n",
        "print(d.values())\n"
      ],
      "id": "KX9gQBmhcV5i",
      "execution_count": 75,
      "outputs": [
        {
          "output_type": "stream",
          "text": [
            "dict_values(['amir', 'cat', 2, [23, 32, 12], 'Kr$na', 'Still here', 'hip-hop'])\n"
          ],
          "name": "stdout"
        }
      ]
    },
    {
      "cell_type": "markdown",
      "metadata": {
        "id": "PZCDLXXacV5j"
      },
      "source": [
        "Iterate over d, and print each key, value pair as given in output"
      ],
      "id": "PZCDLXXacV5j"
    },
    {
      "cell_type": "code",
      "metadata": {
        "colab": {
          "base_uri": "https://localhost:8080/"
        },
        "id": "yGU8zkSycV5j",
        "outputId": "de64cb1a-a1e5-4003-cecb-16b878984779"
      },
      "source": [
        "#code here\n",
        "\n",
        "for key in d:\n",
        "  print(key,\"->\",d[key])\n"
      ],
      "id": "yGU8zkSycV5j",
      "execution_count": 76,
      "outputs": [
        {
          "output_type": "stream",
          "text": [
            "actor -> amir\n",
            "animal -> cat\n",
            "earth -> 2\n",
            "list -> [23, 32, 12]\n",
            "singer -> Kr$na\n",
            "album -> Still here\n",
            "genre -> hip-hop\n"
          ],
          "name": "stdout"
        }
      ]
    },
    {
      "cell_type": "markdown",
      "metadata": {
        "id": "ZcvP7IFqcV5k"
      },
      "source": [
        "count the number of occurences of charachters in string named \"sent\" using dictionary and print the same.\n"
      ],
      "id": "ZcvP7IFqcV5k"
    },
    {
      "cell_type": "code",
      "metadata": {
        "colab": {
          "base_uri": "https://localhost:8080/"
        },
        "id": "WSkoRUOecV5k",
        "outputId": "29c1d87d-d68c-4383-f016-002b5d2fa084"
      },
      "source": [
        "#code here\n",
        " \n",
        "print(sent)\n",
        "\n"
      ],
      "id": "WSkoRUOecV5k",
      "execution_count": 77,
      "outputs": [
        {
          "output_type": "stream",
          "text": [
            "coronavirus caused lockdowns around the world.\n"
          ],
          "name": "stdout"
        }
      ]
    },
    {
      "cell_type": "markdown",
      "metadata": {
        "id": "Fn39Lyr3cV5k"
      },
      "source": [
        "# --------------------------------------------------------------------"
      ],
      "id": "Fn39Lyr3cV5k"
    },
    {
      "cell_type": "markdown",
      "metadata": {
        "id": "kU6CtNdHcV5l"
      },
      "source": [
        "# Hurray!! Second milestone completed. The next challenge is waiting for you :)\n",
        "\n",
        "# --------------------------------------------------------------------\n",
        "\n",
        "-----------------\n",
        "# FeedBack\n",
        "We hope you’ve enjoyed this course so far. We’re committed to help you use \"AI for All\" course to its full potential, so that you have a great learning experience. And that’s why we need your help in form of a feedback here.\n",
        "\n",
        "Please fill this feedback form  https://zfrmz.in/MtRG5oWXBdesm6rmSM7N"
      ],
      "id": "kU6CtNdHcV5l"
    }
  ]
}